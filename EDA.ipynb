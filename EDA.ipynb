{
  "nbformat": 4,
  "nbformat_minor": 0,
  "metadata": {
    "colab": {
      "name": "EDA.ipynb",
      "provenance": [],
      "include_colab_link": true
    },
    "kernelspec": {
      "name": "python3",
      "display_name": "Python 3"
    }
  },
  "cells": [
    {
      "cell_type": "markdown",
      "metadata": {
        "id": "view-in-github",
        "colab_type": "text"
      },
      "source": [
        "<a href=\"https://colab.research.google.com/github/AnnieCRY/DS5230-project/blob/master/EDA.ipynb\" target=\"_parent\"><img src=\"https://colab.research.google.com/assets/colab-badge.svg\" alt=\"Open In Colab\"/></a>"
      ]
    },
    {
      "cell_type": "markdown",
      "metadata": {
        "id": "Y7BvdDI3Tr1V",
        "colab_type": "text"
      },
      "source": [
        "#### load in processed data from previous step"
      ]
    },
    {
      "cell_type": "code",
      "metadata": {
        "id": "J37XxCiVAvLA",
        "colab_type": "code",
        "colab": {
          "base_uri": "https://localhost:8080/",
          "height": 35
        },
        "outputId": "e4b33af7-d5b0-4601-d5d6-f3b9fe8715f8"
      },
      "source": [
        "# mount google drive\n",
        "from google.colab import drive\n",
        "drive.mount(\"/content/gdrive\")"
      ],
      "execution_count": 1,
      "outputs": [
        {
          "output_type": "stream",
          "text": [
            "Drive already mounted at /content/gdrive; to attempt to forcibly remount, call drive.mount(\"/content/gdrive\", force_remount=True).\n"
          ],
          "name": "stdout"
        }
      ]
    },
    {
      "cell_type": "code",
      "metadata": {
        "id": "FGXhgH_XTrcb",
        "colab_type": "code",
        "colab": {}
      },
      "source": [
        "# move zip file to colab vm\n",
        "! cp -r gdrive/My\\ Drive/5230Project/processed_data ./"
      ],
      "execution_count": 2,
      "outputs": []
    },
    {
      "cell_type": "code",
      "metadata": {
        "id": "buOPWeJ8SXPD",
        "colab_type": "code",
        "colab": {}
      },
      "source": [
        "import pandas as pd\n",
        "def modify_labels(path):\n",
        "    csv_file = path + \"/labels_BeeNotBee_th0.csv\"\n",
        "    labels_BeeNotBee_th0 = pd.read_csv(csv_file, index_col=0)\n",
        "\n",
        "    def add_new_labels(df):\n",
        "        labels_l=[]\n",
        "        for x in df['label_strength']:\n",
        "            if x>0.95:\n",
        "                labels_l.append('nobee') \n",
        "            elif x==0:\n",
        "                labels_l.append('bee') \n",
        "            else:\n",
        "                labels_l.append('unknown') \n",
        "        df['label']=labels_l\n",
        "        return df\n",
        "    \n",
        "    labels_BeeNotBee_th0=add_new_labels(labels_BeeNotBee_th0)\n",
        "    labels_BeeNotBee_th0.to_csv(csv_file, index=False)"
      ],
      "execution_count": 5,
      "outputs": []
    },
    {
      "cell_type": "code",
      "metadata": {
        "id": "31uuW1NrSaRh",
        "colab_type": "code",
        "colab": {}
      },
      "source": [
        "modify_labels('/content/processed_data/dataset_BeeNoBee_5sec')"
      ],
      "execution_count": 6,
      "outputs": []
    },
    {
      "cell_type": "code",
      "metadata": {
        "id": "d7yTLDxnTrfC",
        "colab_type": "code",
        "colab": {
          "base_uri": "https://localhost:8080/",
          "height": 141
        },
        "outputId": "25981867-ea86-4b5b-abf7-9ac16c2ad42f"
      },
      "source": [
        "# download the supporting files from github\n",
        "! rm -rf Audio_based_identification_beehive_states/\n",
        "! git clone https://github.com/Tonyz4516/Audio_based_identification_beehive_states.git"
      ],
      "execution_count": 7,
      "outputs": [
        {
          "output_type": "stream",
          "text": [
            "Cloning into 'Audio_based_identification_beehive_states'...\n",
            "remote: Enumerating objects: 4, done.\u001b[K\n",
            "remote: Counting objects:  25% (1/4)\u001b[K\rremote: Counting objects:  50% (2/4)\u001b[K\rremote: Counting objects:  75% (3/4)\u001b[K\rremote: Counting objects: 100% (4/4)\u001b[K\rremote: Counting objects: 100% (4/4), done.\u001b[K\n",
            "remote: Compressing objects:  25% (1/4)\u001b[K\rremote: Compressing objects:  50% (2/4)\u001b[K\rremote: Compressing objects:  75% (3/4)\u001b[K\rremote: Compressing objects: 100% (4/4)\u001b[K\rremote: Compressing objects: 100% (4/4), done.\u001b[K\n",
            "Receiving objects:   0% (1/118)   \rReceiving objects:   1% (2/118)   \rReceiving objects:   2% (3/118)   \rReceiving objects:   3% (4/118)   \rReceiving objects:   4% (5/118)   \rReceiving objects:   5% (6/118)   \rReceiving objects:   6% (8/118)   \rReceiving objects:   7% (9/118)   \rReceiving objects:   8% (10/118)   \rReceiving objects:   9% (11/118)   \rReceiving objects:  10% (12/118)   \rReceiving objects:  11% (13/118)   \rReceiving objects:  12% (15/118)   \rReceiving objects:  13% (16/118)   \rReceiving objects:  14% (17/118)   \rReceiving objects:  15% (18/118)   \rReceiving objects:  16% (19/118)   \rReceiving objects:  17% (21/118)   \rReceiving objects:  18% (22/118)   \rReceiving objects:  19% (23/118)   \rReceiving objects:  20% (24/118)   \rReceiving objects:  21% (25/118)   \rReceiving objects:  22% (26/118)   \rReceiving objects:  23% (28/118)   \rReceiving objects:  24% (29/118)   \rReceiving objects:  25% (30/118)   \rReceiving objects:  26% (31/118)   \rReceiving objects:  27% (32/118)   \rReceiving objects:  28% (34/118)   \rReceiving objects:  29% (35/118)   \rReceiving objects:  30% (36/118)   \rReceiving objects:  31% (37/118)   \rReceiving objects:  32% (38/118)   \rReceiving objects:  33% (39/118)   \rReceiving objects:  34% (41/118)   \rReceiving objects:  35% (42/118)   \rReceiving objects:  36% (43/118)   \rReceiving objects:  37% (44/118)   \rReceiving objects:  38% (45/118)   \rReceiving objects:  39% (47/118)   \rReceiving objects:  40% (48/118)   \rReceiving objects:  41% (49/118)   \rReceiving objects:  42% (50/118)   \rReceiving objects:  43% (51/118)   \rReceiving objects:  44% (52/118)   \rReceiving objects:  45% (54/118)   \rReceiving objects:  46% (55/118)   \rReceiving objects:  47% (56/118)   \rReceiving objects:  48% (57/118)   \rReceiving objects:  49% (58/118)   \rReceiving objects:  50% (59/118)   \rReceiving objects:  51% (61/118)   \rReceiving objects:  52% (62/118)   \rReceiving objects:  53% (63/118)   \rReceiving objects:  54% (64/118)   \rReceiving objects:  55% (65/118)   \rReceiving objects:  56% (67/118)   \rReceiving objects:  57% (68/118)   \rReceiving objects:  58% (69/118)   \rReceiving objects:  59% (70/118)   \rReceiving objects:  60% (71/118)   \rReceiving objects:  61% (72/118)   \rReceiving objects:  62% (74/118)   \rReceiving objects:  63% (75/118)   \rReceiving objects:  64% (76/118)   \rReceiving objects:  65% (77/118)   \rReceiving objects:  66% (78/118)   \rReceiving objects:  67% (80/118)   \rReceiving objects:  68% (81/118)   \rReceiving objects:  69% (82/118)   \rReceiving objects:  70% (83/118)   \rReceiving objects:  71% (84/118)   \rReceiving objects:  72% (85/118)   \rReceiving objects:  73% (87/118)   \rReceiving objects:  74% (88/118)   \rReceiving objects:  75% (89/118)   \rReceiving objects:  76% (90/118)   \rReceiving objects:  77% (91/118)   \rReceiving objects:  78% (93/118)   \rReceiving objects:  79% (94/118)   \rReceiving objects:  80% (95/118)   \rReceiving objects:  81% (96/118)   \rReceiving objects:  82% (97/118)   \rReceiving objects:  83% (98/118)   \rReceiving objects:  84% (100/118)   \rReceiving objects:  85% (101/118)   \rReceiving objects:  86% (102/118)   \rReceiving objects:  87% (103/118)   \rReceiving objects:  88% (104/118)   \rReceiving objects:  89% (106/118)   \rReceiving objects:  90% (107/118)   \rReceiving objects:  91% (108/118)   \rReceiving objects:  92% (109/118)   \rReceiving objects:  93% (110/118)   \rReceiving objects:  94% (111/118)   \rReceiving objects:  95% (113/118)   \rReceiving objects:  96% (114/118)   \rReceiving objects:  97% (115/118)   \rReceiving objects:  98% (116/118)   \rReceiving objects:  99% (117/118)   \rremote: Total 118 (delta 0), reused 0 (delta 0), pack-reused 114\u001b[K\n",
            "Receiving objects: 100% (118/118)   \rReceiving objects: 100% (118/118), 69.02 KiB | 3.45 MiB/s, done.\n",
            "Resolving deltas:   0% (0/56)   \rResolving deltas:   3% (2/56)   \rResolving deltas:   7% (4/56)   \rResolving deltas:  21% (12/56)   \rResolving deltas:  25% (14/56)   \rResolving deltas:  33% (19/56)   \rResolving deltas:  42% (24/56)   \rResolving deltas:  53% (30/56)   \rResolving deltas:  62% (35/56)   \rResolving deltas:  71% (40/56)   \rResolving deltas:  73% (41/56)   \rResolving deltas:  75% (42/56)   \rResolving deltas:  76% (43/56)   \rResolving deltas:  82% (46/56)   \rResolving deltas: 100% (56/56)   \rResolving deltas: 100% (56/56), done.\n"
          ],
          "name": "stdout"
        }
      ]
    },
    {
      "cell_type": "code",
      "metadata": {
        "id": "MFBX-3-PTri-",
        "colab_type": "code",
        "colab": {}
      },
      "source": [
        "! mv Audio_based_identification_beehive_states/Bee_NotBee_classification/* ./\n"
      ],
      "execution_count": 8,
      "outputs": []
    },
    {
      "cell_type": "markdown",
      "metadata": {
        "id": "4HvwMtrMTHEH",
        "colab_type": "text"
      },
      "source": [
        "# PCA & TSNE"
      ]
    },
    {
      "cell_type": "code",
      "metadata": {
        "id": "OEZGLy8LM5V-",
        "colab_type": "code",
        "colab": {}
      },
      "source": [
        "! pip install muda"
      ],
      "execution_count": null,
      "outputs": []
    },
    {
      "cell_type": "code",
      "metadata": {
        "id": "1EkaCMQgi_Fg",
        "colab_type": "code",
        "colab": {}
      },
      "source": [
        "import os\n",
        "import pandas as pd\n",
        "import numpy as np\n",
        "import matplotlib.pyplot as plt\n",
        "import csv\n",
        "from mpl_toolkits.mplot3d import Axes3D\n",
        "from sklearn.decomposition import PCA\n",
        "from sklearn.manifold import TSNE\n",
        "from info import i, printb, printr, printp, print\n",
        "from utils import load_audioFiles_saves_segments, write_Statelabels_from_beeNotBeelabels, get_uniqueHives_names_from_File, split_samples_byHive, get_samples_id_perSet, get_features_from_samples, labels2binary\n"
      ],
      "execution_count": 9,
      "outputs": []
    },
    {
      "cell_type": "code",
      "metadata": {
        "id": "trFBfLh-MBGd",
        "colab_type": "code",
        "colab": {}
      },
      "source": [
        "block_size = 5\n",
        "path_workingFolder = '/content/processed_data/dataset_BeeNoBee_'+str(block_size)+'sec'+os.sep  # path where to save audio segments and labels files.\n",
        "labels2read = 'labels_BeeNotBee_th0'\n",
        "feature = 'MFCCs20'"
      ],
      "execution_count": 10,
      "outputs": []
    },
    {
      "cell_type": "code",
      "metadata": {
        "id": "SDFE2RRZMGwb",
        "colab_type": "code",
        "colab": {}
      },
      "source": [
        "# Feature extraction: \n",
        "# remember to un-comment the 3 lines about normalization in utils.get_features_from_samples\n",
        "sample_ids_test, sample_ids_train, sample_ids_val = get_samples_id_perSet(path_workingFolder+'split_random_0.json') \n",
        "    \n",
        "X_train = get_features_from_samples(path_workingFolder, sample_ids_train, 'MFCCs20', 'NO', 1)\n",
        "X_val = get_features_from_samples(path_workingFolder, sample_ids_val, 'MFCCs20', 'NO', 1)\n",
        "X_test = get_features_from_samples(path_workingFolder, sample_ids_test, 'MFCCs20', 'NO', 1)\n",
        "    \n",
        "# labels_train = get_GT_labels_fromFiles(path_workingFolder, sample_ids_train, labels2read)\n",
        "# Y_train= labels2binary('nobee', labels_train)\n",
        "    \n",
        "# labels_val = get_GT_labels_fromFiles(path_workingFolder, sample_ids_val, labels2read)\n",
        "# Y_val= labels2binary('nobee', labels_val)\n",
        "    \n",
        "# labels_test = get_GT_labels_fromFiles(path_workingFolder, sample_ids_test, labels2read)\n",
        "# Y_test= labels2binary('nobee', labels_test)"
      ],
      "execution_count": 11,
      "outputs": []
    },
    {
      "cell_type": "code",
      "metadata": {
        "id": "HFMAK9mNeAzV",
        "colab_type": "code",
        "colab": {}
      },
      "source": [
        "def get_GT_labels_fromFiles(path_labels, sample_ids, labels2read) : #labels2read =  name of the label file\n",
        "    labels = []\n",
        "    fileAsdict={}\n",
        "    \n",
        "    with open(path_labels + labels2read+'.csv', 'r') as labfile:\n",
        "        csvreader = csv.reader(labfile, delimiter=',')    \n",
        "        for row in csvreader:\n",
        "            if not row[0] == 'sample_name':\n",
        "                fileAsdict[row[0]]=row[-1]   # row[-1] = '/missing queen/active' or 'bee/nobee'\n",
        "                 \n",
        "    for sample in sample_ids:\n",
        "        labels.append(fileAsdict[sample[0:-4]])  #remove .wav extension\n",
        "\n",
        "    return labels"
      ],
      "execution_count": 12,
      "outputs": []
    },
    {
      "cell_type": "code",
      "metadata": {
        "id": "ijZJ6WHteGt4",
        "colab_type": "code",
        "colab": {}
      },
      "source": [
        "labels_train = get_GT_labels_fromFiles(path_workingFolder, sample_ids_train, labels2read)\n",
        "Y_train = labels_train"
      ],
      "execution_count": 13,
      "outputs": []
    },
    {
      "cell_type": "code",
      "metadata": {
        "id": "pb1FKGRlMJw3",
        "colab_type": "code",
        "colab": {}
      },
      "source": [
        "# 2-component PCA:\n",
        "pca = PCA(n_components = 2)\n",
        "\n",
        "pca = PCA(n_components = 2).fit_transform(X_train)\n",
        "\n",
        "pca_df = pd.DataFrame(data = pca, columns = ['component1', 'component2'])\n",
        "\n",
        "pca_df = pd.concat([pca_df, pd.DataFrame(Y_train, columns = ['label'])], axis = 1)"
      ],
      "execution_count": 14,
      "outputs": []
    },
    {
      "cell_type": "code",
      "metadata": {
        "id": "IqRX7YxXMMx3",
        "colab_type": "code",
        "colab": {
          "base_uri": "https://localhost:8080/",
          "height": 298
        },
        "outputId": "d957aa2a-1288-425f-bd8a-18ed48247482"
      },
      "source": [
        "# 2-component PCA visualization:\n",
        "plt.scatter(pca_df[pca_df['label']=='bee'].iloc[:,0], pca_df[pca_df['label']=='bee'].iloc[:,1], c='r', s=50, cmap='viridis')\n",
        "plt.scatter(pca_df[pca_df['label']=='nobee'].iloc[:,0], pca_df[pca_df['label']=='nobee'].iloc[:,1], c='b', s=50, cmap='viridis')\n",
        "plt.scatter(pca_df[pca_df['label']=='unknown'].iloc[:,0], pca_df[pca_df['label']=='unknown'].iloc[:,1], c='g', s=50, cmap='viridis')\n",
        "\n",
        "plt.title(\"True label\")"
      ],
      "execution_count": 16,
      "outputs": [
        {
          "output_type": "execute_result",
          "data": {
            "text/plain": [
              "Text(0.5, 1.0, 'True label')"
            ]
          },
          "metadata": {
            "tags": []
          },
          "execution_count": 16
        },
        {
          "output_type": "display_data",
          "data": {
            "image/png": "[encoded data removed]",
            "text/plain": [
              "<Figure size 432x288 with 1 Axes>"
            ]
          },
          "metadata": {
            "tags": [],
            "needs_background": "light"
          }
        }
      ]
    },
    {
      "cell_type": "code",
      "metadata": {
        "id": "W8HvRfCipY1X",
        "colab_type": "code",
        "colab": {
          "base_uri": "https://localhost:8080/",
          "height": 298
        },
        "outputId": "26ffaa5c-4c88-4b89-bc70-d52905a85ab0"
      },
      "source": [
        "plt.scatter(pca_df[pca_df['label']=='bee'].iloc[:,0], pca_df[pca_df['label']=='bee'].iloc[:,1], c='r', s=50, cmap='viridis')\n",
        "plt.scatter(pca_df[pca_df['label']=='nobee'].iloc[:,0], pca_df[pca_df['label']=='nobee'].iloc[:,1], c='b', s=50, cmap='viridis')\n",
        "\n",
        "plt.title(\"True label\")"
      ],
      "execution_count": 17,
      "outputs": [
        {
          "output_type": "execute_result",
          "data": {
            "text/plain": [
              "Text(0.5, 1.0, 'True label')"
            ]
          },
          "metadata": {
            "tags": []
          },
          "execution_count": 17
        },
        {
          "output_type": "display_data",
          "data": {
            "image/png": "[encoded data removed]",
            "text/plain": [
              "<Figure size 432x288 with 1 Axes>"
            ]
          },
          "metadata": {
            "tags": [],
            "needs_background": "light"
          }
        }
      ]
    },
    {
      "cell_type": "code",
      "metadata": {
        "id": "yh7A56bDEZMc",
        "colab_type": "code",
        "colab": {}
      },
      "source": [
        "# 3-component PCA:\n",
        "pca3 = PCA(n_components = 3)\n",
        "\n",
        "pca3 = PCA(n_components = 3).fit_transform(X_train)\n",
        "\n",
        "pca3_df = pd.DataFrame(data = pca3, columns = ['PC1', 'PC2', 'PC3'])\n",
        "\n",
        "pca3_df = pd.concat([pca3_df, pd.DataFrame(Y_train, columns = ['label'])], axis = 1)"
      ],
      "execution_count": 19,
      "outputs": []
    },
    {
      "cell_type": "code",
      "metadata": {
        "id": "DulFpVStEebT",
        "colab_type": "code",
        "colab": {
          "base_uri": "https://localhost:8080/",
          "height": 542
        },
        "outputId": "2b0537a2-9de5-4512-f5f3-749e9cfac2a3"
      },
      "source": [
        "# 3-component PCA visualization:\n",
        "import plotly.express as px\n",
        "fig = px.scatter_3d(pca3_df, x='PC1', y='PC2', z='PC3',color='label')\n",
        "fig.show()"
      ],
      "execution_count": 21,
      "outputs": [
        {
          "output_type": "display_data",
          "data": {
            "text/html": [
              "<html>\n",
              "<head><meta charset=\"utf-8\" /></head>\n",
              "<body>\n",
              "    <div>\n",
              "            <script src=\"https://cdnjs.cloudflare.com/ajax/libs/mathjax/2.7.5/MathJax.js?config=TeX-AMS-MML_SVG\"></script><script type=\"text/javascript\">if (window.MathJax) {MathJax.Hub.Config({SVG: {font: \"STIX-Web\"}});}</script>\n",
              "                <script type=\"text/javascript\">window.PlotlyConfig = {MathJaxConfig: 'local'};</script>\n",
              "        <script src=\"https://cdn.plot.ly/plotly-latest.min.js\"></script>    \n",
              "            <div id=\"e812c686-05ac-4d0f-8ca3-161a9060fd43\" class=\"plotly-graph-div\" style=\"height:525px; width:100%;\"></div>\n",
              "            <script type=\"text/javascript\">\n",
              "                \n",
              "                    window.PLOTLYENV=window.PLOTLYENV || {};\n",
              "                    \n",
              "                if (document.getElementById(\"e812c686-05ac-4d0f-8ca3-161a9060fd43\")) {\n",
              "                    Plotly.newPlot(\n",
              "                        'e812c686-05ac-4d0f-8ca3-161a9060fd43',\n",
              "                        [{\"hoverlabel\": {\"namelength\": 0}, \"hovertemplate\": \"label=unknown<br>PC1=%{x}<br>PC2=%{y}<br>PC3=%{z}\", \"legendgroup\": \"label=unknown\", \"marker\": {\"color\": \"#636efa\", \"symbol\": \"circle\"}, \"mode\": \"markers\", \"name\": \"label=unknown\", \"scene\": \"scene\", \"showlegend\": true, \"type\": \"scatter3d\", \"x\": [-125.55573691533631, -136.44469836220176, -135.35760689946972, -140.73867957569482, -140.15706599041474, -135.99408359190778, -135.54487371548936, -125.62425045516785, -124.99485182335351, -127.13458249518132, -131.07901467002307, -126.92780933739431, -121.47476314588158, 25.4285433671296, 22.480811853572742, 23.908229801780518, 25.57964640803856, 39.467496822726524, 34.74977289204584, 40.43597410308251, 30.143327714570525, 18.194228721305702, 22.02423603233381, 33.41242067076521, 45.64741473243689, 24.61018423219452, 33.39983380904704, 36.925825772703355, 97.53767154847996, 112.10910369473312, 108.5981921368769, 90.72690350467711, 88.95119722340196, 93.14325242891738, 67.91228024294446, 76.8111824979701, 76.09930619131579, -37.572389523930646, -20.78906083878285, -28.83459899571706, -27.52293392068177, -35.943462404264615, -45.20076592832042, -34.53140044469759, -32.757816588886186, -4.434842677199478, -20.004126097583224, -25.148574661535008, -32.72355648053, -37.168033291118384, -23.430584889426502], \"y\": [20.684791843282518, 29.72206399341098, 29.6446248492353, 30.860306936473847, 31.175819908502586, 28.86277648835947, 29.522510855791953, 23.613044771934092, 20.54031417660831, 25.614437093361705, 24.555994358845332, 22.1780560342033, 23.169250213968514, -9.026923054643849, -9.956194401889917, -11.953819143524925, -9.550511422767661, -1.6089520262944672, 1.6033629151516648, -2.9837203930321174, 0.9798654465664534, -3.86384856031557, -6.194152824913474, -2.6926093908828075, -11.13049445935051, -6.224623451923431, -7.918675685885211, 0.7552975519475112, 8.20901603891453, 7.500483571516965, 15.57462467780642, 16.108549383610466, 12.269388548125747, 8.600746557806781, 15.159401232540926, 12.211043932301937, 9.769146182931223, -12.72021745762588, -10.911020445986145, -11.190016029157094, -7.604317605664779, -12.34880898246808, -11.863050709973395, -10.090670380060605, -16.810070287326056, -9.206111949792138, -8.986882155441654, -13.896447842419702, -15.225413870720743, -4.577996117112681, -12.870078425832117], \"z\": [-4.619950494128698, -3.6189238678378737, -2.5085512638241583, -5.258007420500599, -3.063035512179479, -1.6141688834896506, -1.5121608548357115, 0.7541452684437815, 4.761345699748162, -0.1605791569212565, -0.5298687612308982, 0.22529292741042742, 4.176862241830962, -12.461898317745355, -11.021385877825002, -10.053783331360135, -14.548566379436977, -8.337702341372726, -8.018058096144278, -10.371755227768999, -11.134128985549008, -12.43019688298366, -11.808163406757757, -14.936193050249276, -11.33507175100442, -16.056955241194963, -15.842834391923972, -11.880416337660005, 0.17269179909268925, 4.925390090085155, 2.642878357060401, 3.855759236392687, 5.287358652542898, 3.3298806734531725, 0.5428111041567439, 0.40083847264980044, -0.9285205825345095, 10.731256358204643, 7.6285602779639134, 3.4589614486243208, 5.294458756974929, 4.159746221207381, -1.1463262246581694, 5.8700794279867266, 3.5243587021082976, 1.841867318949526, -0.5492719173723617, 5.592414214691045, -0.10929934264713995, 1.2925402747136212, 7.843931044482023]}, {\"hoverlabel\": {\"namelength\": 0}, \"hovertemplate\": \"label=bee<br>PC1=%{x}<br>PC2=%{y}<br>PC3=%{z}\", \"legendgroup\": \"label=bee\", \"marker\": {\"color\": \"#EF553B\", \"symbol\": \"circle\"}, \"mode\": \"markers\", \"name\": \"label=bee\", \"scene\": \"scene\", \"showlegend\": true, \"type\": \"scatter3d\", \"x\": [-135.75255204939864, -127.89674033934766, -139.02395520285933, -135.3119432849395, -138.06075217237995, -135.2599366884713, -129.07276436317602, -126.1404349693842, -129.33745017118136, -123.19181579217543, -129.0006834026618, -130.47768693991347, 20.13573006791202, 20.29843597950423, 43.74929040321507, 20.12530354830311, 21.155239506791563, 25.184060390846305, 21.272212452983823, 20.918454041609863, 20.006773121502555, 34.62207637049341, 39.44695200642212, 46.46184406775358, 21.9086807586658, 15.987987519956233, 29.5737351638189, 24.71185629527051, 20.051260336681885, 27.77601077013916, 23.436558916889446, 12.815093095598533, 19.426199555208626, 29.074368001529233, 27.309561578316227, 31.59612492798318, 43.66589451471957, 39.67298223075878, 34.53625799490958, 34.92816070729854, 35.92867032737738, 39.169420176099344, 31.467150428076966, 21.06522383789925, 113.75739125098492, 88.98369165460214, 123.59984680929301, 111.3318055760732, 114.19638878681002, 111.94057042050011, 114.89759153228738, 109.09827342592982, 104.59050013576321, 107.07261924973412, 145.23224659516652, 141.97993788340912, 135.29523756334487, 128.6348611417132, 118.05011347566357, 118.72324166637279, 121.60079919328155, 153.89528413552983, 111.83278277154436, 125.69927289395139, 118.19189662018255, 112.25748860750087, 102.63649789152971, 95.21246102791017, 94.12414958130951, 70.58962944453857, 69.26908845778321, 80.20293969988776, 80.1530086827869, 77.24974456238824, -16.230034070077544, -18.076885413899905, -30.923694387214564, -21.975899805433528, -29.604020306974576, -32.88850344889587, -33.03387606744176, -32.399931972224394, -30.308031251153775, -34.53537005155253, -37.57108322181615, -26.595305636975763, -24.348655234991494, -31.860565930556454, -38.1161969788801, -31.26788549319094, -34.181741950451716, -34.81167932809188, -33.40913677749598, -37.89438898401841, -41.81972920664692, -30.473450284744533, -20.43177996933047, -25.930352472519754, -29.2513707423855, -33.82086328290399, -32.92187852928159, -34.66408736896463, -35.08146512108982, -30.211095785889803, -34.27077337300913, -34.719395514235664, -36.69605970519394, -35.33762257639699, -27.344412467537225, -31.497334535715865, -34.16584150742263, -25.93586361185236, -21.924486423891793, -33.02503503010055, -43.277549149933904, -42.064376588442514, -41.73593528826464, -35.61633159740368, -18.770352347837292, -41.60411399709278, -44.62911588020183, -12.987876710660656, -25.78824674535168, -9.801084333645774, -21.7840731600493, -19.65603068802112, -25.73981795127901, -21.712081562973786, -25.721260365268414, -23.677333932264542, -14.95769157529964, -26.54938655225712, -34.58051528574767, -17.779863087145852, -25.40198771827399, -30.140152617142874, -34.741069522912525, -29.235759988501364, -26.629497504460844, -20.756004933875065, -17.773235404408698, -25.706096584896393, -22.414347413951052, -25.16554126686729, -28.12483030919614, -14.769356918792408, -17.781646565892473, -26.939532014325998, -22.74676965773783, -25.135461763186218, -24.89959074047649, -19.29546974099007, -24.526853124821358, -16.14025714200202, -28.306266102513764, -27.885745612624465, -33.073097943949605, -34.29609953050793], \"y\": [30.48581018378001, 24.486801725302218, 31.306679465147244, 31.651172817713316, 29.47754830020008, 27.73470822829028, 24.985804339669272, 25.367326281895043, 25.915519762767975, 21.66970782697439, 24.521124508088963, 27.227598984813643, -7.479502936704579, -7.18358264520472, -2.866019304069821, -5.151116346600228, -7.326569100710568, -8.689163062628916, -8.032131465348492, -7.1546908290276, -6.619228077736541, -0.5458444561500766, 1.239830211328556, -4.302219091006391, -0.25945281592753183, -4.64484483614139, -1.8077815930820182, -0.6613320719010087, -11.570457262057554, 0.6891859996603018, -1.8250816325366996, -3.367158550828252, -4.827188239482419, 0.13540958680782472, -1.742897272712325, -2.6520392821277947, 2.5974908411535163, 3.039856002078483, 3.7627696060658127, 0.10381440911694377, -0.96573441286812, 0.39689104026819033, -2.161651761313647, -12.463231506285249, 16.799131937397377, 12.513853184461508, 7.978123237360419, 8.635590443070553, 11.538961043679395, 9.614202475838995, 11.930928639205305, 14.525614444359103, 16.44820135466673, 18.312035896362154, 10.38101958786369, 9.384450115603267, 10.961298918405936, 13.57884888476191, 11.178407536595591, 16.120733076455387, 14.713902314286344, 15.490058781839775, 18.3395677297972, 12.997623731578381, 11.978290932933172, 13.78928435830392, 14.768180396956295, 16.509357633694265, 15.489449638454627, 15.95540849292836, 15.722205941979775, 10.82619543758865, 12.05503667144834, 12.590773957840517, -11.679571783158275, -9.508547535999432, -9.898625843372061, -20.627703042523812, -7.903757680483214, -10.782417448365006, -9.785661624133443, -8.836251197105216, -7.980845979349594, -7.9945729138608135, -10.084409859212615, -7.284869288360677, -6.541143896995056, -7.373814543035583, -8.882221175974616, -6.715351688308948, -5.477991019382253, -8.257941976974408, -8.67445063498407, -11.75229339555353, -4.540496106865422, -8.600635007704032, -7.433988224484941, -5.383320323474217, -6.819374077533049, -7.878764121588814, -7.430164558578873, -12.891639925310201, -7.549561617396128, -7.91868391222434, -9.597681533035646, -7.051948379676177, -8.675539254480041, -13.4592899984057, -8.649523316205094, -7.744554688947157, -10.028035217134443, -3.955266274503451, -9.98581621547875, -10.460162248815491, -8.49896950964963, -10.871177309978489, -9.01651387521545, -8.275980801704817, -6.827843315469152, -10.961351846217294, -4.728950141198321, -4.137610814429149, -4.605441915255103, -14.34883277110843, -4.491650049851719, -2.9156631667779256, -3.5373988890313774, -2.243739742710647, -2.4695297731094055, -4.497469216544244, -5.227017931769697, -9.182458720593543, -3.87258692201633, 0.6060502638383052, -9.980710205019994, -10.611620969529826, -10.708141180326711, -9.006182265594756, -9.84598216799457, -4.194410651040996, -13.42917215310966, -12.107013397618823, -9.249410817271558, -9.345531857858852, -8.285211116395008, -13.068052461114318, -9.160926637251166, -11.172047492303943, -8.631485242846855, -12.108197008764346, -12.141540148152625, -8.962009613506545, -7.767465949014752, -10.4552505903044, -11.626399165551467, -10.549616429448756, -9.363939199156903, -8.874145633429873], \"z\": [-4.1403604241213054, -3.2472536057264665, -4.904049396348724, -0.834990510090844, -0.5725267175410551, -2.6542444441131012, 0.7426722446637931, -3.2613111187588046, 0.7705894908153008, 1.3152712294759752, -0.7234893586526715, -5.058276723686418, -11.629382441178096, -11.691824210883128, -8.67881379509787, -12.468256188937481, -14.504789458256473, -12.006580496571045, -13.750502984751893, -12.333273627385456, -7.995520720351612, -11.43602110294384, -10.82812904902163, -9.789834028734735, -8.902044574133248, -8.2533479939718, -12.808760906604954, -10.202238683746735, -14.116440142908266, -18.62340677685615, -15.664684407451999, -15.455253196239735, -14.446131499039573, -16.77847062377529, -15.13406009433301, -12.995219210836881, -10.592744589976023, -11.256663115505027, -12.209220628496835, -14.93736567894622, -15.225614079860357, -13.361759830325099, -12.55784973954411, -10.128468411507779, 8.283482249196929, -0.49667498731685594, 8.69816092963341, 4.888964691961438, 12.265375724150088, 7.591804372827115, 8.555724603833262, 4.33862824995603, 3.3548818521100334, 6.3317221592776916, 11.424430565829365, 13.187652551898193, 12.200858025277787, 8.213489296735181, 9.509597188683749, 7.45789752601593, 8.599113630369724, 20.237482917462323, 6.162281867252334, 7.286401787361245, 7.660569183647782, 6.562372708669249, 3.9307940368562986, 4.090976050302928, 3.36318385306209, 0.008476617181341042, 0.2627332716371896, 1.4484463608420703, 0.01812965468081266, 0.6914186966141721, 9.885601093910518, -2.4470196834573947, 5.635167857705323, 9.581151508508357, 6.634247773548149, 5.518026072193114, 5.4057762474628, 6.4021268851926525, 6.756648502564628, 6.486516255397425, 6.040443187289163, 7.104093291314602, 7.995345918777984, 7.710723229970375, 4.193075228203435, 2.329499805266177, 2.873829733337145, 2.6148881749655963, 4.456192540044469, 1.120180538010091, 0.9154269565177866, 5.468075460764478, 10.34575464081028, 7.996090816796714, 7.000147722346637, 5.405113196602761, 4.774748786301519, 3.711386361386927, 4.945118565570084, 3.655422489695973, 4.185846724701279, 3.355701296475448, 4.266054347434464, 7.377975079419701, 4.301182463297746, 3.182591367060192, 2.8090226704275696, 2.8276188275931107, 5.34002071972139, 4.928327978779958, 1.9104124884897598, 2.2440643574443073, 3.3341780673141903, 2.2193567105271335, 4.697737388229255, -0.9544839842427082, -1.6155928218344628, 4.323998085110158, 1.0561966911621365, -3.3184866891437794, 5.800016165932477, 0.8729931464774908, 1.2377420334609215, 4.68812876586843, 3.2433876116663027, 0.4296382686118028, 8.656715580089395, 4.261844201458716, 2.5490322076395535, 1.417019074125594, 7.903021516161397, 5.789272190227159, 2.795689202400764, 4.1266768657918425, 5.193963908007184, 5.780096814336417, 4.87694315499076, 4.830560581255952, 7.886522640292737, 6.360789788227075, 2.5195226982951415, 3.210069507448898, 7.484554795000862, 4.291597583423277, 4.858449363627438, 7.122686507232855, 9.125897155863848, 8.594976871002196, 8.181984447077276, 10.735174831733515, 6.088468126267434, 6.07654602340843, 5.615445921146533, 4.161735240357]}, {\"hoverlabel\": {\"namelength\": 0}, \"hovertemplate\": \"label=nobee<br>PC1=%{x}<br>PC2=%{y}<br>PC3=%{z}\", \"legendgroup\": \"label=nobee\", \"marker\": {\"color\": \"#00cc96\", \"symbol\": \"circle\"}, \"mode\": \"markers\", \"name\": \"label=nobee\", \"scene\": \"scene\", \"showlegend\": true, \"type\": \"scatter3d\", \"x\": [27.071727359765276, 27.01092750681864, 29.09782852296741, 31.29786661815332, 29.835879592473187, 30.28579997724948, 40.022675886704796, 48.0310362490734, 113.8469627352831, 110.39235943582032, 108.35552070817238, 122.92453389014793, 108.41484066257726, 69.81560203866017, 71.91878700426385, 72.52497386013752, -37.20110600388269, -44.05979997465801, -43.92516015961139, -40.30028914677512, -20.646780502332625, -26.08767552702098, -16.165069733150688, -33.79732950136383, -25.542553674553584, -24.632883242733985, -32.38138244905478, -34.28189611568778, -24.2699286229378, -3.6977044224203204, -18.441359369397915], \"y\": [-0.5731494887330408, -3.7640231537098607, -2.2774018034480568, -5.679983273658084, -4.975609303754328, -1.7813836854128193, -9.27293868329448, -6.128648541589102, 16.569115668965754, 12.601735396390147, 13.747859808068892, 8.992615277915743, 18.053934849554924, 12.905505070832351, 12.253678174314945, 12.247874020481095, -10.419741902556186, -7.337957568323849, -7.485810327216669, -9.49814694747703, -14.75296114383926, -12.91366004280035, -13.111872536139423, -9.99838024096176, -12.354960132961466, -11.814982552251452, -15.819698547204183, -13.16743681468142, -16.139331719416283, -22.822231506474466, -13.538680872833204], \"z\": [-13.487442735897035, -15.334901535194858, -15.606313324744862, -16.10809288604426, -17.124632853539914, -16.439792178682836, -12.97963831674219, -16.580443637393586, 3.651109199072339, 8.8111072216339, 7.423691900582428, 7.5924540394426705, 1.821965672440988, 0.662476843354578, -1.132137541624372, -2.6706961946573164, 1.4436598706106039, 0.2984347931945816, 3.093292278501084, 4.667590078701671, 4.619506261973287, 3.386028913261466, 4.251856864892206, 6.161172675558761, 1.182868096051382, 2.6438062856074818, 3.1317741466449136, 2.8157089290949604, 0.26259259392614576, 7.228730308934546, 3.3061918357882]}],\n",
              "                        {\"legend\": {\"tracegroupgap\": 0}, \"margin\": {\"t\": 60}, \"scene\": {\"domain\": {\"x\": [0.0, 1.0], \"y\": [0.0, 1.0]}, \"xaxis\": {\"title\": {\"text\": \"PC1\"}}, \"yaxis\": {\"title\": {\"text\": \"PC2\"}}, \"zaxis\": {\"title\": {\"text\": \"PC3\"}}}, \"template\": {\"data\": {\"bar\": [{\"error_x\": {\"color\": \"#2a3f5f\"}, \"error_y\": {\"color\": \"#2a3f5f\"}, \"marker\": {\"line\": {\"color\": \"#E5ECF6\", \"width\": 0.5}}, \"type\": \"bar\"}], \"barpolar\": [{\"marker\": {\"line\": {\"color\": \"#E5ECF6\", \"width\": 0.5}}, \"type\": \"barpolar\"}], \"carpet\": [{\"aaxis\": {\"endlinecolor\": \"#2a3f5f\", \"gridcolor\": \"white\", \"linecolor\": \"white\", \"minorgridcolor\": \"white\", \"startlinecolor\": \"#2a3f5f\"}, \"baxis\": {\"endlinecolor\": \"#2a3f5f\", \"gridcolor\": \"white\", \"linecolor\": \"white\", \"minorgridcolor\": \"white\", \"startlinecolor\": \"#2a3f5f\"}, \"type\": \"carpet\"}], \"choropleth\": [{\"colorbar\": {\"outlinewidth\": 0, \"ticks\": \"\"}, \"type\": \"choropleth\"}], \"contour\": [{\"colorbar\": {\"outlinewidth\": 0, \"ticks\": \"\"}, \"colorscale\": [[0.0, \"#0d0887\"], [0.1111111111111111, \"#46039f\"], [0.2222222222222222, \"#7201a8\"], [0.3333333333333333, \"#9c179e\"], [0.4444444444444444, \"#bd3786\"], [0.5555555555555556, \"#d8576b\"], [0.6666666666666666, \"#ed7953\"], [0.7777777777777778, \"#fb9f3a\"], [0.8888888888888888, \"#fdca26\"], [1.0, \"#f0f921\"]], \"type\": \"contour\"}], \"contourcarpet\": [{\"colorbar\": {\"outlinewidth\": 0, \"ticks\": \"\"}, \"type\": \"contourcarpet\"}], \"heatmap\": [{\"colorbar\": {\"outlinewidth\": 0, \"ticks\": \"\"}, \"colorscale\": [[0.0, \"#0d0887\"], [0.1111111111111111, \"#46039f\"], [0.2222222222222222, \"#7201a8\"], [0.3333333333333333, \"#9c179e\"], [0.4444444444444444, \"#bd3786\"], [0.5555555555555556, \"#d8576b\"], [0.6666666666666666, \"#ed7953\"], [0.7777777777777778, \"#fb9f3a\"], [0.8888888888888888, \"#fdca26\"], [1.0, \"#f0f921\"]], \"type\": \"heatmap\"}], \"heatmapgl\": [{\"colorbar\": {\"outlinewidth\": 0, \"ticks\": \"\"}, \"colorscale\": [[0.0, \"#0d0887\"], [0.1111111111111111, \"#46039f\"], [0.2222222222222222, \"#7201a8\"], [0.3333333333333333, \"#9c179e\"], [0.4444444444444444, \"#bd3786\"], [0.5555555555555556, \"#d8576b\"], [0.6666666666666666, \"#ed7953\"], [0.7777777777777778, \"#fb9f3a\"], [0.8888888888888888, \"#fdca26\"], [1.0, \"#f0f921\"]], \"type\": \"heatmapgl\"}], \"histogram\": [{\"marker\": {\"colorbar\": {\"outlinewidth\": 0, \"ticks\": \"\"}}, \"type\": \"histogram\"}], \"histogram2d\": [{\"colorbar\": {\"outlinewidth\": 0, \"ticks\": \"\"}, \"colorscale\": [[0.0, \"#0d0887\"], [0.1111111111111111, \"#46039f\"], [0.2222222222222222, \"#7201a8\"], [0.3333333333333333, \"#9c179e\"], [0.4444444444444444, \"#bd3786\"], [0.5555555555555556, \"#d8576b\"], [0.6666666666666666, \"#ed7953\"], [0.7777777777777778, \"#fb9f3a\"], [0.8888888888888888, \"#fdca26\"], [1.0, \"#f0f921\"]], \"type\": \"histogram2d\"}], \"histogram2dcontour\": [{\"colorbar\": {\"outlinewidth\": 0, \"ticks\": \"\"}, \"colorscale\": [[0.0, \"#0d0887\"], [0.1111111111111111, \"#46039f\"], [0.2222222222222222, \"#7201a8\"], [0.3333333333333333, \"#9c179e\"], [0.4444444444444444, \"#bd3786\"], [0.5555555555555556, \"#d8576b\"], [0.6666666666666666, \"#ed7953\"], [0.7777777777777778, \"#fb9f3a\"], [0.8888888888888888, \"#fdca26\"], [1.0, \"#f0f921\"]], \"type\": \"histogram2dcontour\"}], \"mesh3d\": [{\"colorbar\": {\"outlinewidth\": 0, \"ticks\": \"\"}, \"type\": \"mesh3d\"}], \"parcoords\": [{\"line\": {\"colorbar\": {\"outlinewidth\": 0, \"ticks\": \"\"}}, \"type\": \"parcoords\"}], \"pie\": [{\"automargin\": true, \"type\": \"pie\"}], \"scatter\": [{\"marker\": {\"colorbar\": {\"outlinewidth\": 0, \"ticks\": \"\"}}, \"type\": \"scatter\"}], \"scatter3d\": [{\"line\": {\"colorbar\": {\"outlinewidth\": 0, \"ticks\": \"\"}}, \"marker\": {\"colorbar\": {\"outlinewidth\": 0, \"ticks\": \"\"}}, \"type\": \"scatter3d\"}], \"scattercarpet\": [{\"marker\": {\"colorbar\": {\"outlinewidth\": 0, \"ticks\": \"\"}}, \"type\": \"scattercarpet\"}], \"scattergeo\": [{\"marker\": {\"colorbar\": {\"outlinewidth\": 0, \"ticks\": \"\"}}, \"type\": \"scattergeo\"}], \"scattergl\": [{\"marker\": {\"colorbar\": {\"outlinewidth\": 0, \"ticks\": \"\"}}, \"type\": \"scattergl\"}], \"scattermapbox\": [{\"marker\": {\"colorbar\": {\"outlinewidth\": 0, \"ticks\": \"\"}}, \"type\": \"scattermapbox\"}], \"scatterpolar\": [{\"marker\": {\"colorbar\": {\"outlinewidth\": 0, \"ticks\": \"\"}}, \"type\": \"scatterpolar\"}], \"scatterpolargl\": [{\"marker\": {\"colorbar\": {\"outlinewidth\": 0, \"ticks\": \"\"}}, \"type\": \"scatterpolargl\"}], \"scatterternary\": [{\"marker\": {\"colorbar\": {\"outlinewidth\": 0, \"ticks\": \"\"}}, \"type\": \"scatterternary\"}], \"surface\": [{\"colorbar\": {\"outlinewidth\": 0, \"ticks\": \"\"}, \"colorscale\": [[0.0, \"#0d0887\"], [0.1111111111111111, \"#46039f\"], [0.2222222222222222, \"#7201a8\"], [0.3333333333333333, \"#9c179e\"], [0.4444444444444444, \"#bd3786\"], [0.5555555555555556, \"#d8576b\"], [0.6666666666666666, \"#ed7953\"], [0.7777777777777778, \"#fb9f3a\"], [0.8888888888888888, \"#fdca26\"], [1.0, \"#f0f921\"]], \"type\": \"surface\"}], \"table\": [{\"cells\": {\"fill\": {\"color\": \"#EBF0F8\"}, \"line\": {\"color\": \"white\"}}, \"header\": {\"fill\": {\"color\": \"#C8D4E3\"}, \"line\": {\"color\": \"white\"}}, \"type\": \"table\"}]}, \"layout\": {\"annotationdefaults\": {\"arrowcolor\": \"#2a3f5f\", \"arrowhead\": 0, \"arrowwidth\": 1}, \"coloraxis\": {\"colorbar\": {\"outlinewidth\": 0, \"ticks\": \"\"}}, \"colorscale\": {\"diverging\": [[0, \"#8e0152\"], [0.1, \"#c51b7d\"], [0.2, \"#de77ae\"], [0.3, \"#f1b6da\"], [0.4, \"#fde0ef\"], [0.5, \"#f7f7f7\"], [0.6, \"#e6f5d0\"], [0.7, \"#b8e186\"], [0.8, \"#7fbc41\"], [0.9, \"#4d9221\"], [1, \"#276419\"]], \"sequential\": [[0.0, \"#0d0887\"], [0.1111111111111111, \"#46039f\"], [0.2222222222222222, \"#7201a8\"], [0.3333333333333333, \"#9c179e\"], [0.4444444444444444, \"#bd3786\"], [0.5555555555555556, \"#d8576b\"], [0.6666666666666666, \"#ed7953\"], [0.7777777777777778, \"#fb9f3a\"], [0.8888888888888888, \"#fdca26\"], [1.0, \"#f0f921\"]], \"sequentialminus\": [[0.0, \"#0d0887\"], [0.1111111111111111, \"#46039f\"], [0.2222222222222222, \"#7201a8\"], [0.3333333333333333, \"#9c179e\"], [0.4444444444444444, \"#bd3786\"], [0.5555555555555556, \"#d8576b\"], [0.6666666666666666, \"#ed7953\"], [0.7777777777777778, \"#fb9f3a\"], [0.8888888888888888, \"#fdca26\"], [1.0, \"#f0f921\"]]}, \"colorway\": [\"#636efa\", \"#EF553B\", \"#00cc96\", \"#ab63fa\", \"#FFA15A\", \"#19d3f3\", \"#FF6692\", \"#B6E880\", \"#FF97FF\", \"#FECB52\"], \"font\": {\"color\": \"#2a3f5f\"}, \"geo\": {\"bgcolor\": \"white\", \"lakecolor\": \"white\", \"landcolor\": \"#E5ECF6\", \"showlakes\": true, \"showland\": true, \"subunitcolor\": \"white\"}, \"hoverlabel\": {\"align\": \"left\"}, \"hovermode\": \"closest\", \"mapbox\": {\"style\": \"light\"}, \"paper_bgcolor\": \"white\", \"plot_bgcolor\": \"#E5ECF6\", \"polar\": {\"angularaxis\": {\"gridcolor\": \"white\", \"linecolor\": \"white\", \"ticks\": \"\"}, \"bgcolor\": \"#E5ECF6\", \"radialaxis\": {\"gridcolor\": \"white\", \"linecolor\": \"white\", \"ticks\": \"\"}}, \"scene\": {\"xaxis\": {\"backgroundcolor\": \"#E5ECF6\", \"gridcolor\": \"white\", \"gridwidth\": 2, \"linecolor\": \"white\", \"showbackground\": true, \"ticks\": \"\", \"zerolinecolor\": \"white\"}, \"yaxis\": {\"backgroundcolor\": \"#E5ECF6\", \"gridcolor\": \"white\", \"gridwidth\": 2, \"linecolor\": \"white\", \"showbackground\": true, \"ticks\": \"\", \"zerolinecolor\": \"white\"}, \"zaxis\": {\"backgroundcolor\": \"#E5ECF6\", \"gridcolor\": \"white\", \"gridwidth\": 2, \"linecolor\": \"white\", \"showbackground\": true, \"ticks\": \"\", \"zerolinecolor\": \"white\"}}, \"shapedefaults\": {\"line\": {\"color\": \"#2a3f5f\"}}, \"ternary\": {\"aaxis\": {\"gridcolor\": \"white\", \"linecolor\": \"white\", \"ticks\": \"\"}, \"baxis\": {\"gridcolor\": \"white\", \"linecolor\": \"white\", \"ticks\": \"\"}, \"bgcolor\": \"#E5ECF6\", \"caxis\": {\"gridcolor\": \"white\", \"linecolor\": \"white\", \"ticks\": \"\"}}, \"title\": {\"x\": 0.05}, \"xaxis\": {\"automargin\": true, \"gridcolor\": \"white\", \"linecolor\": \"white\", \"ticks\": \"\", \"title\": {\"standoff\": 15}, \"zerolinecolor\": \"white\", \"zerolinewidth\": 2}, \"yaxis\": {\"automargin\": true, \"gridcolor\": \"white\", \"linecolor\": \"white\", \"ticks\": \"\", \"title\": {\"standoff\": 15}, \"zerolinecolor\": \"white\", \"zerolinewidth\": 2}}}},\n",
              "                        {\"responsive\": true}\n",
              "                    ).then(function(){\n",
              "                            \n",
              "var gd = document.getElementById('e812c686-05ac-4d0f-8ca3-161a9060fd43');\n",
              "var x = new MutationObserver(function (mutations, observer) {{\n",
              "        var display = window.getComputedStyle(gd).display;\n",
              "        if (!display || display === 'none') {{\n",
              "            console.log([gd, 'removed!']);\n",
              "            Plotly.purge(gd);\n",
              "            observer.disconnect();\n",
              "        }}\n",
              "}});\n",
              "\n",
              "// Listen for the removal of the full notebook cells\n",
              "var notebookContainer = gd.closest('#notebook-container');\n",
              "if (notebookContainer) {{\n",
              "    x.observe(notebookContainer, {childList: true});\n",
              "}}\n",
              "\n",
              "// Listen for the clearing of the current output cell\n",
              "var outputEl = gd.closest('.output');\n",
              "if (outputEl) {{\n",
              "    x.observe(outputEl, {childList: true});\n",
              "}}\n",
              "\n",
              "                        })\n",
              "                };\n",
              "                \n",
              "            </script>\n",
              "        </div>\n",
              "</body>\n",
              "</html>"
            ]
          },
          "metadata": {
            "tags": []
          }
        }
      ]
    },
    {
      "cell_type": "code",
      "metadata": {
        "id": "bgJeoc8mEiDI",
        "colab_type": "code",
        "colab": {
          "base_uri": "https://localhost:8080/",
          "height": 295
        },
        "outputId": "f63d6794-0835-4b7d-a231-b82219f774cb"
      },
      "source": [
        "# get optimal number of components for PCA\n",
        "pca = PCA().fit(X_train)\n",
        "\n",
        "fig, ax = plt.subplots()\n",
        "xi = np.arange(1, 11, step=1)\n",
        "y = np.cumsum(pca.explained_variance_ratio_[0:10])\n",
        "\n",
        "plt.ylim(0.0,1.1)\n",
        "plt.plot(xi, y, marker='o', linestyle='--', color='b')\n",
        "\n",
        "plt.xlabel('Number of Components')\n",
        "plt.xticks(np.arange(0, 11, step=1)) #change from 0-based array index to 1-based human-readable label\n",
        "plt.ylabel('Cumulative variance (%)')\n",
        "plt.title('The number of components needed to explain variance')\n",
        "\n",
        "plt.axhline(y=0.95, color='r', linestyle='-')\n",
        "plt.text(0.5, 0.85, '95% cut-off threshold', color = 'red', fontsize=16)\n",
        "\n",
        "ax.grid(axis='x')\n",
        "plt.show()"
      ],
      "execution_count": 22,
      "outputs": [
        {
          "output_type": "display_data",
          "data": {
            "image/png": "[encoded data removed]",
            "text/plain": [
              "<Figure size 432x288 with 1 Axes>"
            ]
          },
          "metadata": {
            "tags": [],
            "needs_background": "light"
          }
        }
      ]
    },
    {
      "cell_type": "code",
      "metadata": {
        "id": "EsQ-ynhnMPM0",
        "colab_type": "code",
        "colab": {}
      },
      "source": [
        "# TSNE:\n",
        "tsne = TSNE(n_components=2).fit_transform(X_train)\n",
        "\n",
        "tsne_df = pd.DataFrame(data = tsne, columns = ['component1', 'component2'])\n",
        "\n",
        "tsne_df = pd.concat([tsne_df, pd.DataFrame(Y_train, columns = ['label'])], axis = 1)"
      ],
      "execution_count": 23,
      "outputs": []
    },
    {
      "cell_type": "code",
      "metadata": {
        "id": "rj7QYrcOMRVd",
        "colab_type": "code",
        "colab": {
          "base_uri": "https://localhost:8080/",
          "height": 298
        },
        "outputId": "58b2320c-22b1-45bc-fe18-59c4ec29c7e8"
      },
      "source": [
        "# TSNE visualization\n",
        "plt.scatter(tsne_df[tsne_df['label']=='bee'].iloc[:,0], tsne_df[tsne_df['label']=='bee'].iloc[:,1], c='r', s=50, cmap='viridis')\n",
        "plt.scatter(tsne_df[tsne_df['label']=='nobee'].iloc[:,0], tsne_df[tsne_df['label']=='nobee'].iloc[:,1], c='b', s=50, cmap='viridis')\n",
        "\n",
        "plt.title(\"True label\")\n"
      ],
      "execution_count": 24,
      "outputs": [
        {
          "output_type": "execute_result",
          "data": {
            "text/plain": [
              "Text(0.5, 1.0, 'True label')"
            ]
          },
          "metadata": {
            "tags": []
          },
          "execution_count": 24
        },
        {
          "output_type": "display_data",
          "data": {
            "image/png": "[encoded data removed]",
            "text/plain": [
              "<Figure size 432x288 with 1 Axes>"
            ]
          },
          "metadata": {
            "tags": [],
            "needs_background": "light"
          }
        }
      ]
    }
  ]
}