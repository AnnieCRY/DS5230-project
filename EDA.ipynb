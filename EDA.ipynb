{
  "nbformat": 4,
  "nbformat_minor": 0,
  "metadata": {
    "colab": {
      "name": "EDA.ipynb",
      "provenance": [],
      "include_colab_link": true
    },
    "kernelspec": {
      "name": "python3",
      "display_name": "Python 3"
    }
  },
  "cells": [
    {
      "cell_type": "markdown",
      "metadata": {
        "id": "view-in-github",
        "colab_type": "text"
      },
      "source": [
        "<a href=\"https://colab.research.google.com/github/AnnieCRY/DS5230-project/blob/master/EDA.ipynb\" target=\"_parent\"><img src=\"https://colab.research.google.com/assets/colab-badge.svg\" alt=\"Open In Colab\"/></a>"
      ]
    },
    {
      "cell_type": "markdown",
      "metadata": {
        "id": "Y7BvdDI3Tr1V",
        "colab_type": "text"
      },
      "source": [
        "#### load in processed data from previous step"
      ]
    },
    {
      "cell_type": "code",
      "metadata": {
        "id": "J37XxCiVAvLA",
        "colab_type": "code",
        "colab": {
          "base_uri": "https://localhost:8080/",
          "height": 55
        },
        "outputId": "5a1429b7-baa9-4b1d-c3fe-2686221734c6"
      },
      "source": [
        "# mount google drive\n",
        "from google.colab import drive\n",
        "drive.mount(\"/content/gdrive\")"
      ],
      "execution_count": 5,
      "outputs": [
        {
          "output_type": "stream",
          "text": [
            "Drive already mounted at /content/gdrive; to attempt to forcibly remount, call drive.mount(\"/content/gdrive\", force_remount=True).\n"
          ],
          "name": "stdout"
        }
      ]
    },
    {
      "cell_type": "code",
      "metadata": {
        "id": "FGXhgH_XTrcb",
        "colab_type": "code",
        "colab": {}
      },
      "source": [
        "# move zip file to colab vm\n",
        "! cp -r gdrive/My\\ Drive/5230Project/processed_data ./"
      ],
      "execution_count": 6,
      "outputs": []
    },
    {
      "cell_type": "code",
      "metadata": {
        "id": "d7yTLDxnTrfC",
        "colab_type": "code",
        "colab": {
          "base_uri": "https://localhost:8080/",
          "height": 106
        },
        "outputId": "7182b38e-ede3-42c2-dbd4-ec96184eafb0"
      },
      "source": [
        "# download the supporting files from github\n",
        "! rm -rf Audio_based_identification_beehive_states/\n",
        "! git clone https://github.com/Tonyz4516/Audio_based_identification_beehive_states.git"
      ],
      "execution_count": 7,
      "outputs": [
        {
          "output_type": "stream",
          "text": [
            "Cloning into 'Audio_based_identification_beehive_states'...\n",
            "remote: Enumerating objects: 114, done.\u001b[K\n",
            "remote: Total 114 (delta 0), reused 0 (delta 0), pack-reused 114\u001b[K\n",
            "Receiving objects: 100% (114/114), 56.94 KiB | 2.59 MiB/s, done.\n",
            "Resolving deltas: 100% (56/56), done.\n"
          ],
          "name": "stdout"
        }
      ]
    },
    {
      "cell_type": "code",
      "metadata": {
        "id": "MFBX-3-PTri-",
        "colab_type": "code",
        "colab": {}
      },
      "source": [
        "! mv Audio_based_identification_beehive_states/Bee_NotBee_classification/* ./\n"
      ],
      "execution_count": 8,
      "outputs": []
    },
    {
      "cell_type": "markdown",
      "metadata": {
        "id": "4HvwMtrMTHEH",
        "colab_type": "text"
      },
      "source": [
        "# PCA & TSNE"
      ]
    },
    {
      "cell_type": "code",
      "metadata": {
        "id": "OEZGLy8LM5V-",
        "colab_type": "code",
        "colab": {}
      },
      "source": [
        "! pip install muda"
      ],
      "execution_count": null,
      "outputs": []
    },
    {
      "cell_type": "code",
      "metadata": {
        "id": "1EkaCMQgi_Fg",
        "colab_type": "code",
        "colab": {}
      },
      "source": [
        "import os\n",
        "import pandas as pd\n",
        "import matplotlib.pyplot as plt\n",
        "from sklearn.decomposition import PCA\n",
        "from sklearn.manifold import TSNE\n",
        "from info import i, printb, printr, printp, print\n",
        "from utils import load_audioFiles_saves_segments, write_Statelabels_from_beeNotBeelabels, get_uniqueHives_names_from_File, split_samples_byHive, get_samples_id_perSet, get_features_from_samples, get_GT_labels_fromFiles, labels2binary\n"
      ],
      "execution_count": 1,
      "outputs": []
    },
    {
      "cell_type": "code",
      "metadata": {
        "id": "trFBfLh-MBGd",
        "colab_type": "code",
        "colab": {}
      },
      "source": [
        "block_size = 5\n",
        "path_workingFolder = '/content/processed_data/dataset_BeeNoBee_'+str(block_size)+'sec'+os.sep  # path where to save audio segments and labels files.\n",
        "labels2read = 'labels_BeeNotBee_th0'\n",
        "feature = 'MFCCs20'"
      ],
      "execution_count": 2,
      "outputs": []
    },
    {
      "cell_type": "code",
      "metadata": {
        "id": "SDFE2RRZMGwb",
        "colab_type": "code",
        "colab": {}
      },
      "source": [
        "# Feature extraction: \n",
        "# remember to un-comment the 3 lines about normalization in utils.get_features_from_samples\n",
        "sample_ids_test, sample_ids_train, sample_ids_val = get_samples_id_perSet(path_workingFolder+'split_random_0.json') \n",
        "    \n",
        "X_train = get_features_from_samples(path_workingFolder, sample_ids_train, 'MFCCs20', 'NO', 1)\n",
        "X_val = get_features_from_samples(path_workingFolder, sample_ids_val, 'MFCCs20', 'NO', 1)\n",
        "X_test = get_features_from_samples(path_workingFolder, sample_ids_test, 'MFCCs20', 'NO', 1)\n",
        "    \n",
        "    \n",
        "labels_train = get_GT_labels_fromFiles(path_workingFolder, sample_ids_train, labels2read)\n",
        "Y_train= labels2binary('nobee', labels_train)\n",
        "    \n",
        "labels_val = get_GT_labels_fromFiles(path_workingFolder, sample_ids_val, labels2read)\n",
        "Y_val= labels2binary('nobee', labels_val)\n",
        "    \n",
        "labels_test = get_GT_labels_fromFiles(path_workingFolder, sample_ids_test, labels2read)\n",
        "Y_test= labels2binary('nobee', labels_test)"
      ],
      "execution_count": 3,
      "outputs": []
    },
    {
      "cell_type": "code",
      "metadata": {
        "id": "pb1FKGRlMJw3",
        "colab_type": "code",
        "colab": {}
      },
      "source": [
        "# PCA:\n",
        "pca = PCA(n_components = 2)\n",
        "\n",
        "pca = PCA(n_components = 2).fit_transform(X_train)\n",
        "\n",
        "pca_df = pd.DataFrame(data = pca, columns = ['component1', 'component2'])\n",
        "\n",
        "pca_df = pd.concat([pca_df, pd.DataFrame(Y_train, columns = ['label'])], axis = 1)"
      ],
      "execution_count": 4,
      "outputs": []
    },
    {
      "cell_type": "code",
      "metadata": {
        "id": "IqRX7YxXMMx3",
        "colab_type": "code",
        "colab": {
          "base_uri": "https://localhost:8080/",
          "height": 295
        },
        "outputId": "78b58b06-cf50-418f-859b-58b51b3b7f53"
      },
      "source": [
        "# PCA visualization:\n",
        "fig = plt.figure()\n",
        "ax = fig.add_subplot(1,1,1) \n",
        "ax.set_xlabel('Principal Component 1')\n",
        "ax.set_ylabel('Principal Component 2')\n",
        "ax.set_title('2 component PCA')\n",
        "labels = [0, 1]\n",
        "colors = ['r', 'b']\n",
        "for label, color in zip(labels, colors):\n",
        "    indicesToKeep = pca_df['label'] == label\n",
        "    ax.scatter(pca_df.loc[indicesToKeep, 'component1']\n",
        "               , pca_df.loc[indicesToKeep, 'component2']\n",
        "               , c = color\n",
        "               , s = 50)\n",
        "ax.grid()\n",
        "ax.legend(labels)\n",
        "plt.show()"
      ],
      "execution_count": 5,
      "outputs": [
        {
          "output_type": "display_data",
          "data": {
            "image/png": "[encoded data removed]",
            "text/plain": [
              "<Figure size 432x288 with 1 Axes>"
            ]
          },
          "metadata": {
            "tags": [],
            "needs_background": "light"
          }
        }
      ]
    },
    {
      "cell_type": "code",
      "metadata": {
        "id": "EsQ-ynhnMPM0",
        "colab_type": "code",
        "colab": {}
      },
      "source": [
        "# TSNE:\n",
        "tsne = TSNE(n_components=2).fit_transform(X_train)\n",
        "\n",
        "tsne_df = pd.DataFrame(data = tsne, columns = ['component1', 'component2'])\n",
        "\n",
        "tsne_df = pd.concat([tsne_df, pd.DataFrame(Y_train, columns = ['label'])], axis = 1)"
      ],
      "execution_count": 6,
      "outputs": []
    },
    {
      "cell_type": "code",
      "metadata": {
        "id": "rj7QYrcOMRVd",
        "colab_type": "code",
        "colab": {
          "base_uri": "https://localhost:8080/",
          "height": 295
        },
        "outputId": "a388871c-2bab-4cec-e2fa-b0272436956e"
      },
      "source": [
        "# TSNE visualization\n",
        "fig2 = plt.figure()\n",
        "ax2 = fig2.add_subplot(1,1,1) \n",
        "ax2.set_xlabel('Component 1')\n",
        "ax2.set_ylabel('Component 2')\n",
        "ax2.set_title('2 component TSNE')\n",
        "for label, color in zip(labels, colors):\n",
        "    indicesToKeep = tsne_df['label'] == label\n",
        "    ax2.scatter(tsne_df.loc[indicesToKeep, 'component1']\n",
        "               , tsne_df.loc[indicesToKeep, 'component2']\n",
        "               , c = color\n",
        "               , s = 50)\n",
        "ax2.grid()\n",
        "ax2.legend(labels)\n",
        "plt.show()\n"
      ],
      "execution_count": 7,
      "outputs": [
        {
          "output_type": "display_data",
          "data": {
            "image/png": "[encoded data removed]",
            "text/plain": [
              "<Figure size 432x288 with 1 Axes>"
            ]
          },
          "metadata": {
            "tags": [],
            "needs_background": "light"
          }
        }
      ]
    }
  ]
}