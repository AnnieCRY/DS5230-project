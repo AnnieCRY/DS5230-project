{
  "nbformat": 4,
  "nbformat_minor": 0,
  "metadata": {
    "colab": {
      "name": "beehive_audio_clustering.ipynb",
      "provenance": [],
      "toc_visible": true,
      "authorship_tag": "ABX9TyNq5e2rg5Drt9oZDNbWOr+O",
      "include_colab_link": true
    },
    "kernelspec": {
      "name": "python3",
      "display_name": "Python 3"
    }
  },
  "cells": [
    {
      "cell_type": "markdown",
      "metadata": {
        "id": "view-in-github",
        "colab_type": "text"
      },
      "source": [
        "<a href=\"https://colab.research.google.com/github/AnnieCRY/DS5230-project/blob/master/beehive_audio_clustering.ipynb\" target=\"_parent\"><img src=\"https://colab.research.google.com/assets/colab-badge.svg\" alt=\"Open In Colab\"/></a>"
      ]
    },
    {
      "cell_type": "markdown",
      "metadata": {
        "id": "0yMAyzHlSRC6",
        "colab_type": "text"
      },
      "source": [
        "## Get processed data"
      ]
    },
    {
      "cell_type": "code",
      "metadata": {
        "id": "t5FSnuKfRkKf",
        "colab_type": "code",
        "colab": {
          "base_uri": "https://localhost:8080/",
          "height": 34
        },
        "outputId": "1860a090-c8a9-4224-9dee-176405544348"
      },
      "source": [
        "# mount google drive\n",
        "from google.colab import drive\n",
        "drive.mount(\"/content/gdrive\")\n",
        "\n",
        "\n",
        "! cp -r gdrive/My\\ Drive/5230Project/processed_data_25 ./"
      ],
      "execution_count": 65,
      "outputs": [
        {
          "output_type": "stream",
          "text": [
            "Drive already mounted at /content/gdrive; to attempt to forcibly remount, call drive.mount(\"/content/gdrive\", force_remount=True).\n"
          ],
          "name": "stdout"
        }
      ]
    },
    {
      "cell_type": "code",
      "metadata": {
        "id": "_GhIZ7VlVOir",
        "colab_type": "code",
        "colab": {
          "base_uri": "https://localhost:8080/",
          "height": 136
        },
        "outputId": "d0fced61-7be8-4b9e-f77f-d9b0f4207403"
      },
      "source": [
        "# download the supporting files from github\n",
        "! rm -rf Audio_based_identification_beehive_states/\n",
        "! git clone https://github.com/Tonyz4516/Audio_based_identification_beehive_states.git\n",
        "\n",
        "! mv Audio_based_identification_beehive_states/Bee_NotBee_classification/* ./"
      ],
      "execution_count": 2,
      "outputs": [
        {
          "output_type": "stream",
          "text": [
            "Cloning into 'Audio_based_identification_beehive_states'...\n",
            "remote: Enumerating objects: 4, done.\u001b[K\n",
            "remote: Counting objects: 100% (4/4), done.\u001b[K\n",
            "remote: Compressing objects: 100% (4/4), done.\u001b[K\n",
            "remote: Total 118 (delta 0), reused 0 (delta 0), pack-reused 114\u001b[K\n",
            "Receiving objects: 100% (118/118), 69.02 KiB | 5.75 MiB/s, done.\n",
            "Resolving deltas: 100% (56/56), done.\n"
          ],
          "name": "stdout"
        }
      ]
    },
    {
      "cell_type": "code",
      "metadata": {
        "id": "yaEbgwjNdw6o",
        "colab_type": "code",
        "colab": {}
      },
      "source": [
        "! pip install muda"
      ],
      "execution_count": null,
      "outputs": []
    },
    {
      "cell_type": "code",
      "metadata": {
        "id": "lQLcFyaGaljg",
        "colab_type": "code",
        "colab": {}
      },
      "source": [
        "import os\n",
        "import pandas as pd\n",
        "import matplotlib.pyplot as plt\n",
        "from utils import *\n",
        "import numpy, scipy, matplotlib.pyplot as plt, sklearn, librosa, mir_eval, IPython.display, urllib\n"
      ],
      "execution_count": 4,
      "outputs": []
    },
    {
      "cell_type": "markdown",
      "metadata": {
        "id": "Zy9jKxQ3nosp",
        "colab_type": "text"
      },
      "source": [
        "### State\n",
        "X_state, Y_state"
      ]
    },
    {
      "cell_type": "code",
      "metadata": {
        "id": "MUw6hN4senJz",
        "colab_type": "code",
        "colab": {}
      },
      "source": [
        "block_size = 5\n",
        "path_workingFolder = '/content/processed_data_25'+os.sep  # path where to save audio segments and labels files.\n",
        "labels2read = 'labels_BeeNotBee_th0'\n",
        "feature = 'MFCCs20'\n",
        "#sample_ids_test, sample_ids_train, sample_ids_val = get_samples_id_perSet(path_workingFolder+'split_random_0.json') "
      ],
      "execution_count": 75,
      "outputs": []
    },
    {
      "cell_type": "code",
      "metadata": {
        "id": "dHUkTVm1hwty",
        "colab_type": "code",
        "colab": {}
      },
      "source": [
        "def get_state_labels():\n",
        "  csv_file = path_workingFolder+\"state_labels.csv\"\n",
        "  df = pd.read_csv(csv_file)\n",
        "  return df['label'],df['sample_name']\n"
      ],
      "execution_count": 76,
      "outputs": []
    },
    {
      "cell_type": "code",
      "metadata": {
        "id": "09pGF856ioY-",
        "colab_type": "code",
        "colab": {}
      },
      "source": [
        "state_label, state_ids = get_state_labels()\n",
        "state_ids_name = []\n",
        "for id in state_ids:\n",
        "  state_ids_name.append(id+'.wav')"
      ],
      "execution_count": 77,
      "outputs": []
    },
    {
      "cell_type": "code",
      "metadata": {
        "id": "-gDWqdz4jWwk",
        "colab_type": "code",
        "colab": {}
      },
      "source": [
        "set(state_label)\n",
        "Y_state=state_label"
      ],
      "execution_count": 78,
      "outputs": []
    },
    {
      "cell_type": "code",
      "metadata": {
        "id": "8JTwCS7UU1hl",
        "colab_type": "code",
        "colab": {
          "base_uri": "https://localhost:8080/",
          "height": 34
        },
        "outputId": "8bfa77d7-5455-4cee-f746-aa978106ec75"
      },
      "source": [
        "set(Y_state)"
      ],
      "execution_count": 97,
      "outputs": [
        {
          "output_type": "execute_result",
          "data": {
            "text/plain": [
              "{'active', 'missing queen'}"
            ]
          },
          "metadata": {
            "tags": []
          },
          "execution_count": 97
        }
      ]
    },
    {
      "cell_type": "code",
      "metadata": {
        "id": "SwFaW6yajulA",
        "colab_type": "code",
        "colab": {}
      },
      "source": [
        "X_state = get_features_from_samples(path_workingFolder, state_ids_name, 'MFCCs20', 'NO', 1)"
      ],
      "execution_count": 79,
      "outputs": []
    },
    {
      "cell_type": "markdown",
      "metadata": {
        "id": "4UeK-U42oFt0",
        "colab_type": "text"
      },
      "source": [
        "### BeeNotBee\n",
        "X,Y"
      ]
    },
    {
      "cell_type": "code",
      "metadata": {
        "id": "xtpmrwvJOILu",
        "colab_type": "code",
        "colab": {}
      },
      "source": [
        "def modify_labels():\n",
        "    csv_file = path_workingFolder+\"labels_BeeNotBee_th0.csv\"\n",
        "    labels_BeeNotBee_th0 = pd.read_csv(csv_file)\n",
        "\n",
        "    def add_new_labels(df):\n",
        "        labels_l=[]\n",
        "        for x in df['label_strength']:\n",
        "            if x>0.95:\n",
        "                labels_l.append('nobee') \n",
        "            elif x==0:\n",
        "                labels_l.append('bee') \n",
        "            else:\n",
        "                labels_l.append('unknown') \n",
        "        df['label']=labels_l\n",
        "        df=df[df['label'] !='unknown']\n",
        "        return df,df['label'],df['sample_name']\n",
        "    \n",
        "    labels_BeeNotBee_th0,labels,ids=add_new_labels(labels_BeeNotBee_th0)\n",
        "    labels_BeeNotBee_th0.to_csv(csv_file)\n",
        "    return labels,ids\n",
        "labels,ids=modify_labels()"
      ],
      "execution_count": 168,
      "outputs": []
    },
    {
      "cell_type": "code",
      "metadata": {
        "id": "XIwULTL5QpYE",
        "colab_type": "code",
        "colab": {}
      },
      "source": [
        "sample_ids=[]\n",
        "for id in ids:\n",
        "  sample_ids.append(id+'.wav')"
      ],
      "execution_count": 169,
      "outputs": []
    },
    {
      "cell_type": "code",
      "metadata": {
        "id": "niLRnYa5svQN",
        "colab_type": "code",
        "colab": {
          "base_uri": "https://localhost:8080/",
          "height": 34
        },
        "outputId": "4ca5af14-3579-46c8-f0a7-07b96ac924e7"
      },
      "source": [
        "set(labels)"
      ],
      "execution_count": 171,
      "outputs": [
        {
          "output_type": "execute_result",
          "data": {
            "text/plain": [
              "{'bee', 'nobee'}"
            ]
          },
          "metadata": {
            "tags": []
          },
          "execution_count": 171
        }
      ]
    },
    {
      "cell_type": "code",
      "metadata": {
        "id": "mdme62WylVwz",
        "colab_type": "code",
        "colab": {}
      },
      "source": [
        "X = get_features_from_samples(path_workingFolder, sample_ids, 'MFCCs20', 'NO', 1)\n",
        "# X_val = get_features_from_samples(path_workingFolder, sample_ids_val, 'MFCCs20', 'NO', 1)\n",
        "# X_test = get_features_from_samples(path_workingFolder, sample_ids_test, 'MFCCs20', 'NO', 1)\n",
        "    "
      ],
      "execution_count": null,
      "outputs": []
    },
    {
      "cell_type": "code",
      "metadata": {
        "id": "turEISQMOjdS",
        "colab_type": "code",
        "colab": {}
      },
      "source": [
        "Y=labels"
      ],
      "execution_count": 84,
      "outputs": []
    },
    {
      "cell_type": "code",
      "metadata": {
        "id": "nj-brcXBFLdN",
        "colab_type": "code",
        "colab": {}
      },
      "source": [
        "# add normalizat - min_max\n",
        "#X_train_norm = get_features_from_samples(path_workingFolder, sample_ids_train, 'MFCCs20', 'min_max', 1)"
      ],
      "execution_count": 15,
      "outputs": []
    },
    {
      "cell_type": "code",
      "metadata": {
        "id": "kfejE6kUtUBA",
        "colab_type": "code",
        "colab": {}
      },
      "source": [
        "# labels_train = get_GT_labels_fromFiles(path_workingFolder, sample_ids_train, labels2read)\n",
        "# Y_train= labels2binary('nobee', labels_train)\n",
        "    \n",
        "# labels_val = get_GT_labels_fromFiles(path_workingFolder, sample_ids_val, labels2read)\n",
        "# Y_val= labels2binary('nobee', labels_val)\n",
        "    \n",
        "# labels_test = get_GT_labels_fromFiles(path_workingFolder, sample_ids_test, labels2read)\n",
        "# Y_test= labels2binary('nobee', labels_test)"
      ],
      "execution_count": 9,
      "outputs": []
    },
    {
      "cell_type": "markdown",
      "metadata": {
        "id": "432RD7f5tV6_",
        "colab_type": "text"
      },
      "source": [
        "## pca"
      ]
    },
    {
      "cell_type": "code",
      "metadata": {
        "id": "qtHKYWWPtNtM",
        "colab_type": "code",
        "colab": {}
      },
      "source": [
        "import os\n",
        "import pandas as pd\n",
        "import matplotlib.pyplot as plt\n",
        "from sklearn.decomposition import PCA\n",
        "from sklearn.manifold import TSNE"
      ],
      "execution_count": 22,
      "outputs": []
    },
    {
      "cell_type": "code",
      "metadata": {
        "id": "RhTcjSj9uGg6",
        "colab_type": "code",
        "colab": {}
      },
      "source": [
        "Y"
      ],
      "execution_count": null,
      "outputs": []
    },
    {
      "cell_type": "code",
      "metadata": {
        "id": "cPm3rb14tHYx",
        "colab_type": "code",
        "colab": {}
      },
      "source": [
        "pca2 = PCA(n_components = 2).fit_transform(X)\n",
        "\n",
        "pca2_df = pd.DataFrame(data = pca2, columns = ['component1', 'component2'])\n",
        "\n",
        "pca2_df = pd.concat([pca2_df, pd.DataFrame(Y, columns = ['label'])], axis = 1)"
      ],
      "execution_count": 85,
      "outputs": []
    },
    {
      "cell_type": "code",
      "metadata": {
        "id": "sb5KuDojqd6E",
        "colab_type": "code",
        "colab": {}
      },
      "source": [
        "pca2_state = PCA(n_components = 2).fit_transform(X_state)\n",
        "\n",
        "pca2_df_state = pd.DataFrame(data = pca2_state, columns = ['component1', 'component2'])\n",
        "\n",
        "pca2_df_state = pd.concat([pca2_df_state, pd.DataFrame(Y_state, columns = ['label'])], axis = 1)"
      ],
      "execution_count": 86,
      "outputs": []
    },
    {
      "cell_type": "code",
      "metadata": {
        "id": "InaHLiRpHhwv",
        "colab_type": "code",
        "colab": {
          "base_uri": "https://localhost:8080/",
          "height": 298
        },
        "outputId": "f239f379-64e7-4040-a857-df779411cfda"
      },
      "source": [
        "plt.scatter(pca2_df[pca2_df['label']=='bee'].iloc[:,0], pca2_df[pca2_df['label']=='bee'].iloc[:,1], c='r', s=50, cmap='viridis')\n",
        "plt.scatter(pca2_df[pca2_df['label']=='nobee'].iloc[:,0], pca2_df[pca2_df['label']=='nobee'].iloc[:,1], c='b', s=50, cmap='viridis')\n",
        "plt.scatter(pca2_df[pca2_df['label']=='unknown'].iloc[:,0], pca2_df[pca2_df['label']=='unknown'].iloc[:,1], c='g', s=50, cmap='viridis')\n",
        "\n",
        "plt.title(\"True label-bee/noBee\")"
      ],
      "execution_count": 96,
      "outputs": [
        {
          "output_type": "execute_result",
          "data": {
            "text/plain": [
              "Text(0.5, 1.0, 'True label-bee/noBee')"
            ]
          },
          "metadata": {
            "tags": []
          },
          "execution_count": 96
        },
        {
          "output_type": "display_data",
          "data": {
            "image/png": "[encoded data removed]",
            "text/plain": [
              "<Figure size 432x288 with 1 Axes>"
            ]
          },
          "metadata": {
            "tags": [],
            "needs_background": "light"
          }
        }
      ]
    },
    {
      "cell_type": "code",
      "metadata": {
        "id": "vkwXLMhEkv0S",
        "colab_type": "code",
        "colab": {
          "base_uri": "https://localhost:8080/",
          "height": 298
        },
        "outputId": "b4a5ed9c-35b4-492d-ca34-38865847351a"
      },
      "source": [
        "plt.scatter(pca2_df_state[pca2_df_state['label']=='missing queen'].iloc[:,0], pca2_df_state[pca2_df_state['label']=='missing queen'].iloc[:,1], c='r', s=10, cmap='viridis')\n",
        "plt.scatter(pca2_df_state[pca2_df_state['label']=='active'].iloc[:,0], pca2_df_state[pca2_df_state['label']=='active'].iloc[:,1], c='b', s=10, cmap='viridis')\n",
        "plt.title(\"True label-missing queen/active\")"
      ],
      "execution_count": 101,
      "outputs": [
        {
          "output_type": "execute_result",
          "data": {
            "text/plain": [
              "Text(0.5, 1.0, 'True label-missing queen/active')"
            ]
          },
          "metadata": {
            "tags": []
          },
          "execution_count": 101
        },
        {
          "output_type": "display_data",
          "data": {
            "image/png": "[encoded data removed]",
            "text/plain": [
              "<Figure size 432x288 with 1 Axes>"
            ]
          },
          "metadata": {
            "tags": [],
            "needs_background": "light"
          }
        }
      ]
    },
    {
      "cell_type": "markdown",
      "metadata": {
        "id": "b10EGOZZWRf8",
        "colab_type": "text"
      },
      "source": [
        "tsne"
      ]
    },
    {
      "cell_type": "code",
      "metadata": {
        "id": "M6JybiUEWS8s",
        "colab_type": "code",
        "colab": {}
      },
      "source": [
        "tsne = TSNE(n_components=2).fit_transform(X_state)\n",
        "\n",
        "tsne_df = pd.DataFrame(data = tsne, columns = ['component1', 'component2'])\n",
        "\n",
        "tsne_df = pd.concat([tsne_df, pd.DataFrame(Y_state, columns = ['label'])], axis = 1)"
      ],
      "execution_count": 102,
      "outputs": []
    },
    {
      "cell_type": "code",
      "metadata": {
        "id": "o4T3EXttWfQs",
        "colab_type": "code",
        "colab": {
          "base_uri": "https://localhost:8080/",
          "height": 298
        },
        "outputId": "03ea67b7-2bc2-4011-92a9-0ef8147f1eab"
      },
      "source": [
        "plt.scatter(tsne_df[tsne_df['label']=='missing queen'].iloc[:,0], tsne_df[tsne_df['label']=='missing queen'].iloc[:,1], c='r', s=10, cmap='viridis')\n",
        "plt.scatter(tsne_df[tsne_df['label']=='active'].iloc[:,0], tsne_df[tsne_df['label']=='active'].iloc[:,1], c='b', s=10, cmap='viridis')\n",
        "plt.title(\"True label-missing queen/active\")"
      ],
      "execution_count": 103,
      "outputs": [
        {
          "output_type": "execute_result",
          "data": {
            "text/plain": [
              "Text(0.5, 1.0, 'True label-missing queen/active')"
            ]
          },
          "metadata": {
            "tags": []
          },
          "execution_count": 103
        },
        {
          "output_type": "display_data",
          "data": {
            "image/png": "[encoded data removed]",
            "text/plain": [
              "<Figure size 432x288 with 1 Axes>"
            ]
          },
          "metadata": {
            "tags": [],
            "needs_background": "light"
          }
        }
      ]
    },
    {
      "cell_type": "code",
      "metadata": {
        "id": "OSSSmuFUUGkk",
        "colab_type": "code",
        "colab": {}
      },
      "source": [
        "# plt.scatter(pca_df[pca_df['label']=='bee'].iloc[:,0], pca_df[pca_df['label']=='bee'].iloc[:,1], c='r', s=50, cmap='viridis')\n",
        "# plt.scatter(pca_df[pca_df['label']=='nobee'].iloc[:,0], pca_df[pca_df['label']=='nobee'].iloc[:,1], c='b', s=50, cmap='viridis')\n",
        "# plt.legend(c)\n",
        "# plt.title(\"True label\")"
      ],
      "execution_count": 128,
      "outputs": []
    },
    {
      "cell_type": "code",
      "metadata": {
        "id": "Wd0ztlyex5mT",
        "colab_type": "code",
        "colab": {}
      },
      "source": [
        "pca3 = PCA(n_components = 3).fit_transform(X)\n",
        "pca3_df = pd.DataFrame(data = pca3, columns = ['PC1', 'PC2','PC3'])\n",
        "pca3_df = pd.concat([pca3_df, pd.DataFrame(Y, columns = ['label'])], axis = 1)\n",
        "\n",
        "pca3_state = PCA(n_components = 3).fit_transform(X_state)\n",
        "pca3_df_state = pd.DataFrame(data = pca3_state, columns = ['PC1', 'PC2','PC3'])\n",
        "pca3_df_state = pd.concat([pca3_df_state, pd.DataFrame(Y_state, columns = ['label'])], axis = 1)"
      ],
      "execution_count": 88,
      "outputs": []
    },
    {
      "cell_type": "code",
      "metadata": {
        "id": "30LYwMv1yPox",
        "colab_type": "code",
        "colab": {}
      },
      "source": [
        "# fig = px.scatter_3d(pca3_df, x='PC1', y='PC2', z='PC3',color='label')\n",
        "# fig.show()"
      ],
      "execution_count": 121,
      "outputs": []
    },
    {
      "cell_type": "code",
      "metadata": {
        "id": "7_zXirZqUmRF",
        "colab_type": "code",
        "colab": {}
      },
      "source": [
        "# import plotly.express as px\n",
        "# fig = px.scatter_3d(pca3_df_state, x='PC1', y='PC2', z='PC3',color='label')\n",
        "# fig.show()"
      ],
      "execution_count": 122,
      "outputs": []
    },
    {
      "cell_type": "markdown",
      "metadata": {
        "id": "IAfW_r4hsFgN",
        "colab_type": "text"
      },
      "source": [
        "## K-means"
      ]
    },
    {
      "cell_type": "code",
      "metadata": {
        "id": "N-1FGT9tLzuk",
        "colab_type": "code",
        "colab": {}
      },
      "source": [
        "from sklearn.preprocessing import normalize"
      ],
      "execution_count": 66,
      "outputs": []
    },
    {
      "cell_type": "code",
      "metadata": {
        "id": "pYI-yZzee864",
        "colab_type": "code",
        "colab": {}
      },
      "source": [
        "model = sklearn.cluster.KMeans(n_clusters=2)\n",
        "Y_tsne = model.fit_predict(tsne)"
      ],
      "execution_count": 105,
      "outputs": []
    },
    {
      "cell_type": "code",
      "metadata": {
        "id": "IjQZEtXEuh_d",
        "colab_type": "code",
        "colab": {
          "base_uri": "https://localhost:8080/",
          "height": 34
        },
        "outputId": "a4c9830f-5139-477d-e376-a0143ba0eff6"
      },
      "source": [
        "model = sklearn.cluster.KMeans(n_clusters=2)\n",
        "Y_pred = model.fit_predict(norm(X))\n",
        "Y_pred"
      ],
      "execution_count": 153,
      "outputs": [
        {
          "output_type": "execute_result",
          "data": {
            "text/plain": [
              "array([1, 1, 1, ..., 0, 0, 0], dtype=int32)"
            ]
          },
          "metadata": {
            "tags": []
          },
          "execution_count": 153
        }
      ]
    },
    {
      "cell_type": "code",
      "metadata": {
        "id": "xaUvvoVgyIN3",
        "colab_type": "code",
        "colab": {}
      },
      "source": [
        "pred_km_state = pd.concat([pca3_df_state, pd.DataFrame(list(Y_pred), columns = ['predicted_label'])],axis=1)"
      ],
      "execution_count": 57,
      "outputs": []
    },
    {
      "cell_type": "code",
      "metadata": {
        "id": "G4Tgecgq3k9p",
        "colab_type": "code",
        "colab": {}
      },
      "source": [
        "pred_km = pd.concat([tsne_df, pd.DataFrame(list(Y_pred), columns = ['predicted_label'])],axis=1)"
      ],
      "execution_count": 132,
      "outputs": []
    },
    {
      "cell_type": "markdown",
      "metadata": {
        "id": "XF1r146zsIYJ",
        "colab_type": "text"
      },
      "source": [
        "plot results "
      ]
    },
    {
      "cell_type": "code",
      "metadata": {
        "id": "HbcKEVhj2r67",
        "colab_type": "code",
        "colab": {}
      },
      "source": [
        "# fig = px.scatter_3d(pca3_df, x='PC1', y='PC2', z='PC3',color='label')\n",
        "# fig.show()"
      ],
      "execution_count": 124,
      "outputs": []
    },
    {
      "cell_type": "code",
      "metadata": {
        "id": "L9VVx1D82047",
        "colab_type": "code",
        "colab": {}
      },
      "source": [
        "# fig = px.scatter_3d(pred_km, x='PC1', y='PC2', z='PC3',color='predicted_label')\n",
        "# fig.show()"
      ],
      "execution_count": 125,
      "outputs": []
    },
    {
      "cell_type": "code",
      "metadata": {
        "id": "skV3pvyXvTn1",
        "colab_type": "code",
        "colab": {
          "base_uri": "https://localhost:8080/",
          "height": 298
        },
        "outputId": "411ed323-33f3-4f89-8654-bd7d93724ffe"
      },
      "source": [
        "\n",
        "plt.scatter(pred_km[pred_km['predicted_label']==0].iloc[:,0], pred_km[pred_km['predicted_label']==0].iloc[:,1], c='r', s=5, cmap='viridis')\n",
        "plt.scatter(pred_km[pred_km['predicted_label']==1].iloc[:,0], pred_km[pred_km['predicted_label']==1].iloc[:,1], c='b', s=5, cmap='viridis')\n",
        "\n",
        "plt.title(\"prediction with K-means\")"
      ],
      "execution_count": 133,
      "outputs": [
        {
          "output_type": "execute_result",
          "data": {
            "text/plain": [
              "Text(0.5, 1.0, 'prediction with K-means')"
            ]
          },
          "metadata": {
            "tags": []
          },
          "execution_count": 133
        },
        {
          "output_type": "display_data",
          "data": {
            "image/png": "[encoded data removed]",
            "text/plain": [
              "<Figure size 432x288 with 1 Axes>"
            ]
          },
          "metadata": {
            "tags": [],
            "needs_background": "light"
          }
        }
      ]
    },
    {
      "cell_type": "code",
      "metadata": {
        "id": "8q2vDfM0r7S-",
        "colab_type": "code",
        "colab": {
          "base_uri": "https://localhost:8080/",
          "height": 298
        },
        "outputId": "ae9186ef-5aca-47b9-8261-38dc18a9a787"
      },
      "source": [
        "plt.scatter(pred_km[pred_km['label']==0].iloc[:,0], pred_km[pred_km['label']==0].iloc[:,1], c='r', s=50, cmap='viridis')\n",
        "plt.scatter(pred_km[pred_km['label']==1].iloc[:,0], pred_km[pred_km['label']==1].iloc[:,1], c='b', s=50, cmap='viridis')\n",
        "\n",
        "plt.legend(('nobee', 'bee'))\n",
        "plt.title(\"True label\")"
      ],
      "execution_count": null,
      "outputs": [
        {
          "output_type": "execute_result",
          "data": {
            "text/plain": [
              "Text(0.5, 1.0, 'True label')"
            ]
          },
          "metadata": {
            "tags": []
          },
          "execution_count": 90
        },
        {
          "output_type": "display_data",
          "data": {
            "image/png": "[encoded data removed]",
            "text/plain": [
              "<Figure size 432x288 with 1 Axes>"
            ]
          },
          "metadata": {
            "tags": [],
            "needs_background": "light"
          }
        }
      ]
    },
    {
      "cell_type": "markdown",
      "metadata": {
        "id": "ZCN5DVyhiA4X",
        "colab_type": "text"
      },
      "source": [
        "### Evaluation "
      ]
    },
    {
      "cell_type": "code",
      "metadata": {
        "id": "Wq3YZaZWfm27",
        "colab_type": "code",
        "colab": {}
      },
      "source": [
        "Y"
      ],
      "execution_count": null,
      "outputs": []
    },
    {
      "cell_type": "code",
      "metadata": {
        "id": "e1js56ZvfrXA",
        "colab_type": "code",
        "colab": {}
      },
      "source": [
        "true_state=[]\n",
        "for i in Y_state:\n",
        "  if i=='active':\n",
        "    true_state.append(0)\n",
        "  else:\n",
        "    true_state.append(1)\n"
      ],
      "execution_count": 149,
      "outputs": []
    },
    {
      "cell_type": "code",
      "metadata": {
        "id": "T5JgoPRFsUv2",
        "colab_type": "code",
        "colab": {
          "base_uri": "https://localhost:8080/",
          "height": 51
        },
        "outputId": "e37f3751-10ea-483e-abf7-23638c0cef08"
      },
      "source": [
        "from sklearn.metrics import confusion_matrix\n",
        "from sklearn.metrics import accuracy_score\n",
        "\n",
        "cm = confusion_matrix(true_state, Y_pred)\n",
        "cm"
      ],
      "execution_count": 154,
      "outputs": [
        {
          "output_type": "execute_result",
          "data": {
            "text/plain": [
              "array([[1096,  668],\n",
              "       [ 471,  592]])"
            ]
          },
          "metadata": {
            "tags": []
          },
          "execution_count": 154
        }
      ]
    },
    {
      "cell_type": "code",
      "metadata": {
        "id": "d_FTxjkuLyON",
        "colab_type": "code",
        "colab": {
          "base_uri": "https://localhost:8080/",
          "height": 34
        },
        "outputId": "478156f6-09fa-495d-90ee-12f688067757"
      },
      "source": [
        "from sklearn.metrics import f1_score\n",
        "f1_score(true_state, Y_pred)"
      ],
      "execution_count": 155,
      "outputs": [
        {
          "output_type": "execute_result",
          "data": {
            "text/plain": [
              "0.509685751183814"
            ]
          },
          "metadata": {
            "tags": []
          },
          "execution_count": 155
        }
      ]
    },
    {
      "cell_type": "code",
      "metadata": {
        "id": "WMF8vm-gJZQW",
        "colab_type": "code",
        "colab": {
          "base_uri": "https://localhost:8080/",
          "height": 34
        },
        "outputId": "73a7708f-f327-467f-8004-7f383e20e281"
      },
      "source": [
        "accuracy_score(true_state, Y_pred)"
      ],
      "execution_count": 156,
      "outputs": [
        {
          "output_type": "execute_result",
          "data": {
            "text/plain": [
              "0.5970993986558188"
            ]
          },
          "metadata": {
            "tags": []
          },
          "execution_count": 156
        }
      ]
    },
    {
      "cell_type": "code",
      "metadata": {
        "id": "aF5vgcOlJ9wj",
        "colab_type": "code",
        "colab": {
          "base_uri": "https://localhost:8080/",
          "height": 34
        },
        "outputId": "60e6361c-5e68-4c45-d222-584bed002dc9"
      },
      "source": [
        "accuracy_score(labels_pca, Y_train)"
      ],
      "execution_count": 33,
      "outputs": [
        {
          "output_type": "execute_result",
          "data": {
            "text/plain": [
              "0.5975103734439834"
            ]
          },
          "metadata": {
            "tags": []
          },
          "execution_count": 33
        }
      ]
    },
    {
      "cell_type": "code",
      "metadata": {
        "id": "Ko-ef6cHKsP7",
        "colab_type": "code",
        "colab": {}
      },
      "source": [
        "for i in range(1,80):\n",
        "  print(i)\n",
        "  pca_80 = PCA(n_components = i).fit_transform(X_train)\n",
        "  labels_80 = model.fit_predict(pca_80)\n",
        "  print(accuracy_score(labels_80, Y_train))"
      ],
      "execution_count": null,
      "outputs": []
    },
    {
      "cell_type": "code",
      "metadata": {
        "id": "GZUQtWIcJnJj",
        "colab_type": "code",
        "colab": {
          "base_uri": "https://localhost:8080/",
          "height": 34
        },
        "outputId": "bd86c9a5-706b-4805-cb38-4649a44dd8f0"
      },
      "source": [
        "#testing dataset\n",
        "y_test = model.fit_predict(X_test)\n",
        "accuracy_score(y_test, Y_test)"
      ],
      "execution_count": 31,
      "outputs": [
        {
          "output_type": "execute_result",
          "data": {
            "text/plain": [
              "0.5925925925925926"
            ]
          },
          "metadata": {
            "tags": []
          },
          "execution_count": 31
        }
      ]
    },
    {
      "cell_type": "code",
      "metadata": {
        "id": "J2fZQpmFKbUC",
        "colab_type": "code",
        "colab": {}
      },
      "source": [
        ""
      ],
      "execution_count": null,
      "outputs": []
    }
  ]
}