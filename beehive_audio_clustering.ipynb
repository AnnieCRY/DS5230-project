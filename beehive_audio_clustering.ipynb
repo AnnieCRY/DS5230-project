{
  "nbformat": 4,
  "nbformat_minor": 0,
  "metadata": {
    "colab": {
      "name": "beehive_audio_clustering.ipynb",
      "provenance": [],
      "toc_visible": true,
      "authorship_tag": "ABX9TyMnm/FIKUAuek4clDlhoFnn",
      "include_colab_link": true
    },
    "kernelspec": {
      "name": "python3",
      "display_name": "Python 3"
    }
  },
  "cells": [
    {
      "cell_type": "markdown",
      "metadata": {
        "id": "view-in-github",
        "colab_type": "text"
      },
      "source": [
        "<a href=\"https://colab.research.google.com/github/AnnieCRY/DS5230-project/blob/master/beehive_audio_clustering.ipynb\" target=\"_parent\"><img src=\"https://colab.research.google.com/assets/colab-badge.svg\" alt=\"Open In Colab\"/></a>"
      ]
    },
    {
      "cell_type": "markdown",
      "metadata": {
        "id": "0yMAyzHlSRC6",
        "colab_type": "text"
      },
      "source": [
        "## Get processed data"
      ]
    },
    {
      "cell_type": "code",
      "metadata": {
        "id": "t5FSnuKfRkKf",
        "colab_type": "code",
        "colab": {
          "base_uri": "https://localhost:8080/",
          "height": 122
        },
        "outputId": "87cf89cb-df44-4cf2-d13c-0bf8408de7d0"
      },
      "source": [
        "# mount google drive\n",
        "from google.colab import drive\n",
        "drive.mount(\"/content/gdrive\")\n",
        "# move zip file to colab vm\n",
        "! cp -r gdrive/My\\ Drive/5230Project/processed_data ./"
      ],
      "execution_count": 1,
      "outputs": [
        {
          "output_type": "stream",
          "text": [
            "Go to this URL in a browser: https://accounts.google.com/o/oauth2/auth?client_id=947318989803-6bn6qk8qdgf4n4g3pfee6491hc0brc4i.apps.googleusercontent.com&redirect_uri=urn%3aietf%3awg%3aoauth%3a2.0%3aoob&response_type=code&scope=email%20https%3a%2f%2fwww.googleapis.com%2fauth%2fdocs.test%20https%3a%2f%2fwww.googleapis.com%2fauth%2fdrive%20https%3a%2f%2fwww.googleapis.com%2fauth%2fdrive.photos.readonly%20https%3a%2f%2fwww.googleapis.com%2fauth%2fpeopleapi.readonly\n",
            "\n",
            "Enter your authorization code:\n",
            "··········\n",
            "Mounted at /content/gdrive\n"
          ],
          "name": "stdout"
        }
      ]
    },
    {
      "cell_type": "code",
      "metadata": {
        "id": "_GhIZ7VlVOir",
        "colab_type": "code",
        "colab": {
          "base_uri": "https://localhost:8080/",
          "height": 102
        },
        "outputId": "2e66cf49-3a77-4300-b398-8cc1b87153cd"
      },
      "source": [
        "# download the supporting files from github\n",
        "! rm -rf Audio_based_identification_beehive_states/\n",
        "! git clone https://github.com/Tonyz4516/Audio_based_identification_beehive_states.git\n",
        "\n",
        "! mv Audio_based_identification_beehive_states/Bee_NotBee_classification/* ./"
      ],
      "execution_count": 2,
      "outputs": [
        {
          "output_type": "stream",
          "text": [
            "Cloning into 'Audio_based_identification_beehive_states'...\n",
            "remote: Enumerating objects: 114, done.\u001b[K\n",
            "Receiving objects: 100% (114/114), 56.94 KiB | 2.85 MiB/s, done.\n",
            "remote: Total 114 (delta 0), reused 0 (delta 0), pack-reused 114\u001b[K\n",
            "Resolving deltas: 100% (56/56), done.\n"
          ],
          "name": "stdout"
        }
      ]
    },
    {
      "cell_type": "code",
      "metadata": {
        "id": "yaEbgwjNdw6o",
        "colab_type": "code",
        "colab": {}
      },
      "source": [
        "! pip install muda"
      ],
      "execution_count": null,
      "outputs": []
    },
    {
      "cell_type": "code",
      "metadata": {
        "id": "lQLcFyaGaljg",
        "colab_type": "code",
        "colab": {}
      },
      "source": [
        "import os\n",
        "import pandas as pd\n",
        "import matplotlib.pyplot as plt\n",
        "from utils import *\n",
        "import numpy, scipy, matplotlib.pyplot as plt, sklearn, librosa, mir_eval, IPython.display, urllib\n"
      ],
      "execution_count": 33,
      "outputs": []
    },
    {
      "cell_type": "code",
      "metadata": {
        "id": "MUw6hN4senJz",
        "colab_type": "code",
        "colab": {}
      },
      "source": [
        "block_size = 5\n",
        "path_workingFolder = '/content/processed_data/dataset_BeeNoBee_'+str(block_size)+'sec'+os.sep  # path where to save audio segments and labels files.\n",
        "labels2read = 'labels_BeeNotBee_th0'\n",
        "feature = 'MFCCs20'\n",
        "sample_ids_test, sample_ids_train, sample_ids_val = get_samples_id_perSet(path_workingFolder+'split_random_0.json') "
      ],
      "execution_count": 34,
      "outputs": []
    },
    {
      "cell_type": "code",
      "metadata": {
        "id": "XGrx7nGcp6TW",
        "colab_type": "code",
        "colab": {
          "base_uri": "https://localhost:8080/",
          "height": 34
        },
        "outputId": "fc35ff5a-7b13-45a8-f153-47e86bfd1c85"
      },
      "source": [
        "get_features_from_samples"
      ],
      "execution_count": 35,
      "outputs": [
        {
          "output_type": "execute_result",
          "data": {
            "text/plain": [
              "<function utils.get_features_from_samples>"
            ]
          },
          "metadata": {
            "tags": []
          },
          "execution_count": 35
        }
      ]
    },
    {
      "cell_type": "code",
      "metadata": {
        "id": "MQyDa6f4qC-K",
        "colab_type": "code",
        "colab": {}
      },
      "source": [
        "def get_features_from_samples(path_audio_samples, sample_ids, raw_feature, normalization, high_level_features ): #normalization = NO, z_norm, min_max\n",
        "    ## function to extract features \n",
        "    #high_level_features = 0 or 1 \n",
        "    \n",
        "    n_samples_set = len(sample_ids) # 4\n",
        "    feature_Maps = []\n",
        "    \n",
        "    for sample in sample_ids:\n",
        "        \n",
        "        # raw feature extraction:\n",
        "        x = raw_feature_fromSample( path_audio_samples+sample, raw_feature ) # x.shape: (4, 20, 2584)\n",
        "        \n",
        "        \n",
        "        ##normalization here:\n",
        "        if not normalization == 'NO':\n",
        "          x_norm = featureMap_normalization_block_level(x, normalizationType = normalization) \n",
        "        else: \n",
        "          x_norm = x\n",
        "        \n",
        "        if high_level_features:\n",
        "            # high level feature extraction:\n",
        "            if 'MFCCs' in raw_feature:\n",
        "              #x_norm = featureMap_normalization_block_level(x, normalizationType = normalization) \n",
        "                X = compute_statistics_overMFCCs(x_norm, 'yes') # X.shape: (4 , 120)\n",
        "            else: \n",
        "                X = compute_statistics_overSpectogram(x_norm)\n",
        "                \n",
        "            feature_map=X\n",
        "        else:\n",
        "            feature_map=x_norm\n",
        "        \n",
        "        \n",
        "        feature_Maps.append(feature_map)\n",
        "        \n",
        "    return feature_Maps"
      ],
      "execution_count": 37,
      "outputs": []
    },
    {
      "cell_type": "code",
      "metadata": {
        "id": "mdme62WylVwz",
        "colab_type": "code",
        "colab": {}
      },
      "source": [
        "X_train = get_features_from_samples(path_workingFolder, sample_ids_train, 'MFCCs20', 'NO', 1)\n",
        "X_val = get_features_from_samples(path_workingFolder, sample_ids_val, 'MFCCs20', 'NO', 1)\n",
        "X_test = get_features_from_samples(path_workingFolder, sample_ids_test, 'MFCCs20', 'NO', 1)\n",
        "    "
      ],
      "execution_count": 38,
      "outputs": []
    },
    {
      "cell_type": "code",
      "metadata": {
        "id": "kfejE6kUtUBA",
        "colab_type": "code",
        "colab": {}
      },
      "source": [
        "labels_train = get_GT_labels_fromFiles(path_workingFolder, sample_ids_train, labels2read)\n",
        "Y_train= labels2binary('nobee', labels_train)\n",
        "    \n",
        "labels_val = get_GT_labels_fromFiles(path_workingFolder, sample_ids_val, labels2read)\n",
        "Y_val= labels2binary('nobee', labels_val)\n",
        "    \n",
        "labels_test = get_GT_labels_fromFiles(path_workingFolder, sample_ids_test, labels2read)\n",
        "Y_test= labels2binary('nobee', labels_test)"
      ],
      "execution_count": 49,
      "outputs": []
    },
    {
      "cell_type": "markdown",
      "metadata": {
        "id": "432RD7f5tV6_",
        "colab_type": "text"
      },
      "source": [
        "## pca"
      ]
    },
    {
      "cell_type": "code",
      "metadata": {
        "id": "qtHKYWWPtNtM",
        "colab_type": "code",
        "colab": {}
      },
      "source": [
        "import os\n",
        "import pandas as pd\n",
        "import matplotlib.pyplot as plt\n",
        "from sklearn.decomposition import PCA\n",
        "from sklearn.manifold import TSNE"
      ],
      "execution_count": 47,
      "outputs": []
    },
    {
      "cell_type": "code",
      "metadata": {
        "id": "RhTcjSj9uGg6",
        "colab_type": "code",
        "colab": {
          "base_uri": "https://localhost:8080/",
          "height": 34
        },
        "outputId": "2a479944-b62d-4aa3-dfdb-58ef402fafb7"
      },
      "source": [
        "len(X_train)"
      ],
      "execution_count": 53,
      "outputs": [
        {
          "output_type": "execute_result",
          "data": {
            "text/plain": [
              "241"
            ]
          },
          "metadata": {
            "tags": []
          },
          "execution_count": 53
        }
      ]
    },
    {
      "cell_type": "code",
      "metadata": {
        "id": "cPm3rb14tHYx",
        "colab_type": "code",
        "colab": {}
      },
      "source": [
        "pca = PCA(n_components = 2)\n",
        "\n",
        "pca = PCA(n_components = 2).fit_transform(X_train)\n",
        "\n",
        "pca_df = pd.DataFrame(data = pca, columns = ['component1', 'component2'])\n",
        "\n",
        "pca_df = pd.concat([pca_df, pd.DataFrame(Y_train, columns = ['label'])], axis = 1)"
      ],
      "execution_count": 50,
      "outputs": []
    },
    {
      "cell_type": "markdown",
      "metadata": {
        "id": "IAfW_r4hsFgN",
        "colab_type": "text"
      },
      "source": [
        "## K-means"
      ]
    },
    {
      "cell_type": "code",
      "metadata": {
        "id": "pYI-yZzee864",
        "colab_type": "code",
        "colab": {
          "base_uri": "https://localhost:8080/",
          "height": 221
        },
        "outputId": "285f81d3-a3e9-49e8-b330-f56492a6a742"
      },
      "source": [
        "model = sklearn.cluster.KMeans(n_clusters=2)\n",
        "labels_pca = model.fit_predict(pca)\n",
        "labels_pca"
      ],
      "execution_count": 54,
      "outputs": [
        {
          "output_type": "execute_result",
          "data": {
            "text/plain": [
              "array([0, 0, 0, 0, 0, 0, 0, 0, 0, 0, 0, 0, 0, 0, 0, 0, 0, 0, 0, 0, 0, 0,\n",
              "       0, 0, 0, 0, 0, 1, 1, 1, 1, 1, 1, 1, 1, 1, 1, 1, 1, 1, 1, 1, 1, 1,\n",
              "       1, 1, 1, 1, 1, 1, 1, 1, 1, 1, 1, 1, 1, 1, 1, 1, 1, 1, 1, 1, 1, 1,\n",
              "       1, 1, 1, 1, 1, 1, 1, 1, 1, 1, 1, 1, 1, 1, 1, 1, 1, 1, 1, 1, 1, 1,\n",
              "       1, 1, 1, 1, 1, 1, 1, 1, 1, 1, 1, 1, 1, 1, 1, 1, 1, 1, 1, 1, 1, 1,\n",
              "       1, 1, 1, 1, 1, 1, 1, 1, 1, 1, 1, 1, 1, 1, 1, 1, 1, 1, 1, 1, 1, 1,\n",
              "       0, 0, 0, 0, 0, 0, 0, 0, 0, 0, 0, 0, 0, 0, 0, 0, 0, 0, 0, 0, 0, 0,\n",
              "       0, 0, 0, 0, 0, 0, 0, 0, 0, 0, 0, 0, 0, 0, 0, 0, 0, 0, 0, 0, 0, 0,\n",
              "       0, 0, 0, 0, 0, 0, 0, 0, 0, 0, 0, 0, 0, 0, 0, 0, 0, 0, 0, 0, 0, 0,\n",
              "       0, 0, 0, 0, 0, 0, 0, 0, 0, 0, 0, 0, 0, 0, 0, 0, 0, 0, 0, 0, 0, 0,\n",
              "       0, 0, 0, 0, 0, 0, 0, 0, 0, 0, 0, 0, 0, 0, 0, 0, 0, 0, 0, 0, 0],\n",
              "      dtype=int32)"
            ]
          },
          "metadata": {
            "tags": []
          },
          "execution_count": 54
        }
      ]
    },
    {
      "cell_type": "code",
      "metadata": {
        "id": "IjQZEtXEuh_d",
        "colab_type": "code",
        "colab": {
          "base_uri": "https://localhost:8080/",
          "height": 221
        },
        "outputId": "da1632d0-f4de-4129-ff56-3c0e4e8cda11"
      },
      "source": [
        "labels = model.fit_predict(X_train)\n",
        "labels"
      ],
      "execution_count": 79,
      "outputs": [
        {
          "output_type": "execute_result",
          "data": {
            "text/plain": [
              "array([1, 1, 1, 1, 1, 1, 1, 1, 1, 1, 1, 1, 1, 1, 1, 1, 1, 1, 1, 1, 1, 1,\n",
              "       1, 1, 1, 1, 1, 0, 0, 0, 0, 0, 0, 0, 0, 0, 0, 0, 0, 0, 0, 0, 0, 0,\n",
              "       0, 0, 0, 0, 0, 0, 0, 0, 0, 0, 0, 0, 0, 0, 0, 0, 0, 0, 0, 0, 0, 0,\n",
              "       0, 0, 0, 0, 0, 0, 0, 0, 0, 0, 0, 0, 0, 0, 0, 0, 0, 0, 0, 0, 0, 0,\n",
              "       0, 0, 0, 0, 0, 0, 0, 0, 0, 0, 0, 0, 0, 0, 0, 0, 0, 0, 0, 0, 0, 0,\n",
              "       0, 0, 0, 0, 0, 0, 0, 0, 0, 0, 0, 0, 0, 0, 0, 0, 0, 0, 0, 0, 0, 0,\n",
              "       1, 1, 1, 1, 1, 1, 1, 1, 1, 1, 1, 1, 1, 1, 1, 1, 1, 1, 1, 1, 1, 1,\n",
              "       1, 1, 1, 1, 1, 1, 1, 1, 1, 1, 1, 1, 1, 1, 1, 1, 1, 1, 1, 1, 1, 1,\n",
              "       1, 1, 1, 1, 1, 1, 1, 1, 1, 1, 1, 1, 1, 1, 1, 1, 1, 1, 1, 1, 1, 1,\n",
              "       1, 1, 1, 1, 1, 1, 1, 1, 1, 1, 1, 1, 1, 1, 1, 1, 1, 1, 1, 1, 1, 1,\n",
              "       1, 1, 1, 1, 1, 1, 1, 1, 1, 1, 1, 1, 1, 1, 1, 1, 1, 1, 1, 1, 1],\n",
              "      dtype=int32)"
            ]
          },
          "metadata": {
            "tags": []
          },
          "execution_count": 79
        }
      ]
    },
    {
      "cell_type": "code",
      "metadata": {
        "id": "xaUvvoVgyIN3",
        "colab_type": "code",
        "colab": {}
      },
      "source": [
        "pred_km = pd.concat([pca_df, pd.DataFrame(list(labels), columns = ['predicted_label'])],axis=1)"
      ],
      "execution_count": 85,
      "outputs": []
    },
    {
      "cell_type": "markdown",
      "metadata": {
        "id": "XF1r146zsIYJ",
        "colab_type": "text"
      },
      "source": [
        "plot results "
      ]
    },
    {
      "cell_type": "code",
      "metadata": {
        "id": "skV3pvyXvTn1",
        "colab_type": "code",
        "colab": {
          "base_uri": "https://localhost:8080/",
          "height": 298
        },
        "outputId": "99c4a418-ab48-4ea3-f9b0-99ae0bc17fb4"
      },
      "source": [
        "\n",
        "plt.scatter(pred_km[pred_km['predicted_label']==0].iloc[:,0], pred_km[pred_km['predicted_label']==0].iloc[:,1], c='r', s=50, cmap='viridis')\n",
        "plt.scatter(pred_km[pred_km['predicted_label']==1].iloc[:,0], pred_km[pred_km['predicted_label']==1].iloc[:,1], c='b', s=50, cmap='viridis')\n",
        "\n",
        "plt.legend(('nobee', 'bee'))\n",
        "plt.title(\"prediction with K-means\")"
      ],
      "execution_count": 89,
      "outputs": [
        {
          "output_type": "execute_result",
          "data": {
            "text/plain": [
              "Text(0.5, 1.0, 'prediction with K-means')"
            ]
          },
          "metadata": {
            "tags": []
          },
          "execution_count": 89
        },
        {
          "output_type": "display_data",
          "data": {
            "image/png": "[encoded data removed]",
            "text/plain": [
              "<Figure size 432x288 with 1 Axes>"
            ]
          },
          "metadata": {
            "tags": [],
            "needs_background": "light"
          }
        }
      ]
    },
    {
      "cell_type": "code",
      "metadata": {
        "id": "8q2vDfM0r7S-",
        "colab_type": "code",
        "colab": {
          "base_uri": "https://localhost:8080/",
          "height": 298
        },
        "outputId": "ae9186ef-5aca-47b9-8261-38dc18a9a787"
      },
      "source": [
        "plt.scatter(pred_km[pred_km['label']==0].iloc[:,0], pred_km[pred_km['label']==0].iloc[:,1], c='r', s=50, cmap='viridis')\n",
        "plt.scatter(pred_km[pred_km['label']==1].iloc[:,0], pred_km[pred_km['label']==1].iloc[:,1], c='b', s=50, cmap='viridis')\n",
        "\n",
        "plt.legend(('nobee', 'bee'))\n",
        "plt.title(\"True label\")"
      ],
      "execution_count": 90,
      "outputs": [
        {
          "output_type": "execute_result",
          "data": {
            "text/plain": [
              "Text(0.5, 1.0, 'True label')"
            ]
          },
          "metadata": {
            "tags": []
          },
          "execution_count": 90
        },
        {
          "output_type": "display_data",
          "data": {
            "image/png": "[encoded data removed]",
            "text/plain": [
              "<Figure size 432x288 with 1 Axes>"
            ]
          },
          "metadata": {
            "tags": [],
            "needs_background": "light"
          }
        }
      ]
    },
    {
      "cell_type": "code",
      "metadata": {
        "id": "T5JgoPRFsUv2",
        "colab_type": "code",
        "colab": {}
      },
      "source": [
        ""
      ],
      "execution_count": null,
      "outputs": []
    }
  ]
}