{
  "nbformat": 4,
  "nbformat_minor": 0,
  "metadata": {
    "colab": {
      "name": "beehive_audio_clustering.ipynb",
      "provenance": [],
      "toc_visible": true,
      "authorship_tag": "ABX9TyNKFxVRZ0iFe/ePLlkEBi36",
      "include_colab_link": true
    },
    "kernelspec": {
      "name": "python3",
      "display_name": "Python 3"
    }
  },
  "cells": [
    {
      "cell_type": "markdown",
      "metadata": {
        "id": "view-in-github",
        "colab_type": "text"
      },
      "source": [
        "<a href=\"https://colab.research.google.com/github/AnnieCRY/DS5230-project/blob/master/kmeans.ipynb\" target=\"_parent\"><img src=\"https://colab.research.google.com/assets/colab-badge.svg\" alt=\"Open In Colab\"/></a>"
      ]
    },
    {
      "cell_type": "markdown",
      "metadata": {
        "id": "0yMAyzHlSRC6",
        "colab_type": "text"
      },
      "source": [
        "## Get processed data"
      ]
    },
    {
      "cell_type": "code",
      "metadata": {
        "id": "t5FSnuKfRkKf",
        "colab_type": "code",
        "colab": {
          "base_uri": "https://localhost:8080/",
          "height": 122
        },
        "outputId": "7d36e0b3-2127-4ce9-eb70-ed2a50226a51"
      },
      "source": [
        "# mount google drive\n",
        "from google.colab import drive\n",
        "drive.mount(\"/content/gdrive\")\n",
        "\n",
        "\n",
        "! cp -r gdrive/My\\ Drive/5230Project/processed_data ./"
      ],
      "execution_count": 1,
      "outputs": [
        {
          "output_type": "stream",
          "text": [
            "Go to this URL in a browser: https://accounts.google.com/o/oauth2/auth?client_id=947318989803-6bn6qk8qdgf4n4g3pfee6491hc0brc4i.apps.googleusercontent.com&redirect_uri=urn%3aietf%3awg%3aoauth%3a2.0%3aoob&scope=email%20https%3a%2f%2fwww.googleapis.com%2fauth%2fdocs.test%20https%3a%2f%2fwww.googleapis.com%2fauth%2fdrive%20https%3a%2f%2fwww.googleapis.com%2fauth%2fdrive.photos.readonly%20https%3a%2f%2fwww.googleapis.com%2fauth%2fpeopleapi.readonly&response_type=code\n",
            "\n",
            "Enter your authorization code:\n",
            "··········\n",
            "Mounted at /content/gdrive\n"
          ],
          "name": "stdout"
        }
      ]
    },
    {
      "cell_type": "code",
      "metadata": {
        "id": "_GhIZ7VlVOir",
        "colab_type": "code",
        "colab": {
          "base_uri": "https://localhost:8080/",
          "height": 136
        },
        "outputId": "b4b7e5e3-6d42-405a-db3c-b57fbe770a1e"
      },
      "source": [
        "# download the supporting files from github\n",
        "! rm -rf Audio_based_identification_beehive_states/\n",
        "! git clone https://github.com/Tonyz4516/Audio_based_identification_beehive_states.git\n",
        "\n",
        "! mv Audio_based_identification_beehive_states/Bee_NotBee_classification/* ./"
      ],
      "execution_count": 2,
      "outputs": [
        {
          "output_type": "stream",
          "text": [
            "Cloning into 'Audio_based_identification_beehive_states'...\n",
            "remote: Enumerating objects: 4, done.\u001b[K\n",
            "remote: Counting objects: 100% (4/4), done.\u001b[K\n",
            "remote: Compressing objects: 100% (4/4), done.\u001b[K\n",
            "remote: Total 118 (delta 0), reused 0 (delta 0), pack-reused 114\n",
            "Receiving objects: 100% (118/118), 69.02 KiB | 1.64 MiB/s, done.\n",
            "Resolving deltas: 100% (56/56), done.\n"
          ],
          "name": "stdout"
        }
      ]
    },
    {
      "cell_type": "code",
      "metadata": {
        "id": "yaEbgwjNdw6o",
        "colab_type": "code",
        "colab": {}
      },
      "source": [
        "! pip install muda"
      ],
      "execution_count": null,
      "outputs": []
    },
    {
      "cell_type": "code",
      "metadata": {
        "id": "lQLcFyaGaljg",
        "colab_type": "code",
        "colab": {}
      },
      "source": [
        "import os\n",
        "import pandas as pd\n",
        "import matplotlib.pyplot as plt\n",
        "from utils import *\n",
        "import numpy, scipy, matplotlib.pyplot as plt, sklearn, librosa, mir_eval, IPython.display, urllib\n"
      ],
      "execution_count": 5,
      "outputs": []
    },
    {
      "cell_type": "code",
      "metadata": {
        "id": "MUw6hN4senJz",
        "colab_type": "code",
        "colab": {}
      },
      "source": [
        "block_size = 5\n",
        "path_workingFolder = '/content/processed_data/dataset_BeeNoBee_'+str(block_size)+'sec'+os.sep  # path where to save audio segments and labels files.\n",
        "labels2read = 'labels_BeeNotBee_th0'\n",
        "feature = 'MFCCs20'\n",
        "sample_ids_test, sample_ids_train, sample_ids_val = get_samples_id_perSet(path_workingFolder+'split_random_0.json') "
      ],
      "execution_count": 6,
      "outputs": []
    },
    {
      "cell_type": "code",
      "metadata": {
        "id": "xtpmrwvJOILu",
        "colab_type": "code",
        "colab": {}
      },
      "source": [
        "def modify_labels():\n",
        "    csv_file = path_workingFolder+\"labels_BeeNotBee_th0.csv\"\n",
        "    labels_BeeNotBee_th0 = pd.read_csv(csv_file)\n",
        "\n",
        "    def add_new_labels(df):\n",
        "        labels_l=[]\n",
        "        for x in df['label_strength']:\n",
        "            if x>0.95:\n",
        "                labels_l.append('nobee') \n",
        "            elif x==0:\n",
        "                labels_l.append('bee') \n",
        "            else:\n",
        "                labels_l.append('unknown') \n",
        "        df['label']=labels_l\n",
        "        return df,labels_l,df['sample_name']\n",
        "    \n",
        "    labels_BeeNotBee_th0,labels,ids=add_new_labels(labels_BeeNotBee_th0)\n",
        "    labels_BeeNotBee_th0.to_csv(csv_file)\n",
        "    return labels,ids\n",
        "labels,ids=modify_labels()"
      ],
      "execution_count": 21,
      "outputs": []
    },
    {
      "cell_type": "code",
      "metadata": {
        "id": "XIwULTL5QpYE",
        "colab_type": "code",
        "colab": {}
      },
      "source": [
        "sample_ids=[]\n",
        "for id in ids:\n",
        "  sample_ids.append(id+'.wav')"
      ],
      "execution_count": 25,
      "outputs": []
    },
    {
      "cell_type": "code",
      "metadata": {
        "id": "mdme62WylVwz",
        "colab_type": "code",
        "colab": {}
      },
      "source": [
        "X = get_features_from_samples(path_workingFolder, sample_ids, 'MFCCs20', 'NO', 1)\n",
        "# X_val = get_features_from_samples(path_workingFolder, sample_ids_val, 'MFCCs20', 'NO', 1)\n",
        "# X_test = get_features_from_samples(path_workingFolder, sample_ids_test, 'MFCCs20', 'NO', 1)\n",
        "    "
      ],
      "execution_count": 26,
      "outputs": []
    },
    {
      "cell_type": "code",
      "metadata": {
        "id": "turEISQMOjdS",
        "colab_type": "code",
        "colab": {}
      },
      "source": [
        "Y=labels"
      ],
      "execution_count": 27,
      "outputs": []
    },
    {
      "cell_type": "code",
      "metadata": {
        "id": "nj-brcXBFLdN",
        "colab_type": "code",
        "colab": {}
      },
      "source": [
        "# add normalizat - min_max\n",
        "X_train_norm = get_features_from_samples(path_workingFolder, sample_ids_train, 'MFCCs20', 'min_max', 1)"
      ],
      "execution_count": 15,
      "outputs": []
    },
    {
      "cell_type": "code",
      "metadata": {
        "id": "kfejE6kUtUBA",
        "colab_type": "code",
        "colab": {}
      },
      "source": [
        "labels_train = get_GT_labels_fromFiles(path_workingFolder, sample_ids_train, labels2read)\n",
        "Y_train= labels2binary('nobee', labels_train)\n",
        "    \n",
        "labels_val = get_GT_labels_fromFiles(path_workingFolder, sample_ids_val, labels2read)\n",
        "Y_val= labels2binary('nobee', labels_val)\n",
        "    \n",
        "labels_test = get_GT_labels_fromFiles(path_workingFolder, sample_ids_test, labels2read)\n",
        "Y_test= labels2binary('nobee', labels_test)"
      ],
      "execution_count": 9,
      "outputs": []
    },
    {
      "cell_type": "markdown",
      "metadata": {
        "id": "432RD7f5tV6_",
        "colab_type": "text"
      },
      "source": [
        "## pca"
      ]
    },
    {
      "cell_type": "code",
      "metadata": {
        "id": "qtHKYWWPtNtM",
        "colab_type": "code",
        "colab": {}
      },
      "source": [
        "import os\n",
        "import pandas as pd\n",
        "import matplotlib.pyplot as plt\n",
        "from sklearn.decomposition import PCA\n",
        "from sklearn.manifold import TSNE"
      ],
      "execution_count": 19,
      "outputs": []
    },
    {
      "cell_type": "code",
      "metadata": {
        "id": "RhTcjSj9uGg6",
        "colab_type": "code",
        "colab": {}
      },
      "source": [
        "Y"
      ],
      "execution_count": null,
      "outputs": []
    },
    {
      "cell_type": "code",
      "metadata": {
        "id": "cPm3rb14tHYx",
        "colab_type": "code",
        "colab": {}
      },
      "source": [
        "pca = PCA(n_components = 2)\n",
        "\n",
        "pca = PCA(n_components = 2).fit_transform(X)\n",
        "\n",
        "pca_df = pd.DataFrame(data = pca, columns = ['component1', 'component2'])\n",
        "\n",
        "pca_df = pd.concat([pca_df, pd.DataFrame(Y, columns = ['label'])], axis = 1)"
      ],
      "execution_count": 59,
      "outputs": []
    },
    {
      "cell_type": "code",
      "metadata": {
        "id": "InaHLiRpHhwv",
        "colab_type": "code",
        "colab": {
          "base_uri": "https://localhost:8080/",
          "height": 298
        },
        "outputId": "b3b96977-0c3c-4679-f1d6-e810fa47adda"
      },
      "source": [
        "plt.scatter(pca_df[pca_df['label']=='bee'].iloc[:,0], pca_df[pca_df['label']=='bee'].iloc[:,1], c='r', s=50, cmap='viridis')\n",
        "plt.scatter(pca_df[pca_df['label']=='nobee'].iloc[:,0], pca_df[pca_df['label']=='nobee'].iloc[:,1], c='b', s=50, cmap='viridis')\n",
        "plt.scatter(pca_df[pca_df['label']=='unknown'].iloc[:,0], pca_df[pca_df['label']=='unknown'].iloc[:,1], c='g', s=50, cmap='viridis')\n",
        "\n",
        "plt.title(\"True label\")"
      ],
      "execution_count": 61,
      "outputs": [
        {
          "output_type": "execute_result",
          "data": {
            "text/plain": [
              "Text(0.5, 1.0, 'True label')"
            ]
          },
          "metadata": {
            "tags": []
          },
          "execution_count": 61
        },
        {
          "output_type": "display_data",
          "data": {
            "image/png": "[encoded data removed]",
            "text/plain": [
              "<Figure size 432x288 with 1 Axes>"
            ]
          },
          "metadata": {
            "tags": [],
            "needs_background": "light"
          }
        }
      ]
    },
    {
      "cell_type": "code",
      "metadata": {
        "id": "OSSSmuFUUGkk",
        "colab_type": "code",
        "colab": {
          "base_uri": "https://localhost:8080/",
          "height": 298
        },
        "outputId": "e92f4b12-eae7-42f7-de65-e866fed1faf3"
      },
      "source": [
        "plt.scatter(pca_df[pca_df['label']=='bee'].iloc[:,0], pca_df[pca_df['label']=='bee'].iloc[:,1], c='r', s=50, cmap='viridis')\n",
        "plt.scatter(pca_df[pca_df['label']=='nobee'].iloc[:,0], pca_df[pca_df['label']=='nobee'].iloc[:,1], c='b', s=50, cmap='viridis')\n",
        "\n",
        "plt.title(\"True label\")"
      ],
      "execution_count": 62,
      "outputs": [
        {
          "output_type": "execute_result",
          "data": {
            "text/plain": [
              "Text(0.5, 1.0, 'True label')"
            ]
          },
          "metadata": {
            "tags": []
          },
          "execution_count": 62
        },
        {
          "output_type": "display_data",
          "data": {
            "image/png": "[encoded data removed]",
            "text/plain": [
              "<Figure size 432x288 with 1 Axes>"
            ]
          },
          "metadata": {
            "tags": [],
            "needs_background": "light"
          }
        }
      ]
    },
    {
      "cell_type": "code",
      "metadata": {
        "id": "PIUFOuHmUXbj",
        "colab_type": "code",
        "colab": {}
      },
      "source": [
        "pca = PCA(n_components = 3)\n",
        "\n",
        "pca = PCA(n_components = 3).fit_transform(X)\n",
        "\n",
        "pca_df = pd.DataFrame(data = pca, columns = ['PC1', 'PC2','PC3'])\n",
        "\n",
        "pca_df1 = pd.concat([pca_df, pd.DataFrame(Y, columns = ['label'])], axis = 1)"
      ],
      "execution_count": 66,
      "outputs": []
    },
    {
      "cell_type": "code",
      "metadata": {
        "id": "7_zXirZqUmRF",
        "colab_type": "code",
        "colab": {
          "base_uri": "https://localhost:8080/",
          "height": 542
        },
        "outputId": "0073bc71-d380-4376-f529-cf0ec771246b"
      },
      "source": [
        "import plotly.express as px\n",
        "fig = px.scatter_3d(pca_df1, x='PC1', y='PC2', z='PC3',color='label')\n",
        "fig.show()"
      ],
      "execution_count": 67,
      "outputs": [
        {
          "output_type": "display_data",
          "data": {
            "text/html": [
              "<html>\n",
              "<head><meta charset=\"utf-8\" /></head>\n",
              "<body>\n",
              "    <div>\n",
              "            <script src=\"https://cdnjs.cloudflare.com/ajax/libs/mathjax/2.7.5/MathJax.js?config=TeX-AMS-MML_SVG\"></script><script type=\"text/javascript\">if (window.MathJax) {MathJax.Hub.Config({SVG: {font: \"STIX-Web\"}});}</script>\n",
              "                <script type=\"text/javascript\">window.PlotlyConfig = {MathJaxConfig: 'local'};</script>\n",
              "        <script src=\"https://cdn.plot.ly/plotly-latest.min.js\"></script>    \n",
              "            <div id=\"ab5e0bf8-8c64-485f-a07b-aabfdaa4f0c7\" class=\"plotly-graph-div\" style=\"height:525px; width:100%;\"></div>\n",
              "            <script type=\"text/javascript\">\n",
              "                \n",
              "                    window.PLOTLYENV=window.PLOTLYENV || {};\n",
              "                    \n",
              "                if (document.getElementById(\"ab5e0bf8-8c64-485f-a07b-aabfdaa4f0c7\")) {\n",
              "                    Plotly.newPlot(\n",
              "                        'ab5e0bf8-8c64-485f-a07b-aabfdaa4f0c7',\n",
              "                        [{\"hoverlabel\": {\"namelength\": 0}, \"hovertemplate\": \"label=bee<br>PC1=%{x}<br>PC2=%{y}<br>PC3=%{z}\", \"legendgroup\": \"label=bee\", \"marker\": {\"color\": \"#636efa\", \"symbol\": \"circle\"}, \"mode\": \"markers\", \"name\": \"label=bee\", \"scene\": \"scene\", \"showlegend\": true, \"type\": \"scatter3d\", \"x\": [8.677368894280052, 10.994237835358645, 25.625048321091402, 31.526123165419026, 27.56991793645461, 27.90881929280591, 25.171956736705734, 27.227993103397925, 32.33638708404218, 27.501543055480095, 23.317475975674938, 24.587773727860547, 25.19192985620431, 23.552486117855373, 22.723866091074047, 30.079117773472248, 25.46903624775516, 24.710426604825418, 22.378869713932904, 26.758647099612627, 23.649445327726678, 26.753611326930606, 29.8218706822441, 26.860938884719836, 21.164249598232658, 19.011088648588093, 20.14084798849344, 22.545447537586032, 16.42480780435709, 23.996548871463013, 29.936751022374608, 30.247754022263877, 23.18884557787625, 23.562578009998962, 23.370667777406936, 26.49904988321811, 26.94736705254586, 25.540976723885493, 30.11962490833903, 28.23650986110175, 30.552491627699382, 34.35273635924269, 22.742603397999474, 12.857946430590994, 18.735671357179893, 21.648892229565647, 26.269328252095306, 23.312751429189927, 17.51434037611321, 27.459459323389698, 28.80936116491788, 22.342060754700885, 25.62603709524702, 22.10830868022672, 26.154166148493175, 28.044514864392806, 26.497733213127482, 27.347287755205308, 28.919860462763975, 29.126581268957818, 19.586936344682524, 23.742163296905687, 26.028408810663812, 26.536227197225816, 38.965298521345815, 14.516614204017166, 15.46643685486935, 22.04874178508358, 27.967736035455353, 27.44685812533885, 33.400967169711336, 27.861207647506838, 31.562406979073582, 25.178377971587274, 38.25902068752014, 40.2798820227508, 39.83019282776653, 43.811471478721124, 46.13865463153145, 41.77813610148188, 49.66492025664974, 55.10546322864349, 53.04064346473796, 43.7578927713569, 42.23005699470358, 52.197203214553866, 56.91814651309895, 49.78738079206404, 43.33100312807344, 44.67937520899738, 42.39984040294945, 52.29072114322763, 41.72418747024038, 44.91766388487675, 46.08365579404171, 43.563593586615255, 37.13838255567845, 46.07002997362617, 45.84804893596114, 44.087980117080726, 50.01483264778968, 33.65854149652679, 48.989095100779146, 55.702692644717644, 51.019929861238786, 28.286956666395422, 44.78671921571624, 52.66167428369496, 48.2518679302073, 44.620703540433894, 41.634683585557724, 38.37774902503633, 44.93054434471158, 38.61071177968557, 44.16287661235031, 51.8775133934424, 54.45250345654475, 48.83238229255672, 45.117402347576345, 40.242478130871795, 39.99226990572045, 42.28303676933507, 43.34423453113026, -28.4317419426686, -28.856980729758675, -24.950635779932117, -25.701884776050026, -24.678455862443624, -26.73333534357929, -22.630140938425928, -31.01558625736993, -26.09803934720914, -25.108380379265462, -24.789397384286772, -18.14590385648964, -12.42300804579683, -13.21807909897521, -9.527164440601593, -17.050608592011073, -20.632197534251432, -22.582890997010516, -27.54154721431482, -22.929162580419902, -23.129902810078597, -25.77094940471873, -25.29660521430192, -63.43271044650572, -58.79440745138177, -61.0269834684039, -87.33569631473816, -85.50010795208617, -79.99410073164799, -75.31196422124489, -74.00452048630105, -81.99912108187814, -72.51512650554184, -77.91139306091213, -90.25577229208075, -85.35393243483787, -85.56586039028522, -90.07773045942253, -84.98066011828666, -81.93560843636797, -82.33381290487381, -84.18632416040691, -82.07161253368899, -78.20592669728399, -76.90621874498612, -69.11294766397657, -72.37979248415301, -74.63063242762765, -72.3933958999057, -67.83088840376708, -68.32940909709697, -71.499763354804, -62.65953758925492, -58.0761217069198, -56.07393831451653, -66.6901935161673, -63.71366614562499, -68.2283650426959, -60.730043898311656, -76.91756040610069, -74.01488049221027, -73.29545760045042, -67.92106436793308, -67.53010650069452, -71.82963350638138, -68.51165846678057, -66.29771259032495, -79.98551066423414, -75.67718471105267, -73.24614083656373, -63.42156541324839, -58.86032440648716, -64.27509089996046, -67.21741807006413, -68.93575118647951, -65.23138745594738, -64.00486590454794, -64.08441107483104, -66.55723004340376, -59.475986488730236, -62.039107063321026, -73.66137664233833, -73.8601082387048, -73.45028994219894, -70.75990503591414, -65.94041170479255, -70.05467196193526, -80.49031515591274, -71.23164750556877, -73.86292662559705, -67.99479984858041, -69.82467047437835, -66.49929948915275, -71.94766967790099, -72.75825385752103, -67.23008750049033, -66.27244279377703, -65.70545743301973, -66.2637740411795, -71.8744098547388, -74.24445165488507, -68.59055425019145, 119.49192776000261, 118.07793350024755, 115.81281905386093, 119.45025635563624, 118.55787796686826, 117.3600860254988, 124.6196994744887, 124.49549300740884, 122.28895753993989, 117.41294956970148, 110.66775336196761, 110.14964277722117, 113.62819778325414, 116.44570843589615, 120.17662483114663, 120.94303671679462, 122.45093898773547, 120.27266906627531, 119.46756778518993, 124.12055133284359, 124.71982950424024, 124.96041112803101, 119.20589687528674, 117.74619254357437, 120.96344979693045, 122.74650954799837, 122.82284125636437, 122.6080610771587, 121.72643680769914, 126.54043211624578, 126.14926880207504, 126.66536402168036, 125.74920629918513, 124.4848696737533, 117.62053635074493, 121.63024257737115, 127.70464057236957, 130.92404370887735, 131.1628360437649, 135.78455890989926, 133.59101877430228, 138.8961000511686, 138.57028816443568, 134.35479948662314, 135.8189574417197, 140.15518695841226, 148.19314969558118, 143.96509106495066, 146.07056779645748, 141.2016775782694, 144.5918059056625, 143.19713991531324, 141.00160045646956, 141.80073111679084, 138.67752335362192, 132.50895538540976, 141.08709621012568, 137.07329479391214, 142.53475130955866, 144.1914252210303, -72.63515951000352, -70.02011111599128, -74.96441325645952, -79.00666757842956, -78.08699102578362, -77.96436313751418, -76.41779253892824, -79.43711251613603, -74.98184665253869, -84.17943612490215, -78.83011786010321, -75.24792568109956, -78.01909277951245, -80.18017615464929, -76.72254279672042, -73.4574781889779, -77.81403938895147, -81.72188570587353, -85.63581403723497, -87.53967563453519, -88.58209967588454, -78.37139151662093, -77.84499693490423, -78.71765788633721, -83.25262545285852, -90.82309878577487, -80.94675821525509, -77.42080992771733, -80.53474920108889, -80.1667606707569, -77.48601231466827, -76.19166646615045, -74.9672367225914, -74.21335533994046, -71.85941844012723, -72.96911344324903, -73.79176910832082, -70.22751959806408, -73.59509007334695, -98.30680805733557, -86.31355069358992, -78.60140623434756, -82.35684921012185, -80.91729577153383, -75.96894243105841, -75.98789134912218, -73.8356776204551, -73.07629150447191, -78.03239122080781, -83.4767782746027, -81.10067062642025, -76.26225358792361, -74.3832083543857, -76.31907697772145, -74.89925260945246, -75.71249978925503, -71.40903684351137, -69.43385095283344, -69.3954662445013, -64.67288500430776, -66.06298909886779, -98.38797195669234, -88.03712686301348, -87.902423183006, -71.88766731483095, -60.501721432435204, -61.21382810194902, -54.912985596299166, -51.90416332683169, -51.38081438732783, -51.58276925192568, -56.82702754348847, -60.09447011417759, -57.17128234271278, -58.106789650020026, -52.453143237893826, -46.39569696612222, -47.64315961908133, -50.593810319378136, -44.714393335315116, -45.76103010931251, -46.43631598182094, -44.46994534123794, -44.29398672685167, -43.045204284156675, -48.34694403521556, -48.45393630731962, -46.95047293621933, -46.144113522762076, -47.14365108238665, -43.092315222844746, -47.83993782298691, -46.7296633229011, -44.14756740187404, -47.183272828564185, -49.33796654388599, -47.10747641223298, -44.41361489924823, -44.3781029405583, -46.353358297124636, -57.16844675658078, -86.64926964579847, -85.15163985359169, -62.509824982756655, -33.72500075507908], \"y\": [-10.936777424819947, -5.005047811978789, -3.683329221607222, -8.495724780032916, -3.862913283052246, -6.252395481287684, -5.88653367557538, -6.197165335439229, -8.268687544572833, -12.102676922857544, -8.284930964779116, -7.04910187316015, -8.673018174256757, -8.490784511408123, -6.919590176835926, -9.314018417552308, -5.776061785336033, -7.596781586717443, -7.135711716826768, -7.034832584730386, -8.804206244747528, -9.357689715327927, -8.833913976382922, -9.17225385968015, -7.57783270445867, -5.765042849089925, -8.79093785695157, -6.97843185653074, -6.243627979208479, -6.706545409671608, -8.026690447363242, -7.334511195454924, -9.931779618213143, -4.855082423795663, -7.9505647102525625, -3.753188084091021, -6.6610902034239645, -7.176119264656312, -9.202408771330076, -9.6836617240402, -8.479654906928616, -2.13840555900073, -7.104004054935523, -7.435557140349344, -4.170258662980983, -5.987547115058002, -6.7021373707122605, -7.580087802311497, -4.86937422000384, -9.930512909051233, -9.339505821760957, -6.624855368849501, -7.6552398723258, -9.474596137462033, -9.56190358770085, -7.260887873034436, -7.755429240254331, -4.614112085351531, -7.862740312605612, -6.95311847900968, -6.8463070891021705, -6.215391002310315, -6.755157092579328, -7.487022683477463, -4.758097820881947, -18.76865144723568, -6.9301592650112465, -6.458632354437594, -8.463911903809242, -5.470785407896463, -7.288336994851518, -9.387518054176617, -8.198208953168074, -8.907490698985146, -12.309525970018505, -14.393431065091857, -12.672538796977996, -14.54713135479965, -12.734130272088999, -15.932150991512922, -12.822528796443615, -11.180635499452658, -9.925078855123072, -12.443028344101036, -16.113949115554213, -9.21215619693202, -10.386446186440589, -17.200318264059398, -13.71774524786821, -13.930952470064943, -15.742042489833798, -10.631499490379763, -6.603448150413426, -7.970343184259598, -11.7505423039969, -11.15331624153276, -10.961367677590257, -14.696722465364466, -14.474316024400904, -10.633251221721755, -8.31298212717304, -17.643231126685695, -13.540688567505782, -11.278168210206347, -9.104873923217133, -16.600197042316722, -10.988372798713554, -13.289774875644563, -15.416687923735687, -12.259413715820981, -11.707841297048809, -14.625748077095734, -9.328427283869514, -13.888369868806343, -12.36288170288027, -8.342472471111911, -10.828143551288967, -11.03049739471498, -8.9891716295269, -13.357531770388817, -11.851136428990374, -12.546481896131638, -8.959976557994908, -1.6023115751761985, 1.1285435172573106, -0.1386666901115134, -1.6465735745541494, -3.2665233353616845, -3.7339806988737623, -4.259936393833311, -2.5338343779811354, -1.491259444849651, -0.4333896018691291, 0.625897226641395, 2.129441164463968, 1.3352777897496722, 1.5703199404501131, -1.0614509721776322, -3.158778013573417, 1.74675051457054, 1.6024018101594768, 3.7952722646032178, 4.403678678046473, 6.334650247816184, 9.273133690162082, 8.253752338254676, -2.025502486692954, 4.7036015742339226, 2.8482978758063515, 0.3535586370916541, 3.090570791150812, 5.319689903457253, 4.314286018388724, 3.1287748076282047, -1.7490248752082636, 1.1861068217966793, 5.160801850447476, 0.5071453607921416, 0.8722739479092659, -4.523136647955704, -2.2832555710587297, -0.8185804954395962, -2.583108122994803, -4.33084689620098, -2.877872267425348, 8.926995449012898, 0.7259132479915029, -5.815792742114018, 1.8316723978099854, -0.6517641375525045, -1.3365906202510645, -5.428935532382724, -1.0857531574666437, -2.307447280878396, -0.7612456289034505, 3.061559596388523, 1.9226158070996031, 1.20606858600202, -2.406434752539874, -1.8351358783230574, -3.649764947409927, -2.1150662496514694, -5.2619265828137545, -3.883361566118658, -0.36043501997844973, -2.6469875139800174, 1.3078966373093925, 0.7860933730709541, 3.6975898410830337, 2.7747390944194814, 4.2245724686971995, -1.1322772654941848, -0.1667082550125247, -3.422146227927989, -2.560690677808023, 1.3849898856705454, 4.07593452588038, 2.0175389110178577, 2.393289037532656, 0.6673406509088639, 0.9868214712166464, 4.52845660364784, 6.128572873037578, 4.951668696753059, 12.627858792423256, 6.766267635935641, 10.720102919299979, 11.983136943463137, 8.249921276057718, 11.586506231577534, 9.751141100388576, 11.095198704841158, 10.052892644177417, 12.254994329863697, 10.269546787699971, 11.395386634148228, 9.205592318192682, 10.14898489141788, 16.091939822006342, 18.902518154693706, 10.31877962929854, 11.956313885670687, 12.660125679574566, 15.524063524300189, 15.349187189944614, 22.327050285665358, 21.90467366773842, 19.31808620842119, 22.97769887401278, 19.905496889444862, 19.386311659578123, 25.38098666360991, 24.748824272918473, 23.403367591359974, 20.138459052685015, 16.737280863151344, 17.99411366646513, 17.822403899778053, 22.9470581521605, 22.958041785885264, 21.80518732123771, 24.216655691135703, 21.026733765283925, 22.324512399725585, 25.243320595011966, 25.61106429402024, 25.45868399708248, 25.03186320396227, 28.356899635272033, 26.444021918692425, 25.972439149624954, 24.617954126963834, 24.460206151216855, 22.956677282910366, 24.11560025083511, 23.62507571238754, 22.36077748346059, 20.57592913979556, 22.543143656647498, 19.91573808519073, 21.86911808621179, 24.484109305848552, 23.783350251264785, 23.50284702575678, 23.006864969001867, 19.856540389528035, 22.8199513045899, 20.825614176400663, 22.31046202104601, 21.836776244299728, 22.292470961599346, 24.35659779374837, 22.96094964217847, 25.658747898674836, 27.237785530296556, 24.771632516703217, 24.172414801655442, 18.74406163579785, 23.90876646266349, 25.928381735669603, 25.066690866692976, 26.689176409250226, 27.460624414067635, 27.4079799748358, 29.044798181803124, 8.806696881882887, 10.475876209293617, 5.4294669073557476, 3.8942858015871713, 6.449834796470912, 5.900952646599579, 9.395950226618003, 12.107967958193086, 8.691925321885533, 12.070518079890356, 11.194804623893836, 13.825346785634832, 16.30083967247386, 12.083440857302357, 13.58700168320885, 12.266424686703376, 10.243610197877052, 9.21301850122075, 2.646505146621091, 5.272329342010381, 9.19732389464153, 9.88793645357001, 10.45687730911126, 11.353100952053138, 8.696181627939977, 7.273327899416249, 10.012999615900426, 9.665108260468017, 10.615968201937228, 11.472347058006093, 11.758228406363413, 11.843610392500132, 11.427367206153264, 11.650234672632168, 12.788319880562021, 11.190117477179975, 10.831831185215202, 9.838265634350794, 8.779310788161883, 4.714452335574646, 8.810299621980436, 7.495705518549039, 7.1326080255135285, 9.755062529059508, 9.267213628471813, 12.352426081816128, 13.214139902178687, 13.641651750356392, 12.748572592431735, 9.365722856020763, 11.665259115716168, 11.016959543993229, 10.330377346664767, 8.57841548991876, 10.568948551768559, 7.730695003865675, 5.355363099607085, 3.973070502186947, 8.883226874381918, 4.752764072912637, 8.564564393833546, 5.717125008881102, 6.187602910168828, 2.48811020882906, 4.699850908197356, 5.246782549158373, 6.407387363157129, 7.404730887625009, 8.083768353854383, 9.937690288089366, 7.43445485862135, 5.895463465268712, 8.635317404567067, 8.843724814777731, 8.033636536309057, 8.271060189988301, 10.42257012972688, 6.0487817609826555, 4.272571839291804, 6.019590172020981, 9.73414732529137, 8.69271001492918, 9.72496409279514, 12.272720725618655, 11.11147543331404, 7.689013699892664, 7.48455627978496, 7.733979155294227, 9.346256335096813, 10.44326436453318, 10.45834178268951, 8.720388988291269, 5.7819637814597735, 6.964530861789621, 4.953200441928485, 5.448691000928528, 6.845250473128249, 7.468131768341069, 9.55370737158213, 9.591302211516577, 9.220865546809845, 6.233843739732183, 11.060250278111319, 5.611328915212269, 12.675695557425462], \"z\": [-4.80296027723831, -2.844624681758901, -7.55498651074511, -7.471085902524383, -8.801359509926927, -7.569838008805797, -7.835546296169191, -5.80486488390887, -7.223188971414519, -8.846092104656208, -6.2297650371454925, -3.7158575827791345, -5.850068831982927, -8.647015419806095, -7.500935828337939, -5.416252265723368, -8.701439979306903, -8.259256377340941, -8.272714592052795, -8.941821557828613, -10.595208050238389, -11.710513587219351, -8.584439016206815, -10.726220138433508, -13.1548834628771, -13.658254431788258, -15.405862644149567, -10.889548952107395, -14.355076667654439, -13.550866554546799, -9.794432613933635, -10.53971222432022, -11.72904121277738, -7.954396330074146, -6.02478512277983, -8.137868985969334, -8.391642812159088, -7.376383664390654, -5.6053634982425065, -7.322182591648751, -11.242589532314634, -4.7069316851287, -9.142742138893066, -13.463397283269249, -12.76210760670263, -9.914340174484279, -11.231158390782104, -7.555547463895397, -12.646925983010581, -7.385070582399762, -7.012404417534746, -6.107051282734561, -8.83892701277871, -6.2540412251063335, -10.002110934703836, -9.995914671090947, -7.959855853686852, -9.039475777965343, -8.345695013000825, -9.954255464747442, -10.428056658207305, -6.2394944534694865, -7.51385225044038, -5.258656618376771, -3.688748625496546, -4.298290960409497, -12.469647176540882, -11.87681263397271, -8.483042583241302, -12.089089695444967, -8.543580490618112, -10.938742258651951, -8.206685203737152, -10.464374032503303, 7.99765753190035, 5.592530761368981, 3.255671777467257, 2.621988588170955, 3.849298612544891, 7.159467332293929, 3.2060051081336387, 1.8538318269216292, 2.189576533564507, 2.391263628257218, 2.6698972960677727, 2.1613098416102385, 1.5220406637364512, -0.9300536428076143, 4.431359023168752, 2.918220656953641, 3.20810967155739, 3.6174318362625133, 3.3638319859215673, 2.354589490036465, 8.295730384486102, 4.662447025098775, 2.010009792513897, 4.490927144260879, 0.6542300325718705, 2.3401202812734443, 3.0602867912318836, 6.020345400654567, 2.765687652043808, 3.539061575810201, 5.081820762441352, 6.223843283432166, 7.571633377931296, 8.131413250993962, 9.273773894182296, 3.0926602802155823, -0.12311556507088398, -1.6713384250945995, 1.8681739244574074, 1.0549549913574225, 4.578013343514872, 1.701867264307103, -0.5007556036586932, 0.8026456168819762, 1.3373143036459711, 0.3967971377363353, 1.6701988402972296, 0.907507293220039, -0.6279431228447799, -8.750814443888306, -11.067711372287821, -8.318844535417295, -6.210273315629544, -3.2284140742985286, -1.5080145139017378, -0.4191029464634671, -4.166786849503369, -7.117948105293252, -6.952658188994931, 14.108016329588624, 1.0395714141447772, -0.7975487885153487, 1.4580794858672792, 4.014008103903803, 3.20680463228045, 2.2600403461512997, 3.39902611337274, -1.2990881903598024, 2.685207001151633, -0.33676783700010626, -3.7529950138911015, -1.5559138371457446, -12.86636509894515, -1.9231425328282827, -2.6595640238443985, -7.521989764955086, -7.0186309153978295, -7.4908229682947205, -6.776088042233991, -5.503280765166281, -0.9167257803158991, -3.478208458513963, -8.972067004757054, -10.720757593923604, -14.336023532648396, -14.217382919918975, -14.986053991643423, -12.053653333350228, -10.84774181779307, -10.493755768379218, -7.232608913546745, -4.96724616154789, -8.687286329360756, -3.7676089019105534, 0.9040675381426819, 2.2114706733226157, -0.03689090990251339, 6.136428720329894, 5.850684226432531, 3.8600519650673073, -1.3926180517456475, -1.3355554333899742, -1.8809334191403762, -7.550334198661405, -8.420738889350378, -6.807266759738795, -6.963925280938732, 1.0315322039400836, -10.939985330275304, -10.317159295976031, -10.031633233040527, -9.208324941691716, -6.6695288144801905, -6.579581626850019, -1.3778154331925332, -2.1251290386306922, -4.259854837927908, 1.8270543397092067, 0.6144063236891226, 3.5740951982312694, 4.024405398202741, -2.5473669311796354, -4.536004385758811, -4.527108810893709, -2.953147316412673, -4.588484874768099, -3.4098574873838245, -1.8991892539571182, -4.4361021137268795, -11.858259206084071, -14.156629590217689, -11.622841095259833, -9.481977528008796, -4.653697630926803, -2.4465011589840353, -3.7785351064092576, -4.394235891669575, -4.263863912349348, -4.624404828378724, -3.287860483491377, -2.1057161315627435, 1.1504963330223212, -4.9478927487351765, -8.384701553112917, -4.57279287572703, -3.0298035543375206, -6.515203118922864, -5.764574909972979, 0.5999448861224794, -0.34761797542657175, -0.6142481791991105, 2.9269780304997006, 4.779058352799434, 4.084634326797467, 6.293490912617199, 2.4761347571323356, 4.939762324020742, 4.478493166331527, 0.5991458983840726, 3.0327418888245212, 1.6991356229749515, -0.8608698904526516, -1.209266439619874, -3.2025464757857622, 1.7162526418333406, 3.119734448307888, 1.5266444775518422, 1.7253665396681082, -1.871461662722817, -0.6281745447472189, 1.2886298928848432, 1.6915033518541434, -0.21831549193977637, -0.039934899518341234, 2.4336447688956238, 4.6537478801323, 3.8397215058759078, 1.834486291104466, 2.9782093821801565, 1.3591028182318607, 2.766315567832061, 2.003177869617753, 1.1620398308563873, -0.36490639911575906, -0.5000518114027402, 2.076980778037997, 0.8044236585169641, 2.6378707213648442, 2.7142654442805028, -0.7521534706107549, -1.3762922542208749, -4.617834605438047, -0.9329138436696597, -4.491462552349961, 1.0566715282352863, 0.5580725178794536, 0.07837199107776727, -3.035707010145207, -0.9171952370565841, -2.8494622239674463, -0.714679435796984, -2.930483316366351, -1.2029729434983134, -3.6224804511169437, -3.3930762483629673, 0.48227451038319497, 0.0976482570325335, -0.32102044172168853, 0.3297187206613131, 2.5948767096281107, 3.9896900493342553, 1.2165648983774537, 1.9716009541718709, 2.2658675961751675, 6.360870714324071, 6.383167053573385, 12.394634717964196, 6.662149653838823, 3.3487127468459845, 6.660748221609387, 0.7046244539732062, 5.7762166291178545, 4.92328849616302, 1.7000804544605947, -0.18164104143642987, 1.5857178557004998, -1.4054094972320748, 4.056723515505533, 6.83913882592612, 9.145194169414955, 5.602092056310785, 2.908411642379965, 2.7934086281882964, 2.1801821141954734, 0.7830799027948258, 4.401512539183128, -0.484186696274615, 1.0798914498731826, 2.564894913322301, -0.5375275688527452, 2.1389043470239253, 1.335133334168831, 2.0332835657273516, 3.1636532200781136, 2.5051307193978096, 4.73571342761111, 3.4901659264200364, 1.2839622684980732, 3.7242928226263765, 1.598083322878679, 0.8222280493343205, 3.6694102204865433, 2.539137039716531, 0.3077101531908984, 1.3570529776156914, 1.3435434858297803, 1.856363758823366, 1.609145411535157, 1.581660104427959, -0.4850647724680999, -3.8144238773474632, 1.69101061686607, 4.404569073622498, 5.089060223838207, 5.1453704224964705, 7.971843141430047, 6.0991604816981635, 1.3923375345530895, -0.5404303091402102, 2.384634089561537, 4.897740259186039, 4.229028046172023, 2.5965674000627774, 4.047518485945118, 6.95382977442336, 8.058341166343334, 14.388491805539203, 12.527072428505557, 7.7037201633730845, 4.638581509392213, 4.284492770020587, 5.8152496975214705, 4.731591777273473, 0.5582539101160972, 1.8793837588456839, 2.670797821147148, 4.613296998301172, 4.439683335307199, 12.10158997110853, 4.27843356316119, 13.353006150440377, 6.781620603788608, 5.0299619336619505, 5.223431625725557, 5.533091422982216, 8.393999752118349, 3.486020242785375, 11.077869062759316, 7.679866514227738, 2.558709839289156, 3.751094042528087, 4.678103337254569, 8.903927346449777, 8.78819965625825, 11.18377259085758, 8.281508091173853, 9.377469324796621, 13.088089579550303, 9.426141622695296, 3.55003671815062, 2.6040163270166286, -0.9782395615216958, -8.34825614284716, -4.908349737619082, -4.901009237649584, 3.5909172607849804]}, {\"hoverlabel\": {\"namelength\": 0}, \"hovertemplate\": \"label=unknown<br>PC1=%{x}<br>PC2=%{y}<br>PC3=%{z}\", \"legendgroup\": \"label=unknown\", \"marker\": {\"color\": \"#EF553B\", \"symbol\": \"circle\"}, \"mode\": \"markers\", \"name\": \"label=unknown\", \"scene\": \"scene\", \"showlegend\": true, \"type\": \"scatter3d\", \"x\": [13.16439179024132, 29.285594989211283, 21.08008109622658, 29.46518336983703, 29.322349328292468, 26.921364664946413, 23.86690699069069, 19.727359565594384, 26.063669399674776, 19.283482640474553, 28.55454780856058, 28.42959198827416, 27.136468556648815, 29.631831538514305, 24.031639123602186, 23.7751928966456, 21.16642591125733, 37.66706457664045, 24.246937115183105, 30.10634850515166, 35.01280798692949, 41.16192857851956, 40.65035193541649, 20.93078962023539, 35.245488294849594, 47.073402945426835, 24.017259612238256, 48.73528926399677, 32.156772551748766, 26.026532773911768, 47.716456078664386, 29.626569905492047, 42.35253767277924, 28.164148212185644, 21.505173185031364, 45.54923337638924, 44.78431688256627, 42.996664973692965, 46.27582663001602, 38.362515484528146, 44.42729134268897, 48.633891009667394, 41.382986979023045, 39.41286140018365, 32.189914859922624, -23.67026147425061, -73.36892822950941, -71.05982581309976, -72.08146541780297, -59.825028839775584, -67.13798722837852, -67.31156113352635, -70.74976720790237, -66.99314433746756, -76.04230233889686, -76.9433249329498, -101.25197618051955, -98.77701823788269, -87.89699268636907, -77.27753686115933, -93.62447849670554, -59.93196106115843, -47.960697315517386, -46.37913300410618], \"y\": [-9.81537518456496, -9.513502104492733, -9.113092940651816, -11.87865686201002, -9.96503907993415, -12.50498271168674, -7.839517491004478, -6.196114802948414, -8.662346911458668, -13.078257190142223, -3.4784506416290717, -9.808802324724637, -10.992722983679089, -9.04476729184088, -9.124513875847265, -5.978629616050236, -7.927149200170477, -8.360947185389183, -5.281568859229702, -12.472933266686557, -21.8264349539085, -16.932494644717604, -16.421980148095503, -13.706941907950393, -12.93438747702718, -15.13827803297975, -17.355327247842602, -16.058008465899093, -18.37259003527844, -23.187497202306886, -12.728594711024515, -17.31511388405644, -14.45291239774255, -21.271240671702333, -12.784910784943946, -14.96473329897203, -13.584781312909215, -15.329964556704361, -15.508614400558342, -15.898846569480298, -12.979258271397745, -12.945493100164422, -10.396516545062688, -15.054500549320554, -11.688714880059583, -2.9691813121830837, 0.5607566804673247, -5.516476352203654, 1.5334150649507545, 1.5998832036182815, -1.0412625151941637, -2.8677138058300633, 11.042176144914196, 14.078213067703103, 9.621819798547525, 6.82495866993081, 7.132491748065113, 2.5076747994659745, 11.34874543238789, 10.769909955180417, 4.900571684136959, 7.956138950223247, 8.295019799631039, 9.853498094162811], \"z\": [-2.966924133829187, -6.616668351379467, -5.14849563211105, -8.21512948348724, -2.1161204614434643, -9.453130859057618, -10.148228552190707, -9.577152227340134, -9.783020401526251, -7.81909561032007, -1.5079186275582335, -7.859360919253293, -4.05123781969991, -10.196406212550244, -6.804848195716767, -6.852002928924752, -7.690527775237965, -3.282181152944281, -6.442772073741494, -5.737850578090052, 6.613302475089837, 7.34589713228347, 3.343731889129484, -0.7498916444144644, 3.3487245458733628, -0.6376489091395661, 2.268182666593616, 2.534249883228579, 7.940162709074556, 10.940942304970102, 4.571523912145955, 14.993612027814613, 10.667573894103587, 5.829480730997304, 5.439888614858724, 3.465857878856411, 3.991022879596668, 5.619371535308515, 5.530251864426847, 2.444759767825189, 4.343442501713752, 7.719809454243778, 0.4063592304789726, 3.946873863354727, 6.686249333812258, -2.5696688858475136, -15.127955488347745, -3.1383721718156687, 6.257925859033473, 2.0719162790165577, -3.7221751497236055, -2.532030512384878, 4.282221880047976, 2.756769322932521, 4.441239097443629, 5.359266389213713, 12.432589960865098, 3.8395041009470745, 8.735846879891401, 9.203321422219908, 9.569136946592284, 5.438705002993685, 5.358103610410371, 6.819686439486627]}, {\"hoverlabel\": {\"namelength\": 0}, \"hovertemplate\": \"label=nobee<br>PC1=%{x}<br>PC2=%{y}<br>PC3=%{z}\", \"legendgroup\": \"label=nobee\", \"marker\": {\"color\": \"#00cc96\", \"symbol\": \"circle\"}, \"mode\": \"markers\", \"name\": \"label=nobee\", \"scene\": \"scene\", \"showlegend\": true, \"type\": \"scatter3d\", \"x\": [13.413393843992552, 18.554450641807655, 23.948206590193998, 22.31161443050219, 8.616090006569587, 26.448477685956917, 18.43070697092803, 17.64238927018394, 25.138197981437607, 26.908502418877042, 15.453186644416474, 9.120014933287464, 17.546313394153483, 14.502581301648158, 28.67977597036267, -3.930749076716969, 11.013582430885902, 29.858408580793583, 27.2084139413003, 36.57889450159905, 36.399000154916955, 39.39317463790253, 15.105057524465295, 26.061569221548773, 32.89810668011179, 43.392391121472556, 45.81555380035066, 32.84293561448954, 26.24911944678584, 25.990335443590297, 38.24882439776512, 40.19182510100264, 43.8756550892761, 43.06328172926356, 44.84358177203327, 31.819767796371707, 15.253488852111845, 33.87049432974063, 32.74289846258619, 38.9505570775974, 47.54524279421084, 32.163317136216435, 44.41501279432569, 47.02927980103927, 37.3506874611535, 38.12158652756574, 32.44778461511514, 31.266305661427438, 37.14386004499819, 33.21262999607862, 2.6564484426182076, 43.52203656136803, 49.17525262650684, 55.41572350519058, 51.67242316149818, 42.11197758093506, 43.8007719827556, 54.463770565489874, 53.62157607181157, 33.51463561546158, 36.47316484477752, 37.846352295674194, 31.505387595275863, 42.184073400581994, 23.432329247037313, 25.36536529637886, 29.485537179834783, 29.41159746691041, 28.44713881062796, 18.92092466817884, -31.083559276582314, -56.47942200228917, -37.73946729668934, -72.19615846410456, -73.6889811396692, -66.21674346663613, -59.394491720789325, -60.311627407601144, -68.74890415259127, -58.320875305455516, -58.09131224214534, -50.74909126599878, -47.28402571530657], \"y\": [-12.153233061836863, -10.280879355814244, -10.627375643160065, -7.876346039271839, -10.305949738406305, -8.015047472011839, -9.049485706264093, -8.031967683925995, -12.40599611507223, -9.916180205751248, -7.714200260693866, -15.607960666618578, -11.322479930628356, -8.782168890216766, -8.12288588783894, -20.902715631929865, -10.57909470787417, -7.519998182394616, -10.952875525477719, -4.175153535339087, -4.9550797974439975, -6.566387762011187, -4.462046240791855, -7.032056308141291, -7.247456170671207, -22.815534200787187, -16.99917674276265, -11.44471128137791, -19.246694625338286, -21.428405149304695, -13.384826183531349, -13.951421173995776, -13.655996065538993, -15.247176005556431, -13.6880225380639, -22.128171167210507, -15.520987441626488, -20.91421815149539, -13.189447570443507, -20.587816840872488, -8.543620881827525, -20.58267753317479, -13.454123768497539, -13.06047392322267, -19.049291430347676, -20.193268789332393, -21.934171802757323, -17.718941445594425, -15.6912314507433, -16.618378265475553, -25.387262709988573, -16.68809863996566, -11.68395286507919, -9.893285919941594, -8.234400213319368, -7.691012326955059, -11.312790693323521, -12.140595820687839, -10.324419345650734, -19.511736363580603, -19.779744477170443, -19.204591176623655, -19.02315956112084, -13.071490331927865, -17.282417364376805, -15.199462307843115, -24.118743293122197, -17.638537070909877, -21.68555653318914, -17.481542065471192, -8.790417978775816, -10.717160115685648, -4.578305970325427, -8.409185499380843, -4.058137472117074, -2.5600314912477846, -2.000274056368715, -0.48603243908648613, 10.725370976499809, 2.5156927119681995, 2.1904165398912405, 5.213964433777975, 6.963379417814901], \"z\": [-2.1528862057086617, -1.7357307007081508, 4.125860685462721, -10.225580882238368, -3.162116107480503, -12.453954048419217, -5.510728781189286, 1.9227595908842987, -0.23854863210564575, 1.1033285018509453, -0.4420629064238121, 4.474753291442732, 1.1094645105359753, -5.178821904282695, -2.3830716043619113, -0.318843844660821, -0.13631602542112725, -8.444213242060345, -11.401752144185542, -4.9666043425927136, -7.849751735858953, -3.3731184604792017, -14.167544398365045, -12.665926972936889, -7.4582136376101005, 11.40071853443397, 15.308131853355693, 8.480633841181723, 6.287699042282664, 11.253038148705084, 4.453043091873333, 3.040535457356219, 0.3012228930057485, 1.2494336710734275, 4.407626812181897, 7.124228504735235, -6.73766804530344, 7.179338856533428, 10.684103827990098, 9.02940507938901, 8.971160450337134, 19.728519466246823, 10.387983250018692, 11.969291126759504, 8.882660649743467, 12.552857151834461, 17.670764584661924, 10.848292900057665, 10.581025970319752, 13.469802371262237, 5.280397581968998, 7.891941340298542, 2.080792633732141, 1.011703085583461, -0.6711945768530083, -0.9531833587883748, 1.2953607472650701, 3.968721854291887, 5.5584678085472605, 15.205560394149781, 12.792388707235347, 13.27448616857361, 13.082430051581477, 8.171223841257149, 14.110587258285214, 0.9461910135723391, 11.679490022859467, 9.362685049246975, 8.636403779142356, 7.592454461937146, 15.799811698766954, 27.084005275855713, 20.698216436205588, 2.0096345793051515, -0.7467483340054393, 10.888335366933584, 5.7123405291247105, 1.0581836952193968, 5.245541514889201, 9.38385445511426, 8.477587570545905, 8.853368403165867, 11.31099636376002]}],\n",
              "                        {\"legend\": {\"tracegroupgap\": 0}, \"margin\": {\"t\": 60}, \"scene\": {\"domain\": {\"x\": [0.0, 1.0], \"y\": [0.0, 1.0]}, \"xaxis\": {\"title\": {\"text\": \"PC1\"}}, \"yaxis\": {\"title\": {\"text\": \"PC2\"}}, \"zaxis\": {\"title\": {\"text\": \"PC3\"}}}, \"template\": {\"data\": {\"bar\": [{\"error_x\": {\"color\": \"#2a3f5f\"}, \"error_y\": {\"color\": \"#2a3f5f\"}, \"marker\": {\"line\": {\"color\": \"#E5ECF6\", \"width\": 0.5}}, \"type\": \"bar\"}], \"barpolar\": [{\"marker\": {\"line\": {\"color\": \"#E5ECF6\", \"width\": 0.5}}, \"type\": \"barpolar\"}], \"carpet\": [{\"aaxis\": {\"endlinecolor\": \"#2a3f5f\", \"gridcolor\": \"white\", \"linecolor\": \"white\", \"minorgridcolor\": \"white\", \"startlinecolor\": \"#2a3f5f\"}, \"baxis\": {\"endlinecolor\": \"#2a3f5f\", \"gridcolor\": \"white\", \"linecolor\": \"white\", \"minorgridcolor\": \"white\", \"startlinecolor\": \"#2a3f5f\"}, \"type\": \"carpet\"}], \"choropleth\": [{\"colorbar\": {\"outlinewidth\": 0, \"ticks\": \"\"}, \"type\": \"choropleth\"}], \"contour\": [{\"colorbar\": {\"outlinewidth\": 0, \"ticks\": \"\"}, \"colorscale\": [[0.0, \"#0d0887\"], [0.1111111111111111, \"#46039f\"], [0.2222222222222222, \"#7201a8\"], [0.3333333333333333, \"#9c179e\"], [0.4444444444444444, \"#bd3786\"], [0.5555555555555556, \"#d8576b\"], [0.6666666666666666, \"#ed7953\"], [0.7777777777777778, \"#fb9f3a\"], [0.8888888888888888, \"#fdca26\"], [1.0, \"#f0f921\"]], \"type\": \"contour\"}], \"contourcarpet\": [{\"colorbar\": {\"outlinewidth\": 0, \"ticks\": \"\"}, \"type\": \"contourcarpet\"}], \"heatmap\": [{\"colorbar\": {\"outlinewidth\": 0, \"ticks\": \"\"}, \"colorscale\": [[0.0, \"#0d0887\"], [0.1111111111111111, \"#46039f\"], [0.2222222222222222, \"#7201a8\"], [0.3333333333333333, \"#9c179e\"], [0.4444444444444444, \"#bd3786\"], [0.5555555555555556, \"#d8576b\"], [0.6666666666666666, \"#ed7953\"], [0.7777777777777778, \"#fb9f3a\"], [0.8888888888888888, \"#fdca26\"], [1.0, \"#f0f921\"]], \"type\": \"heatmap\"}], \"heatmapgl\": [{\"colorbar\": {\"outlinewidth\": 0, \"ticks\": \"\"}, \"colorscale\": [[0.0, \"#0d0887\"], [0.1111111111111111, \"#46039f\"], [0.2222222222222222, \"#7201a8\"], [0.3333333333333333, \"#9c179e\"], [0.4444444444444444, \"#bd3786\"], [0.5555555555555556, \"#d8576b\"], [0.6666666666666666, \"#ed7953\"], [0.7777777777777778, \"#fb9f3a\"], [0.8888888888888888, \"#fdca26\"], [1.0, \"#f0f921\"]], \"type\": \"heatmapgl\"}], \"histogram\": [{\"marker\": {\"colorbar\": {\"outlinewidth\": 0, \"ticks\": \"\"}}, \"type\": \"histogram\"}], \"histogram2d\": [{\"colorbar\": {\"outlinewidth\": 0, \"ticks\": \"\"}, \"colorscale\": [[0.0, \"#0d0887\"], [0.1111111111111111, \"#46039f\"], [0.2222222222222222, \"#7201a8\"], [0.3333333333333333, \"#9c179e\"], [0.4444444444444444, \"#bd3786\"], [0.5555555555555556, \"#d8576b\"], [0.6666666666666666, \"#ed7953\"], [0.7777777777777778, \"#fb9f3a\"], [0.8888888888888888, \"#fdca26\"], [1.0, \"#f0f921\"]], \"type\": \"histogram2d\"}], \"histogram2dcontour\": [{\"colorbar\": {\"outlinewidth\": 0, \"ticks\": \"\"}, \"colorscale\": [[0.0, \"#0d0887\"], [0.1111111111111111, \"#46039f\"], [0.2222222222222222, \"#7201a8\"], [0.3333333333333333, \"#9c179e\"], [0.4444444444444444, \"#bd3786\"], [0.5555555555555556, \"#d8576b\"], [0.6666666666666666, \"#ed7953\"], [0.7777777777777778, \"#fb9f3a\"], [0.8888888888888888, \"#fdca26\"], [1.0, \"#f0f921\"]], \"type\": \"histogram2dcontour\"}], \"mesh3d\": [{\"colorbar\": {\"outlinewidth\": 0, \"ticks\": \"\"}, \"type\": \"mesh3d\"}], \"parcoords\": [{\"line\": {\"colorbar\": {\"outlinewidth\": 0, \"ticks\": \"\"}}, \"type\": \"parcoords\"}], \"pie\": [{\"automargin\": true, \"type\": \"pie\"}], \"scatter\": [{\"marker\": {\"colorbar\": {\"outlinewidth\": 0, \"ticks\": \"\"}}, \"type\": \"scatter\"}], \"scatter3d\": [{\"line\": {\"colorbar\": {\"outlinewidth\": 0, \"ticks\": \"\"}}, \"marker\": {\"colorbar\": {\"outlinewidth\": 0, \"ticks\": \"\"}}, \"type\": \"scatter3d\"}], \"scattercarpet\": [{\"marker\": {\"colorbar\": {\"outlinewidth\": 0, \"ticks\": \"\"}}, \"type\": \"scattercarpet\"}], \"scattergeo\": [{\"marker\": {\"colorbar\": {\"outlinewidth\": 0, \"ticks\": \"\"}}, \"type\": \"scattergeo\"}], \"scattergl\": [{\"marker\": {\"colorbar\": {\"outlinewidth\": 0, \"ticks\": \"\"}}, \"type\": \"scattergl\"}], \"scattermapbox\": [{\"marker\": {\"colorbar\": {\"outlinewidth\": 0, \"ticks\": \"\"}}, \"type\": \"scattermapbox\"}], \"scatterpolar\": [{\"marker\": {\"colorbar\": {\"outlinewidth\": 0, \"ticks\": \"\"}}, \"type\": \"scatterpolar\"}], \"scatterpolargl\": [{\"marker\": {\"colorbar\": {\"outlinewidth\": 0, \"ticks\": \"\"}}, \"type\": \"scatterpolargl\"}], \"scatterternary\": [{\"marker\": {\"colorbar\": {\"outlinewidth\": 0, \"ticks\": \"\"}}, \"type\": \"scatterternary\"}], \"surface\": [{\"colorbar\": {\"outlinewidth\": 0, \"ticks\": \"\"}, \"colorscale\": [[0.0, \"#0d0887\"], [0.1111111111111111, \"#46039f\"], [0.2222222222222222, \"#7201a8\"], [0.3333333333333333, \"#9c179e\"], [0.4444444444444444, \"#bd3786\"], [0.5555555555555556, \"#d8576b\"], [0.6666666666666666, \"#ed7953\"], [0.7777777777777778, \"#fb9f3a\"], [0.8888888888888888, \"#fdca26\"], [1.0, \"#f0f921\"]], \"type\": \"surface\"}], \"table\": [{\"cells\": {\"fill\": {\"color\": \"#EBF0F8\"}, \"line\": {\"color\": \"white\"}}, \"header\": {\"fill\": {\"color\": \"#C8D4E3\"}, \"line\": {\"color\": \"white\"}}, \"type\": \"table\"}]}, \"layout\": {\"annotationdefaults\": {\"arrowcolor\": \"#2a3f5f\", \"arrowhead\": 0, \"arrowwidth\": 1}, \"coloraxis\": {\"colorbar\": {\"outlinewidth\": 0, \"ticks\": \"\"}}, \"colorscale\": {\"diverging\": [[0, \"#8e0152\"], [0.1, \"#c51b7d\"], [0.2, \"#de77ae\"], [0.3, \"#f1b6da\"], [0.4, \"#fde0ef\"], [0.5, \"#f7f7f7\"], [0.6, \"#e6f5d0\"], [0.7, \"#b8e186\"], [0.8, \"#7fbc41\"], [0.9, \"#4d9221\"], [1, \"#276419\"]], \"sequential\": [[0.0, \"#0d0887\"], [0.1111111111111111, \"#46039f\"], [0.2222222222222222, \"#7201a8\"], [0.3333333333333333, \"#9c179e\"], [0.4444444444444444, \"#bd3786\"], [0.5555555555555556, \"#d8576b\"], [0.6666666666666666, \"#ed7953\"], [0.7777777777777778, \"#fb9f3a\"], [0.8888888888888888, \"#fdca26\"], [1.0, \"#f0f921\"]], \"sequentialminus\": [[0.0, \"#0d0887\"], [0.1111111111111111, \"#46039f\"], [0.2222222222222222, \"#7201a8\"], [0.3333333333333333, \"#9c179e\"], [0.4444444444444444, \"#bd3786\"], [0.5555555555555556, \"#d8576b\"], [0.6666666666666666, \"#ed7953\"], [0.7777777777777778, \"#fb9f3a\"], [0.8888888888888888, \"#fdca26\"], [1.0, \"#f0f921\"]]}, \"colorway\": [\"#636efa\", \"#EF553B\", \"#00cc96\", \"#ab63fa\", \"#FFA15A\", \"#19d3f3\", \"#FF6692\", \"#B6E880\", \"#FF97FF\", \"#FECB52\"], \"font\": {\"color\": \"#2a3f5f\"}, \"geo\": {\"bgcolor\": \"white\", \"lakecolor\": \"white\", \"landcolor\": \"#E5ECF6\", \"showlakes\": true, \"showland\": true, \"subunitcolor\": \"white\"}, \"hoverlabel\": {\"align\": \"left\"}, \"hovermode\": \"closest\", \"mapbox\": {\"style\": \"light\"}, \"paper_bgcolor\": \"white\", \"plot_bgcolor\": \"#E5ECF6\", \"polar\": {\"angularaxis\": {\"gridcolor\": \"white\", \"linecolor\": \"white\", \"ticks\": \"\"}, \"bgcolor\": \"#E5ECF6\", \"radialaxis\": {\"gridcolor\": \"white\", \"linecolor\": \"white\", \"ticks\": \"\"}}, \"scene\": {\"xaxis\": {\"backgroundcolor\": \"#E5ECF6\", \"gridcolor\": \"white\", \"gridwidth\": 2, \"linecolor\": \"white\", \"showbackground\": true, \"ticks\": \"\", \"zerolinecolor\": \"white\"}, \"yaxis\": {\"backgroundcolor\": \"#E5ECF6\", \"gridcolor\": \"white\", \"gridwidth\": 2, \"linecolor\": \"white\", \"showbackground\": true, \"ticks\": \"\", \"zerolinecolor\": \"white\"}, \"zaxis\": {\"backgroundcolor\": \"#E5ECF6\", \"gridcolor\": \"white\", \"gridwidth\": 2, \"linecolor\": \"white\", \"showbackground\": true, \"ticks\": \"\", \"zerolinecolor\": \"white\"}}, \"shapedefaults\": {\"line\": {\"color\": \"#2a3f5f\"}}, \"ternary\": {\"aaxis\": {\"gridcolor\": \"white\", \"linecolor\": \"white\", \"ticks\": \"\"}, \"baxis\": {\"gridcolor\": \"white\", \"linecolor\": \"white\", \"ticks\": \"\"}, \"bgcolor\": \"#E5ECF6\", \"caxis\": {\"gridcolor\": \"white\", \"linecolor\": \"white\", \"ticks\": \"\"}}, \"title\": {\"x\": 0.05}, \"xaxis\": {\"automargin\": true, \"gridcolor\": \"white\", \"linecolor\": \"white\", \"ticks\": \"\", \"title\": {\"standoff\": 15}, \"zerolinecolor\": \"white\", \"zerolinewidth\": 2}, \"yaxis\": {\"automargin\": true, \"gridcolor\": \"white\", \"linecolor\": \"white\", \"ticks\": \"\", \"title\": {\"standoff\": 15}, \"zerolinecolor\": \"white\", \"zerolinewidth\": 2}}}},\n",
              "                        {\"responsive\": true}\n",
              "                    ).then(function(){\n",
              "                            \n",
              "var gd = document.getElementById('ab5e0bf8-8c64-485f-a07b-aabfdaa4f0c7');\n",
              "var x = new MutationObserver(function (mutations, observer) {{\n",
              "        var display = window.getComputedStyle(gd).display;\n",
              "        if (!display || display === 'none') {{\n",
              "            console.log([gd, 'removed!']);\n",
              "            Plotly.purge(gd);\n",
              "            observer.disconnect();\n",
              "        }}\n",
              "}});\n",
              "\n",
              "// Listen for the removal of the full notebook cells\n",
              "var notebookContainer = gd.closest('#notebook-container');\n",
              "if (notebookContainer) {{\n",
              "    x.observe(notebookContainer, {childList: true});\n",
              "}}\n",
              "\n",
              "// Listen for the clearing of the current output cell\n",
              "var outputEl = gd.closest('.output');\n",
              "if (outputEl) {{\n",
              "    x.observe(outputEl, {childList: true});\n",
              "}}\n",
              "\n",
              "                        })\n",
              "                };\n",
              "                \n",
              "            </script>\n",
              "        </div>\n",
              "</body>\n",
              "</html>"
            ]
          },
          "metadata": {
            "tags": []
          }
        }
      ]
    },
    {
      "cell_type": "markdown",
      "metadata": {
        "id": "IAfW_r4hsFgN",
        "colab_type": "text"
      },
      "source": [
        "## K-means"
      ]
    },
    {
      "cell_type": "code",
      "metadata": {
        "id": "pYI-yZzee864",
        "colab_type": "code",
        "colab": {
          "base_uri": "https://localhost:8080/",
          "height": 221
        },
        "outputId": "efd7e7d3-c86b-4733-f448-4ee2af8fa34e"
      },
      "source": [
        "model = sklearn.cluster.KMeans(n_clusters=2)\n",
        "labels_pca = model.fit_predict(pca)\n",
        "labels_pca"
      ],
      "execution_count": 20,
      "outputs": [
        {
          "output_type": "execute_result",
          "data": {
            "text/plain": [
              "array([1, 1, 1, 1, 1, 1, 1, 1, 1, 1, 1, 1, 1, 1, 1, 1, 1, 1, 1, 1, 1, 1,\n",
              "       1, 1, 1, 1, 1, 0, 0, 0, 0, 0, 0, 0, 0, 0, 0, 0, 0, 0, 0, 0, 0, 0,\n",
              "       0, 0, 0, 0, 0, 0, 0, 0, 0, 0, 0, 0, 0, 0, 0, 0, 0, 0, 0, 0, 0, 0,\n",
              "       0, 0, 0, 0, 0, 0, 0, 0, 0, 0, 0, 0, 0, 0, 0, 0, 0, 0, 0, 0, 0, 0,\n",
              "       0, 0, 0, 0, 0, 0, 0, 0, 0, 0, 0, 0, 0, 0, 0, 0, 0, 0, 0, 0, 0, 0,\n",
              "       0, 0, 0, 0, 0, 0, 0, 0, 0, 0, 0, 0, 0, 0, 0, 0, 0, 0, 0, 0, 0, 0,\n",
              "       1, 1, 1, 1, 1, 1, 1, 1, 1, 1, 1, 1, 1, 1, 1, 1, 1, 1, 1, 1, 1, 1,\n",
              "       1, 1, 1, 1, 1, 1, 1, 1, 1, 1, 1, 1, 1, 1, 1, 1, 1, 1, 1, 1, 1, 1,\n",
              "       1, 1, 1, 1, 1, 1, 1, 1, 1, 1, 1, 1, 1, 1, 1, 1, 1, 1, 1, 1, 1, 1,\n",
              "       1, 1, 1, 1, 1, 1, 1, 1, 1, 1, 1, 1, 1, 1, 1, 1, 1, 1, 1, 1, 1, 1,\n",
              "       1, 1, 1, 1, 1, 1, 1, 1, 1, 1, 1, 1, 1, 1, 1, 1, 1, 1, 1, 1, 1],\n",
              "      dtype=int32)"
            ]
          },
          "metadata": {
            "tags": []
          },
          "execution_count": 20
        }
      ]
    },
    {
      "cell_type": "code",
      "metadata": {
        "id": "IjQZEtXEuh_d",
        "colab_type": "code",
        "colab": {
          "base_uri": "https://localhost:8080/",
          "height": 442
        },
        "outputId": "482ba007-eee8-40a7-a021-a33507f2b8ea"
      },
      "source": [
        "model = sklearn.cluster.KMeans(n_clusters=3)\n",
        "labels = model.fit_predict(X)\n",
        "labels"
      ],
      "execution_count": 50,
      "outputs": [
        {
          "output_type": "execute_result",
          "data": {
            "text/plain": [
              "array([2, 2, 2, 2, 2, 2, 2, 2, 2, 2, 2, 2, 2, 2, 2, 2, 2, 2, 2, 2, 2, 2,\n",
              "       2, 2, 2, 2, 2, 2, 2, 2, 2, 2, 2, 2, 2, 2, 2, 2, 2, 2, 2, 2, 2, 2,\n",
              "       2, 2, 2, 2, 2, 2, 2, 2, 2, 2, 2, 2, 2, 2, 2, 2, 2, 2, 2, 2, 2, 2,\n",
              "       2, 2, 2, 2, 2, 2, 2, 2, 2, 2, 2, 2, 2, 2, 2, 2, 2, 2, 2, 2, 2, 2,\n",
              "       2, 2, 2, 2, 2, 2, 2, 2, 2, 2, 2, 2, 2, 2, 2, 2, 2, 2, 2, 2, 2, 2,\n",
              "       2, 2, 2, 2, 2, 2, 2, 2, 2, 2, 2, 2, 2, 2, 2, 2, 2, 2, 2, 2, 2, 2,\n",
              "       2, 2, 2, 2, 2, 2, 2, 2, 2, 2, 2, 2, 2, 2, 2, 2, 2, 2, 2, 2, 2, 2,\n",
              "       2, 2, 2, 2, 2, 2, 2, 2, 2, 2, 2, 2, 2, 2, 2, 2, 2, 2, 2, 2, 2, 2,\n",
              "       2, 2, 2, 2, 2, 2, 2, 2, 2, 2, 2, 2, 2, 2, 2, 2, 2, 2, 2, 2, 2, 2,\n",
              "       2, 2, 2, 2, 2, 2, 2, 2, 2, 2, 2, 2, 2, 2, 2, 2, 2, 2, 2, 2, 2, 2,\n",
              "       2, 2, 2, 2, 2, 2, 2, 2, 2, 2, 2, 2, 2, 2, 2, 2, 2, 2, 0, 0, 0, 0,\n",
              "       0, 0, 0, 0, 0, 0, 0, 0, 0, 0, 0, 0, 2, 2, 2, 0, 0, 0, 0, 0, 0, 0,\n",
              "       0, 0, 0, 0, 0, 0, 0, 0, 0, 0, 0, 0, 0, 0, 0, 0, 0, 0, 0, 0, 0, 0,\n",
              "       0, 0, 0, 0, 0, 0, 0, 0, 0, 0, 0, 0, 0, 0, 0, 0, 0, 0, 0, 0, 0, 0,\n",
              "       0, 0, 0, 0, 0, 0, 0, 0, 0, 0, 0, 0, 0, 0, 0, 0, 0, 0, 0, 0, 0, 0,\n",
              "       0, 0, 0, 0, 0, 0, 0, 0, 0, 0, 0, 0, 0, 0, 0, 0, 0, 0, 0, 0, 0, 0,\n",
              "       0, 0, 0, 0, 0, 0, 1, 1, 1, 1, 1, 1, 1, 1, 1, 1, 1, 1, 1, 1, 1, 1,\n",
              "       1, 1, 1, 1, 1, 1, 1, 1, 1, 1, 1, 1, 1, 1, 1, 1, 1, 1, 1, 1, 1, 1,\n",
              "       1, 1, 1, 1, 1, 1, 1, 1, 1, 1, 1, 1, 1, 1, 1, 1, 1, 1, 1, 1, 1, 1,\n",
              "       0, 0, 0, 0, 0, 0, 0, 0, 0, 0, 0, 0, 0, 0, 0, 0, 0, 0, 0, 0, 0, 0,\n",
              "       0, 0, 0, 0, 0, 0, 0, 0, 0, 0, 0, 0, 0, 0, 0, 0, 0, 0, 0, 0, 0, 0,\n",
              "       0, 0, 0, 0, 0, 0, 0, 0, 0, 0, 0, 0, 0, 0, 0, 0, 0, 0, 0, 0, 0, 0,\n",
              "       0, 0, 0, 0, 0, 0, 0, 0, 0, 0, 0, 0, 0, 0, 0, 0, 0, 0, 0, 0, 0, 0,\n",
              "       0, 0, 0, 0, 0, 0, 0, 0, 0, 0, 0, 0, 0, 0, 0, 0, 0, 0, 0, 0, 0, 0,\n",
              "       0, 0, 0, 0, 0, 0, 0, 0, 0], dtype=int32)"
            ]
          },
          "metadata": {
            "tags": []
          },
          "execution_count": 50
        }
      ]
    },
    {
      "cell_type": "code",
      "metadata": {
        "id": "ynQh93FXH-CW",
        "colab_type": "code",
        "colab": {
          "base_uri": "https://localhost:8080/",
          "height": 221
        },
        "outputId": "da4404ec-0a4f-43c2-ea58-6236cd7f782a"
      },
      "source": [
        "labels_norm = model.fit_predict(X_train_norm)\n",
        "labels_norm"
      ],
      "execution_count": 23,
      "outputs": [
        {
          "output_type": "execute_result",
          "data": {
            "text/plain": [
              "array([0, 0, 0, 0, 0, 0, 0, 0, 0, 0, 0, 0, 0, 0, 0, 0, 0, 0, 0, 0, 0, 0,\n",
              "       0, 0, 0, 0, 0, 0, 1, 1, 1, 1, 1, 1, 1, 1, 1, 1, 1, 1, 1, 1, 0, 0,\n",
              "       1, 0, 0, 1, 1, 1, 1, 1, 1, 1, 1, 1, 1, 1, 1, 1, 1, 1, 1, 1, 1, 1,\n",
              "       1, 1, 1, 1, 1, 1, 1, 1, 1, 1, 1, 0, 1, 1, 1, 1, 1, 1, 1, 1, 1, 1,\n",
              "       1, 1, 1, 1, 1, 1, 1, 1, 1, 1, 1, 1, 1, 1, 1, 1, 1, 1, 1, 1, 1, 1,\n",
              "       1, 1, 1, 1, 1, 1, 1, 1, 1, 1, 1, 1, 1, 1, 1, 1, 1, 1, 1, 1, 1, 1,\n",
              "       0, 0, 0, 0, 0, 0, 0, 0, 0, 0, 0, 0, 0, 0, 0, 0, 0, 0, 0, 0, 0, 0,\n",
              "       0, 0, 0, 0, 0, 0, 0, 0, 0, 0, 0, 0, 0, 0, 0, 0, 0, 0, 0, 0, 0, 0,\n",
              "       0, 0, 0, 0, 0, 0, 0, 0, 0, 0, 0, 0, 0, 0, 0, 0, 0, 0, 0, 0, 0, 0,\n",
              "       0, 0, 0, 0, 0, 0, 0, 0, 0, 0, 0, 0, 0, 0, 0, 0, 0, 0, 0, 0, 0, 0,\n",
              "       0, 0, 0, 0, 0, 0, 0, 0, 1, 0, 0, 0, 0, 0, 0, 0, 0, 0, 0, 0, 0],\n",
              "      dtype=int32)"
            ]
          },
          "metadata": {
            "tags": []
          },
          "execution_count": 23
        }
      ]
    },
    {
      "cell_type": "code",
      "metadata": {
        "id": "xaUvvoVgyIN3",
        "colab_type": "code",
        "colab": {}
      },
      "source": [
        "pred_km = pd.concat([pca_df, pd.DataFrame(list(labels), columns = ['predicted_label'])],axis=1)"
      ],
      "execution_count": 24,
      "outputs": []
    },
    {
      "cell_type": "markdown",
      "metadata": {
        "id": "XF1r146zsIYJ",
        "colab_type": "text"
      },
      "source": [
        "plot results "
      ]
    },
    {
      "cell_type": "code",
      "metadata": {
        "id": "skV3pvyXvTn1",
        "colab_type": "code",
        "colab": {
          "base_uri": "https://localhost:8080/",
          "height": 298
        },
        "outputId": "99c4a418-ab48-4ea3-f9b0-99ae0bc17fb4"
      },
      "source": [
        "\n",
        "plt.scatter(pred_km[pred_km['predicted_label']==0].iloc[:,0], pred_km[pred_km['predicted_label']==0].iloc[:,1], c='r', s=50, cmap='viridis')\n",
        "plt.scatter(pred_km[pred_km['predicted_label']==1].iloc[:,0], pred_km[pred_km['predicted_label']==1].iloc[:,1], c='b', s=50, cmap='viridis')\n",
        "\n",
        "plt.legend(('nobee', 'bee'))\n",
        "plt.title(\"prediction with K-means\")"
      ],
      "execution_count": null,
      "outputs": [
        {
          "output_type": "execute_result",
          "data": {
            "text/plain": [
              "Text(0.5, 1.0, 'prediction with K-means')"
            ]
          },
          "metadata": {
            "tags": []
          },
          "execution_count": 89
        },
        {
          "output_type": "display_data",
          "data": {
            "image/png": "[encoded data removed]",
            "text/plain": [
              "<Figure size 432x288 with 1 Axes>"
            ]
          },
          "metadata": {
            "tags": [],
            "needs_background": "light"
          }
        }
      ]
    },
    {
      "cell_type": "code",
      "metadata": {
        "id": "8q2vDfM0r7S-",
        "colab_type": "code",
        "colab": {
          "base_uri": "https://localhost:8080/",
          "height": 298
        },
        "outputId": "ae9186ef-5aca-47b9-8261-38dc18a9a787"
      },
      "source": [
        "plt.scatter(pred_km[pred_km['label']==0].iloc[:,0], pred_km[pred_km['label']==0].iloc[:,1], c='r', s=50, cmap='viridis')\n",
        "plt.scatter(pred_km[pred_km['label']==1].iloc[:,0], pred_km[pred_km['label']==1].iloc[:,1], c='b', s=50, cmap='viridis')\n",
        "\n",
        "plt.legend(('nobee', 'bee'))\n",
        "plt.title(\"True label\")"
      ],
      "execution_count": null,
      "outputs": [
        {
          "output_type": "execute_result",
          "data": {
            "text/plain": [
              "Text(0.5, 1.0, 'True label')"
            ]
          },
          "metadata": {
            "tags": []
          },
          "execution_count": 90
        },
        {
          "output_type": "display_data",
          "data": {
            "image/png": "[encoded data removed]",
            "text/plain": [
              "<Figure size 432x288 with 1 Axes>"
            ]
          },
          "metadata": {
            "tags": [],
            "needs_background": "light"
          }
        }
      ]
    },
    {
      "cell_type": "code",
      "metadata": {
        "id": "T5JgoPRFsUv2",
        "colab_type": "code",
        "colab": {
          "base_uri": "https://localhost:8080/",
          "height": 51
        },
        "outputId": "d7033e36-5e89-46bc-9d0c-0bf6240157e9"
      },
      "source": [
        "from sklearn.metrics import confusion_matrix\n",
        "from sklearn.metrics import accuracy_score\n",
        "\n",
        "cm = confusion_matrix(list(labels), Y_train)\n",
        "cm"
      ],
      "execution_count": 29,
      "outputs": [
        {
          "output_type": "execute_result",
          "data": {
            "text/plain": [
              "array([[86, 14],\n",
              "       [88, 53]])"
            ]
          },
          "metadata": {
            "tags": []
          },
          "execution_count": 29
        }
      ]
    },
    {
      "cell_type": "code",
      "metadata": {
        "id": "d_FTxjkuLyON",
        "colab_type": "code",
        "colab": {
          "base_uri": "https://localhost:8080/",
          "height": 34
        },
        "outputId": "37e439ee-be55-41ce-c447-ca5787147024"
      },
      "source": [
        "from sklearn.metrics import f1_score\n",
        "f1_score(labels, Y_train)"
      ],
      "execution_count": 39,
      "outputs": [
        {
          "output_type": "execute_result",
          "data": {
            "text/plain": [
              "0.5096153846153847"
            ]
          },
          "metadata": {
            "tags": []
          },
          "execution_count": 39
        }
      ]
    },
    {
      "cell_type": "code",
      "metadata": {
        "id": "F9U8XdZhL89Y",
        "colab_type": "code",
        "colab": {
          "base_uri": "https://localhost:8080/",
          "height": 34
        },
        "outputId": "1e4a6f29-5f2a-4549-9cd2-77c73cbd32d0"
      },
      "source": [
        "from sklearn.metrics import average_precision_score\n",
        "average_precision_score(labels, Y_train)"
      ],
      "execution_count": 40,
      "outputs": [
        {
          "output_type": "execute_result",
          "data": {
            "text/plain": [
              "0.6624883000904369"
            ]
          },
          "metadata": {
            "tags": []
          },
          "execution_count": 40
        }
      ]
    },
    {
      "cell_type": "code",
      "metadata": {
        "id": "WMF8vm-gJZQW",
        "colab_type": "code",
        "colab": {
          "base_uri": "https://localhost:8080/",
          "height": 34
        },
        "outputId": "3b4d18a9-4f09-4ccf-9f1a-ffe8f4dbbafe"
      },
      "source": [
        "accuracy_score(labels, Y_train)"
      ],
      "execution_count": 30,
      "outputs": [
        {
          "output_type": "execute_result",
          "data": {
            "text/plain": [
              "0.5767634854771784"
            ]
          },
          "metadata": {
            "tags": []
          },
          "execution_count": 30
        }
      ]
    },
    {
      "cell_type": "code",
      "metadata": {
        "id": "aF5vgcOlJ9wj",
        "colab_type": "code",
        "colab": {
          "base_uri": "https://localhost:8080/",
          "height": 34
        },
        "outputId": "60e6361c-5e68-4c45-d222-584bed002dc9"
      },
      "source": [
        "accuracy_score(labels_pca, Y_train)"
      ],
      "execution_count": 33,
      "outputs": [
        {
          "output_type": "execute_result",
          "data": {
            "text/plain": [
              "0.5975103734439834"
            ]
          },
          "metadata": {
            "tags": []
          },
          "execution_count": 33
        }
      ]
    },
    {
      "cell_type": "code",
      "metadata": {
        "id": "Ko-ef6cHKsP7",
        "colab_type": "code",
        "colab": {
          "base_uri": "https://localhost:8080/",
          "height": 1000
        },
        "outputId": "63437eb8-60ff-4b23-fafb-6afa58b27225"
      },
      "source": [
        "for i in range(1,80):\n",
        "  print(i)\n",
        "  pca_80 = PCA(n_components = i).fit_transform(X_train)\n",
        "  labels_80 = model.fit_predict(pca_80)\n",
        "  print(accuracy_score(labels_80, Y_train))"
      ],
      "execution_count": 38,
      "outputs": [
        {
          "output_type": "stream",
          "text": [
            "[2020-08-10 21:00:55 RAM6.7% 0.23GB] 1\n",
            "[2020-08-10 21:00:55 RAM6.7% 0.23GB] 0.4024896265560166\n",
            "[2020-08-10 21:00:55 RAM6.7% 0.23GB] 2\n",
            "[2020-08-10 21:00:55 RAM6.7% 0.23GB] 0.4024896265560166\n",
            "[2020-08-10 21:00:55 RAM6.7% 0.23GB] 3\n",
            "[2020-08-10 21:00:55 RAM6.7% 0.23GB] 0.5975103734439834\n",
            "[2020-08-10 21:00:55 RAM6.7% 0.23GB] 4\n",
            "[2020-08-10 21:00:55 RAM6.7% 0.23GB] 0.4024896265560166\n",
            "[2020-08-10 21:00:55 RAM6.7% 0.23GB] 5\n",
            "[2020-08-10 21:00:55 RAM6.7% 0.23GB] 0.5975103734439834\n",
            "[2020-08-10 21:00:55 RAM6.7% 0.23GB] 6\n",
            "[2020-08-10 21:00:55 RAM6.7% 0.23GB] 0.4024896265560166\n",
            "[2020-08-10 21:00:55 RAM6.7% 0.23GB] 7\n",
            "[2020-08-10 21:00:55 RAM6.7% 0.23GB] 0.5975103734439834\n",
            "[2020-08-10 21:00:55 RAM6.7% 0.23GB] 8\n",
            "[2020-08-10 21:00:56 RAM6.7% 0.23GB] 0.5975103734439834\n",
            "[2020-08-10 21:00:56 RAM6.7% 0.23GB] 9\n",
            "[2020-08-10 21:00:56 RAM6.7% 0.23GB] 0.4024896265560166\n",
            "[2020-08-10 21:00:56 RAM6.7% 0.23GB] 10\n",
            "[2020-08-10 21:00:56 RAM6.7% 0.23GB] 0.5975103734439834\n",
            "[2020-08-10 21:00:56 RAM6.7% 0.23GB] 11\n",
            "[2020-08-10 21:00:56 RAM6.7% 0.23GB] 0.4024896265560166\n",
            "[2020-08-10 21:00:56 RAM6.7% 0.23GB] 12\n",
            "[2020-08-10 21:00:56 RAM6.7% 0.23GB] 0.5975103734439834\n",
            "[2020-08-10 21:00:56 RAM6.7% 0.23GB] 13\n",
            "[2020-08-10 21:00:56 RAM6.7% 0.23GB] 0.5975103734439834\n",
            "[2020-08-10 21:00:56 RAM6.7% 0.23GB] 14\n",
            "[2020-08-10 21:00:56 RAM6.7% 0.23GB] 0.4024896265560166\n",
            "[2020-08-10 21:00:56 RAM6.7% 0.23GB] 15\n",
            "[2020-08-10 21:00:56 RAM6.7% 0.23GB] 0.4024896265560166\n",
            "[2020-08-10 21:00:56 RAM6.7% 0.23GB] 16\n",
            "[2020-08-10 21:00:56 RAM6.7% 0.23GB] 0.4024896265560166\n",
            "[2020-08-10 21:00:56 RAM6.7% 0.23GB] 17\n",
            "[2020-08-10 21:00:56 RAM6.7% 0.23GB] 0.4024896265560166\n",
            "[2020-08-10 21:00:56 RAM6.7% 0.23GB] 18\n",
            "[2020-08-10 21:00:56 RAM6.7% 0.23GB] 0.4024896265560166\n",
            "[2020-08-10 21:00:56 RAM6.7% 0.23GB] 19\n",
            "[2020-08-10 21:00:56 RAM6.7% 0.23GB] 0.4024896265560166\n",
            "[2020-08-10 21:00:56 RAM6.7% 0.23GB] 20\n",
            "[2020-08-10 21:00:56 RAM6.7% 0.23GB] 0.5975103734439834\n",
            "[2020-08-10 21:00:56 RAM6.7% 0.23GB] 21\n",
            "[2020-08-10 21:00:56 RAM6.7% 0.23GB] 0.5975103734439834\n",
            "[2020-08-10 21:00:56 RAM6.7% 0.23GB] 22\n",
            "[2020-08-10 21:00:56 RAM6.7% 0.23GB] 0.5975103734439834\n",
            "[2020-08-10 21:00:56 RAM6.7% 0.23GB] 23\n",
            "[2020-08-10 21:00:56 RAM6.7% 0.23GB] 0.4024896265560166\n",
            "[2020-08-10 21:00:56 RAM6.7% 0.23GB] 24\n",
            "[2020-08-10 21:00:56 RAM6.7% 0.23GB] 0.4024896265560166\n",
            "[2020-08-10 21:00:56 RAM6.7% 0.23GB] 25\n",
            "[2020-08-10 21:00:56 RAM6.7% 0.23GB] 0.4024896265560166\n",
            "[2020-08-10 21:00:56 RAM6.7% 0.23GB] 26\n",
            "[2020-08-10 21:00:56 RAM6.7% 0.23GB] 0.5975103734439834\n",
            "[2020-08-10 21:00:56 RAM6.7% 0.23GB] 27\n",
            "[2020-08-10 21:00:56 RAM6.7% 0.23GB] 0.4024896265560166\n",
            "[2020-08-10 21:00:56 RAM6.7% 0.23GB] 28\n",
            "[2020-08-10 21:00:56 RAM6.7% 0.23GB] 0.4024896265560166\n",
            "[2020-08-10 21:00:56 RAM6.7% 0.23GB] 29\n",
            "[2020-08-10 21:00:56 RAM6.7% 0.23GB] 0.4024896265560166\n",
            "[2020-08-10 21:00:56 RAM6.7% 0.23GB] 30\n",
            "[2020-08-10 21:00:56 RAM6.7% 0.23GB] 0.5975103734439834\n",
            "[2020-08-10 21:00:56 RAM6.7% 0.23GB] 31\n",
            "[2020-08-10 21:00:56 RAM6.7% 0.23GB] 0.4024896265560166\n",
            "[2020-08-10 21:00:56 RAM6.7% 0.23GB] 32\n",
            "[2020-08-10 21:00:56 RAM6.7% 0.23GB] 0.5975103734439834\n",
            "[2020-08-10 21:00:56 RAM6.7% 0.23GB] 33\n",
            "[2020-08-10 21:00:56 RAM6.7% 0.23GB] 0.4024896265560166\n",
            "[2020-08-10 21:00:56 RAM6.7% 0.23GB] 34\n",
            "[2020-08-10 21:00:56 RAM6.7% 0.23GB] 0.4024896265560166\n",
            "[2020-08-10 21:00:56 RAM6.7% 0.23GB] 35\n",
            "[2020-08-10 21:00:56 RAM6.7% 0.23GB] 0.5975103734439834\n",
            "[2020-08-10 21:00:56 RAM6.7% 0.23GB] 36\n",
            "[2020-08-10 21:00:56 RAM6.7% 0.23GB] 0.4024896265560166\n",
            "[2020-08-10 21:00:56 RAM6.7% 0.23GB] 37\n",
            "[2020-08-10 21:00:56 RAM6.7% 0.23GB] 0.5975103734439834\n",
            "[2020-08-10 21:00:56 RAM6.7% 0.23GB] 38\n",
            "[2020-08-10 21:00:56 RAM6.7% 0.23GB] 0.5975103734439834\n",
            "[2020-08-10 21:00:56 RAM6.7% 0.23GB] 39\n",
            "[2020-08-10 21:00:56 RAM6.7% 0.23GB] 0.5975103734439834\n",
            "[2020-08-10 21:00:56 RAM6.7% 0.23GB] 40\n",
            "[2020-08-10 21:00:57 RAM6.7% 0.23GB] 0.5975103734439834\n",
            "[2020-08-10 21:00:57 RAM6.7% 0.23GB] 41\n",
            "[2020-08-10 21:00:57 RAM6.7% 0.23GB] 0.4024896265560166\n",
            "[2020-08-10 21:00:57 RAM6.7% 0.23GB] 42\n",
            "[2020-08-10 21:00:57 RAM6.7% 0.23GB] 0.4024896265560166\n",
            "[2020-08-10 21:00:57 RAM6.7% 0.23GB] 43\n",
            "[2020-08-10 21:00:57 RAM6.7% 0.23GB] 0.4024896265560166\n",
            "[2020-08-10 21:00:57 RAM6.7% 0.23GB] 44\n",
            "[2020-08-10 21:00:57 RAM6.7% 0.23GB] 0.4024896265560166\n",
            "[2020-08-10 21:00:57 RAM6.7% 0.23GB] 45\n",
            "[2020-08-10 21:00:57 RAM6.7% 0.23GB] 0.5975103734439834\n",
            "[2020-08-10 21:00:57 RAM6.7% 0.23GB] 46\n",
            "[2020-08-10 21:00:57 RAM6.7% 0.23GB] 0.4024896265560166\n",
            "[2020-08-10 21:00:57 RAM6.7% 0.23GB] 47\n",
            "[2020-08-10 21:00:57 RAM6.7% 0.23GB] 0.4024896265560166\n",
            "[2020-08-10 21:00:57 RAM6.7% 0.23GB] 48\n",
            "[2020-08-10 21:00:57 RAM6.7% 0.23GB] 0.4024896265560166\n",
            "[2020-08-10 21:00:57 RAM6.7% 0.23GB] 49\n",
            "[2020-08-10 21:00:57 RAM6.7% 0.23GB] 0.4024896265560166\n",
            "[2020-08-10 21:00:57 RAM6.7% 0.23GB] 50\n",
            "[2020-08-10 21:00:57 RAM6.7% 0.23GB] 0.4024896265560166\n",
            "[2020-08-10 21:00:57 RAM6.7% 0.23GB] 51\n",
            "[2020-08-10 21:00:57 RAM6.7% 0.23GB] 0.5975103734439834\n",
            "[2020-08-10 21:00:57 RAM6.7% 0.23GB] 52\n",
            "[2020-08-10 21:00:57 RAM6.7% 0.23GB] 0.5975103734439834\n",
            "[2020-08-10 21:00:57 RAM6.7% 0.23GB] 53\n",
            "[2020-08-10 21:00:57 RAM6.7% 0.23GB] 0.5975103734439834\n",
            "[2020-08-10 21:00:57 RAM6.7% 0.23GB] 54\n",
            "[2020-08-10 21:00:57 RAM6.7% 0.23GB] 0.4024896265560166\n",
            "[2020-08-10 21:00:57 RAM6.7% 0.23GB] 55\n",
            "[2020-08-10 21:00:57 RAM6.7% 0.23GB] 0.4024896265560166\n",
            "[2020-08-10 21:00:57 RAM6.7% 0.23GB] 56\n",
            "[2020-08-10 21:00:57 RAM6.7% 0.23GB] 0.4024896265560166\n",
            "[2020-08-10 21:00:57 RAM6.7% 0.23GB] 57\n",
            "[2020-08-10 21:00:57 RAM6.7% 0.23GB] 0.5975103734439834\n",
            "[2020-08-10 21:00:57 RAM6.7% 0.23GB] 58\n",
            "[2020-08-10 21:00:57 RAM6.7% 0.23GB] 0.4024896265560166\n",
            "[2020-08-10 21:00:57 RAM6.7% 0.23GB] 59\n",
            "[2020-08-10 21:00:57 RAM6.7% 0.23GB] 0.5975103734439834\n",
            "[2020-08-10 21:00:57 RAM6.7% 0.23GB] 60\n",
            "[2020-08-10 21:00:57 RAM6.7% 0.23GB] 0.4024896265560166\n",
            "[2020-08-10 21:00:57 RAM6.7% 0.23GB] 61\n",
            "[2020-08-10 21:00:57 RAM6.7% 0.23GB] 0.4024896265560166\n",
            "[2020-08-10 21:00:57 RAM6.7% 0.23GB] 62\n",
            "[2020-08-10 21:00:57 RAM6.7% 0.23GB] 0.5975103734439834\n",
            "[2020-08-10 21:00:57 RAM6.7% 0.23GB] 63\n",
            "[2020-08-10 21:00:57 RAM6.7% 0.23GB] 0.4024896265560166\n",
            "[2020-08-10 21:00:57 RAM6.7% 0.23GB] 64\n",
            "[2020-08-10 21:00:57 RAM6.7% 0.23GB] 0.5975103734439834\n",
            "[2020-08-10 21:00:57 RAM6.7% 0.23GB] 65\n",
            "[2020-08-10 21:00:57 RAM6.7% 0.23GB] 0.4024896265560166\n",
            "[2020-08-10 21:00:57 RAM6.7% 0.23GB] 66\n",
            "[2020-08-10 21:00:57 RAM6.7% 0.23GB] 0.5975103734439834\n",
            "[2020-08-10 21:00:57 RAM6.7% 0.23GB] 67\n",
            "[2020-08-10 21:00:57 RAM6.7% 0.23GB] 0.5975103734439834\n",
            "[2020-08-10 21:00:57 RAM6.7% 0.23GB] 68\n",
            "[2020-08-10 21:00:57 RAM6.7% 0.23GB] 0.5975103734439834\n",
            "[2020-08-10 21:00:57 RAM6.7% 0.23GB] 69\n",
            "[2020-08-10 21:00:57 RAM6.7% 0.23GB] 0.5975103734439834\n",
            "[2020-08-10 21:00:57 RAM6.7% 0.23GB] 70\n",
            "[2020-08-10 21:00:58 RAM6.7% 0.23GB] 0.4024896265560166\n",
            "[2020-08-10 21:00:58 RAM6.7% 0.23GB] 71\n",
            "[2020-08-10 21:00:58 RAM6.7% 0.23GB] 0.5975103734439834\n",
            "[2020-08-10 21:00:58 RAM6.7% 0.23GB] 72\n",
            "[2020-08-10 21:00:58 RAM6.7% 0.23GB] 0.5975103734439834\n",
            "[2020-08-10 21:00:58 RAM6.7% 0.23GB] 73\n",
            "[2020-08-10 21:00:58 RAM6.7% 0.23GB] 0.4024896265560166\n",
            "[2020-08-10 21:00:58 RAM6.7% 0.23GB] 74\n",
            "[2020-08-10 21:00:58 RAM6.7% 0.23GB] 0.4024896265560166\n",
            "[2020-08-10 21:00:58 RAM6.7% 0.23GB] 75\n",
            "[2020-08-10 21:00:58 RAM6.7% 0.23GB] 0.5975103734439834\n",
            "[2020-08-10 21:00:58 RAM6.7% 0.23GB] 76\n",
            "[2020-08-10 21:00:58 RAM6.7% 0.23GB] 0.4024896265560166\n",
            "[2020-08-10 21:00:58 RAM6.7% 0.23GB] 77\n",
            "[2020-08-10 21:00:58 RAM6.7% 0.23GB] 0.5975103734439834\n",
            "[2020-08-10 21:00:58 RAM6.7% 0.23GB] 78\n",
            "[2020-08-10 21:00:58 RAM6.7% 0.23GB] 0.5975103734439834\n",
            "[2020-08-10 21:00:58 RAM6.7% 0.23GB] 79\n",
            "[2020-08-10 21:00:58 RAM6.7% 0.23GB] 0.4024896265560166\n"
          ],
          "name": "stdout"
        }
      ]
    },
    {
      "cell_type": "code",
      "metadata": {
        "id": "GZUQtWIcJnJj",
        "colab_type": "code",
        "colab": {
          "base_uri": "https://localhost:8080/",
          "height": 34
        },
        "outputId": "bd86c9a5-706b-4805-cb38-4649a44dd8f0"
      },
      "source": [
        "#testing dataset\n",
        "y_test = model.fit_predict(X_test)\n",
        "accuracy_score(y_test, Y_test)"
      ],
      "execution_count": 31,
      "outputs": [
        {
          "output_type": "execute_result",
          "data": {
            "text/plain": [
              "0.5925925925925926"
            ]
          },
          "metadata": {
            "tags": []
          },
          "execution_count": 31
        }
      ]
    },
    {
      "cell_type": "code",
      "metadata": {
        "id": "J2fZQpmFKbUC",
        "colab_type": "code",
        "colab": {}
      },
      "source": [
        ""
      ],
      "execution_count": null,
      "outputs": []
    }
  ]
}