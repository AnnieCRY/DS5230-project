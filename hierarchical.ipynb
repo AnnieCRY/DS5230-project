{
  "nbformat": 4,
  "nbformat_minor": 0,
  "metadata": {
    "colab": {
      "name": "hierarchical.ipynb",
      "provenance": [],
      "include_colab_link": true
    },
    "kernelspec": {
      "name": "python3",
      "display_name": "Python 3"
    }
  },
  "cells": [
    {
      "cell_type": "markdown",
      "metadata": {
        "id": "view-in-github",
        "colab_type": "text"
      },
      "source": [
        "<a href=\"https://colab.research.google.com/github/AnnieCRY/DS5230-project/blob/master/hierarchical.ipynb\" target=\"_parent\"><img src=\"https://colab.research.google.com/assets/colab-badge.svg\" alt=\"Open In Colab\"/></a>"
      ]
    },
    {
      "cell_type": "code",
      "metadata": {
        "id": "NdEek9DQJIJN",
        "colab_type": "code",
        "colab": {
          "base_uri": "https://localhost:8080/",
          "height": 125
        },
        "outputId": "16c55c41-484b-4441-cbab-9d987372bc35"
      },
      "source": [
        "# mount google drive\n",
        "from google.colab import drive\n",
        "drive.mount(\"/content/gdrive\")"
      ],
      "execution_count": 1,
      "outputs": [
        {
          "output_type": "stream",
          "text": [
            "Go to this URL in a browser: https://accounts.google.com/o/oauth2/auth?client_id=947318989803-6bn6qk8qdgf4n4g3pfee6491hc0brc4i.apps.googleusercontent.com&redirect_uri=urn%3aietf%3awg%3aoauth%3a2.0%3aoob&scope=email%20https%3a%2f%2fwww.googleapis.com%2fauth%2fdocs.test%20https%3a%2f%2fwww.googleapis.com%2fauth%2fdrive%20https%3a%2f%2fwww.googleapis.com%2fauth%2fdrive.photos.readonly%20https%3a%2f%2fwww.googleapis.com%2fauth%2fpeopleapi.readonly&response_type=code\n",
            "\n",
            "Enter your authorization code:\n",
            "··········\n",
            "Mounted at /content/gdrive\n"
          ],
          "name": "stdout"
        }
      ]
    },
    {
      "cell_type": "code",
      "metadata": {
        "id": "_vSBhGefIpbI",
        "colab_type": "code",
        "colab": {}
      },
      "source": [
        "%%capture\n",
        "!wget -nc https://raw.githubusercontent.com/AnnieCRY/DS5230-project/master/relabel.py\n",
        "import relabel"
      ],
      "execution_count": 16,
      "outputs": []
    },
    {
      "cell_type": "code",
      "metadata": {
        "id": "kNmNKEgEJQKQ",
        "colab_type": "code",
        "colab": {
          "base_uri": "https://localhost:8080/",
          "height": 140
        },
        "outputId": "5d406c47-cef0-45ff-f4a7-d813c0d7adb5"
      },
      "source": [
        "# download the supporting files from github\n",
        "! rm -rf Audio_based_identification_beehive_states/\n",
        "! git clone https://github.com/Tonyz4516/Audio_based_identification_beehive_states.git\n",
        "\n",
        "! mv Audio_based_identification_beehive_states/Bee_NotBee_classification/* ./"
      ],
      "execution_count": 4,
      "outputs": [
        {
          "output_type": "stream",
          "text": [
            "Cloning into 'Audio_based_identification_beehive_states'...\n",
            "remote: Enumerating objects: 4, done.\u001b[K\n",
            "remote: Counting objects: 100% (4/4), done.\u001b[K\n",
            "remote: Compressing objects: 100% (4/4), done.\u001b[K\n",
            "remote: Total 118 (delta 0), reused 0 (delta 0), pack-reused 114\u001b[K\n",
            "Receiving objects: 100% (118/118), 69.02 KiB | 4.06 MiB/s, done.\n",
            "Resolving deltas: 100% (56/56), done.\n"
          ],
          "name": "stdout"
        }
      ]
    },
    {
      "cell_type": "code",
      "metadata": {
        "id": "h-CGTKGmJTU1",
        "colab_type": "code",
        "colab": {}
      },
      "source": [
        "%%capture\n",
        "! pip install muda"
      ],
      "execution_count": 5,
      "outputs": []
    },
    {
      "cell_type": "code",
      "metadata": {
        "id": "Dlbl4nPHJLea",
        "colab_type": "code",
        "colab": {
          "base_uri": "https://localhost:8080/",
          "height": 34
        },
        "outputId": "e81b8554-751a-4f03-81d2-a7fa758b3aeb"
      },
      "source": [
        "# move zip file to colab vm\n",
        "! cp -r gdrive/My\\ Drive/5230Project/processed_data ./"
      ],
      "execution_count": 6,
      "outputs": [
        {
          "output_type": "stream",
          "text": [
            "cp: cannot open 'gdrive/My Drive/5230Project/processed_data/state_labels.gsheet' for reading: Operation not supported\n"
          ],
          "name": "stdout"
        }
      ]
    },
    {
      "cell_type": "code",
      "metadata": {
        "id": "rXO_gWT9IxDt",
        "colab_type": "code",
        "colab": {}
      },
      "source": [
        "relabel.modify_labels('/content/processed_data/dataset_BeeNoBee_5sec')"
      ],
      "execution_count": 17,
      "outputs": []
    },
    {
      "cell_type": "code",
      "metadata": {
        "id": "cejaw2ImJh_q",
        "colab_type": "code",
        "colab": {}
      },
      "source": [
        "import os\n",
        "import matplotlib.pyplot as plt\n",
        "from utils import *\n",
        "import scipy\n",
        "import sklearn, librosa, mir_eval, IPython.display, urllib\n",
        "import pandas as pd\n",
        "import numpy as np"
      ],
      "execution_count": 8,
      "outputs": []
    },
    {
      "cell_type": "code",
      "metadata": {
        "id": "0jX09hKSJi1D",
        "colab_type": "code",
        "colab": {}
      },
      "source": [
        "block_size = 5\n",
        "path_workingFolder = '/content/processed_data/dataset_BeeNoBee_'+str(block_size)+'sec'+os.sep  # path where to save audio segments and labels files.\n",
        "labels2read = 'labels_BeeNotBee_th0'\n",
        "feature = 'MFCCs20'\n",
        "sample_ids_test, sample_ids_train, sample_ids_val = get_samples_id_perSet(path_workingFolder+'split_random_0.json')"
      ],
      "execution_count": 9,
      "outputs": []
    },
    {
      "cell_type": "code",
      "metadata": {
        "id": "3WZ19kLjJjGL",
        "colab_type": "code",
        "colab": {}
      },
      "source": [
        "X_train = get_features_from_samples(path_workingFolder, sample_ids_train, 'MFCCs20', 'NO', 1)\n",
        "X_val = get_features_from_samples(path_workingFolder, sample_ids_val, 'MFCCs20', 'NO', 1)\n",
        "X_test = get_features_from_samples(path_workingFolder, sample_ids_test, 'MFCCs20', 'NO', 1)"
      ],
      "execution_count": 10,
      "outputs": []
    },
    {
      "cell_type": "code",
      "metadata": {
        "id": "8lXctl--PELp",
        "colab_type": "code",
        "colab": {}
      },
      "source": [
        "def get_GT_labels_fromFiles(path_labels, sample_ids, labels2read) : #labels2read =  name of the label file\n",
        "    labels = []\n",
        "    fileAsdict={}\n",
        "    \n",
        "    with open(path_labels + labels2read+'.csv', 'r') as labfile:\n",
        "        csvreader = csv.reader(labfile, delimiter=',')    \n",
        "        for row in csvreader:\n",
        "            if not row[0] == 'sample_name':\n",
        "                fileAsdict[row[0]]=row[-1]   # row[-1] = '/missing queen/active' or 'bee/nobee'\n",
        "                 \n",
        "    for sample in sample_ids:\n",
        "        labels.append(fileAsdict[sample[0:-4]])  #remove .wav extension\n",
        "\n",
        "    return labels "
      ],
      "execution_count": 11,
      "outputs": []
    },
    {
      "cell_type": "code",
      "metadata": {
        "id": "SXCWh7SSKm0L",
        "colab_type": "code",
        "colab": {}
      },
      "source": [
        "labels_train = get_GT_labels_fromFiles(path_workingFolder, sample_ids_train, labels2read)\n",
        "Y_train = labels_train"
      ],
      "execution_count": 18,
      "outputs": []
    },
    {
      "cell_type": "code",
      "metadata": {
        "id": "M77J5dnxJjEC",
        "colab_type": "code",
        "colab": {}
      },
      "source": [
        "# labels_train = get_GT_labels_fromFiles(path_workingFolder, sample_ids_train, labels2read)\n",
        "# Y_train= labels2binary('nobee', labels_train)\n",
        "    \n",
        "# labels_val = get_GT_labels_fromFiles(path_workingFolder, sample_ids_val, labels2read)\n",
        "# Y_val= labels2binary('nobee', labels_val)\n",
        "    \n",
        "# labels_test = get_GT_labels_fromFiles(path_workingFolder, sample_ids_test, labels2read)\n",
        "# Y_test= labels2binary('nobee', labels_test)"
      ],
      "execution_count": null,
      "outputs": []
    },
    {
      "cell_type": "markdown",
      "metadata": {
        "id": "zSc7IuVpJ1K6",
        "colab_type": "text"
      },
      "source": [
        "### hierchical clustering"
      ]
    },
    {
      "cell_type": "code",
      "metadata": {
        "id": "koytkciqJjAM",
        "colab_type": "code",
        "colab": {}
      },
      "source": [
        "df_train = pd.DataFrame(data=X_train)"
      ],
      "execution_count": 40,
      "outputs": []
    },
    {
      "cell_type": "code",
      "metadata": {
        "id": "J7zPNJ8JJi8x",
        "colab_type": "code",
        "colab": {}
      },
      "source": [
        "from sklearn.preprocessing import normalize\n",
        "train_scaled = normalize(df_train)\n",
        "train_scaled = pd.DataFrame(train_scaled, columns=df_train.columns)\n",
        "# train_scaled.head()"
      ],
      "execution_count": 41,
      "outputs": []
    },
    {
      "cell_type": "code",
      "metadata": {
        "id": "ugl_E5y5XUYG",
        "colab_type": "code",
        "colab": {
          "base_uri": "https://localhost:8080/",
          "height": 444
        },
        "outputId": "46742309-871c-42b3-c9d3-03b795543d92"
      },
      "source": [
        "import scipy.cluster.hierarchy as shc\n",
        "plt.figure(figsize=(10, 7)) \n",
        "plt.title(\"Dendrograms\")\n",
        "dend = shc.dendrogram(shc.linkage(train_scaled, method='ward'))"
      ],
      "execution_count": 42,
      "outputs": [
        {
          "output_type": "display_data",
          "data": {
            "image/png": "[encoded data removed]",
            "text/plain": [
              "<Figure size 720x504 with 1 Axes>"
            ]
          },
          "metadata": {
            "tags": [],
            "needs_background": "light"
          }
        }
      ]
    },
    {
      "cell_type": "code",
      "metadata": {
        "id": "6q45MWfzX9sd",
        "colab_type": "code",
        "colab": {}
      },
      "source": [
        "from sklearn.cluster import AgglomerativeClustering\n",
        "cluster = AgglomerativeClustering(n_clusters=3, affinity='euclidean', linkage='ward')  \n",
        "Y_pred = cluster.fit_predict(train_scaled)"
      ],
      "execution_count": 43,
      "outputs": []
    },
    {
      "cell_type": "code",
      "metadata": {
        "id": "4eqChBeCY9eZ",
        "colab_type": "code",
        "colab": {}
      },
      "source": [
        "# PCA\n",
        "import os\n",
        "import pandas as pd\n",
        "import matplotlib.pyplot as plt\n",
        "from sklearn.decomposition import PCA\n",
        "from sklearn.manifold import TSNE\n",
        "import plotly.express as px"
      ],
      "execution_count": 44,
      "outputs": []
    },
    {
      "cell_type": "code",
      "metadata": {
        "id": "C9TOwUsTZGnH",
        "colab_type": "code",
        "colab": {}
      },
      "source": [
        "pca = PCA(n_components = 3).fit_transform(train_scaled)\n",
        "pca_df = pd.DataFrame(data = pca, columns = ['PC1', 'PC2', 'PC3'])"
      ],
      "execution_count": 45,
      "outputs": []
    },
    {
      "cell_type": "code",
      "metadata": {
        "id": "I6sscU4RaqKO",
        "colab_type": "code",
        "colab": {
          "base_uri": "https://localhost:8080/",
          "height": 542
        },
        "outputId": "26d5a7c2-3f5c-41a9-c9e8-952bb4a034f4"
      },
      "source": [
        "# true label\n",
        "pca_df1 = pd.concat([pca_df, pd.DataFrame(Y_train, columns = ['label'])], axis = 1)\n",
        "fig = px.scatter_3d(pca_df1, x='PC1', y='PC2', z='PC3',color='label')\n",
        "fig.show()"
      ],
      "execution_count": 46,
      "outputs": [
        {
          "output_type": "display_data",
          "data": {
            "text/html": [
              "<html>\n",
              "<head><meta charset=\"utf-8\" /></head>\n",
              "<body>\n",
              "    <div>\n",
              "            <script src=\"https://cdnjs.cloudflare.com/ajax/libs/mathjax/2.7.5/MathJax.js?config=TeX-AMS-MML_SVG\"></script><script type=\"text/javascript\">if (window.MathJax) {MathJax.Hub.Config({SVG: {font: \"STIX-Web\"}});}</script>\n",
              "                <script type=\"text/javascript\">window.PlotlyConfig = {MathJaxConfig: 'local'};</script>\n",
              "        <script src=\"https://cdn.plot.ly/plotly-latest.min.js\"></script>    \n",
              "            <div id=\"46f7cd7b-f26b-4563-9119-b573d72bf990\" class=\"plotly-graph-div\" style=\"height:525px; width:100%;\"></div>\n",
              "            <script type=\"text/javascript\">\n",
              "                \n",
              "                    window.PLOTLYENV=window.PLOTLYENV || {};\n",
              "                    \n",
              "                if (document.getElementById(\"46f7cd7b-f26b-4563-9119-b573d72bf990\")) {\n",
              "                    Plotly.newPlot(\n",
              "                        '46f7cd7b-f26b-4563-9119-b573d72bf990',\n",
              "                        [{\"hoverlabel\": {\"namelength\": 0}, \"hovertemplate\": \"label=bee<br>PC1=%{x}<br>PC2=%{y}<br>PC3=%{z}\", \"legendgroup\": \"label=bee\", \"marker\": {\"color\": \"#636efa\", \"symbol\": \"circle\"}, \"mode\": \"markers\", \"name\": \"label=bee\", \"scene\": \"scene\", \"showlegend\": true, \"type\": \"scatter3d\", \"x\": [0.11739736805437902, -0.10105536493378613, -0.10268861016448451, -0.11597257894523877, -0.10545536273550349, -0.10755946749135482, -0.10754217830331884, -0.10448370661593924, -0.10833958725098597, -0.11140798681990416, -0.1117291526724187, -0.1134509405810055, -0.10547269910849347, -0.11720720966223296, -0.11408414443755695, -0.10888488920653835, -0.11142583006983979, -0.10429043114840086, -0.10802519459490008, -0.1101105056208645, -0.11457487725080155, -0.11291820787074573, -0.10737185616355199, -0.11424341368213149, -0.11466703743182359, -0.11162810055769823, -0.11024468885457869, -0.11370064207712179, -0.11006435543484655, -0.11065161492901189, 0.11387190414159892, 0.1136492922788962, 0.10177214704193176, 0.10157516384790101, 0.09756224924277225, 0.10605109898924138, 0.10917630521341042, 0.10563333602508697, 0.10679471896638745, 0.10461229097784716, 0.10621715885061585, 0.10258185709247024, 0.11037887722417329, 0.09857999979819727, 0.08308127773427383, 0.10030922659412497, 0.09964638940624276, 0.09785273226703767, 0.09806954139871743, 0.08184126499330738, 0.08580006373009191, 0.08486602952475991, 0.07530542351898802, 0.10828308379765206, 0.10291680524071645, 0.11072938974495784, 0.11122215069789017, 0.1004443663447626, 0.11492473538033883, 0.10841778678505126, 0.11617866967305063, 0.11632176239209234, 0.10485875838096603, 0.10466485276064136, 0.12058231078773655, 0.10567564340106299, 0.0926114889163257, 0.07441003244747704, -0.020701201625263576, -0.011996225655503198, -0.017648863895069502, -0.02553684608523216, -0.014214496453586804, -0.008832880354272286, -0.015095518151498096, -0.010908430522057522, -0.019480340660361493, -0.022996473905118543, -0.023176854445961948, -0.010600285066289846, -0.0043037037539869665, -0.0015197153126290436, -0.010419427531495967, -0.024074665873016973, -0.02060050954594912, -0.01458444955227084, -0.011931705428512558, -0.014839812809012837, -0.02421713287172731, -0.016834081284849187, -0.02357108010295592, -0.01572430334095791, -0.010224292312939453, 0.0022854538866232035, -0.0019870457731183976, 0.008687150933568298, -0.005452902445944651, 0.003166701787356643, 0.006731974427702555], \"y\": [0.060954891411049573, -0.02961532419243327, -0.026058252995976375, -0.04656864243695564, -0.039845315109880146, -0.04391385494820765, -0.04748454743718453, -0.028609986722985977, -0.03516220036949585, -0.0321033865431524, -0.03934176807533093, -0.04505191242124877, -0.03043136160791183, -0.045022585114240926, -0.04309670334433401, -0.04303874719995489, -0.04019364778511135, -0.03584920173645435, -0.046060152322074506, -0.04412644924374457, -0.04548343922606753, -0.04641317567749571, -0.03675570436451545, -0.048133038822954194, -0.039865690669341605, -0.04481339081987313, -0.04398706024871724, -0.03654141123388323, -0.034636745124647074, -0.03879417975747946, -0.022564479555169898, -0.016014998918451942, -0.023038104345525563, -0.025866124233909563, -0.030276355105199212, -0.013995207431595767, -0.01045573562813114, -0.013762305834030127, -0.01602593518966539, -0.02354990192338795, -0.012180220433837884, -0.02447264795987034, -0.0182779187496645, -0.01430622765492397, -0.02651832429436442, -0.025251185029042767, -0.029258445378719918, -0.028735252851737413, -0.024916694276816826, -0.022593896934137863, -0.025822753450922612, -0.03219477436495858, -0.04033888714762999, -0.04140401303388617, -0.04817089710838097, -0.021245683948297386, -0.016911344073194334, -0.010477260117190152, -0.007768786358556712, -0.009541107760734175, -0.010203915275231767, -0.010818065095191527, -0.019421249460323968, -0.02054666286169041, -0.013912617270725599, -0.018096064270922703, -0.028708073957394935, -0.02836902857131256, 0.024228509641783833, 0.030260294233500847, 0.026593973424315118, 0.028365905888827016, 0.03489323414777753, 0.0278198267736361, 0.02647114230137838, 0.03507064056167075, 0.03809559859888594, 0.035303343046268795, 0.031196427029286263, 0.0460782313105282, 0.053547176715149775, 0.04055322901127017, 0.03238931066609587, 0.036211497053216336, 0.03158270221215343, 0.031005238443521207, 0.026911959056339353, 0.028917380828649766, 0.029686655896207403, 0.03746771468637416, 0.033541862083207474, 0.039784069215519434, 0.041268730262300574, 0.03133581064809487, 0.022517448089513142, 0.03355079454649595, 0.03129484893272508, 0.03402055639175729, 0.0303893225480022], \"z\": [0.051301239088149604, -0.02220303951569889, -0.024575508899978376, -0.013863963201760542, -0.019589984238055396, -0.016683460604792897, -0.016701722986531324, -0.01648549610223837, -0.014272922893896919, -0.01736379798066083, -0.01497549784479931, -0.016679748689110152, -0.012530791435355978, -0.018291578162671684, -0.018781683513438112, -0.019037089859151826, -0.01599325063936828, -0.014794902966415379, -0.017817463617266775, -0.013970710901293329, -0.013663787385961424, -0.013603644771220691, -0.013791418255762014, -0.01669875800243213, -0.012206459090027287, -0.014748789022471672, -0.01769615242136643, -0.024770422657635002, -0.017138482226068123, -0.012792257534896394, 0.004823331937712481, 0.0069102788365663975, 0.005914229104158292, 0.006614173089491377, 0.003903058748406952, 0.004782068753509441, -0.001093968998763649, -0.004360828618274788, -0.005247997071943716, -0.0004169681074345445, 0.0010439525803821591, -0.0010497993568457245, -0.003783526520829067, 0.005835872634914927, 0.007774468306610295, 0.016660814078855606, 0.007536689414906477, 0.009150859658245667, 0.014089366239625546, 0.008148776675884538, -0.0009983890799920292, 0.0023638563489987493, 0.006751033825415998, 0.0022619219274224974, 0.009724364736427024, -0.0007406339612818453, -0.0015969110696721271, -0.001756988218211193, 0.0014438941535759929, 0.002456061545580919, -0.010291029202348046, -0.004446977188877349, -0.0037705383155701095, -0.0021703960351167136, 0.016699363615715612, 0.001849679076858383, -0.0024739133957494995, -0.0027126768895348184, -0.020531688371486004, -0.027896973203485387, -0.02818384010277006, -0.027276922635111542, -0.03559973450175699, -0.02675680637227972, -0.024986852630646855, -0.019749796817847755, -0.01751724629089982, -0.0262100593875294, -0.01720194922544102, -0.013854886778470443, 0.000513884178197176, -0.008010790582484665, -0.020922387801054005, -0.026319778002952487, -0.02753476102980081, -0.03661534253112369, -0.032701618074166626, -0.030710237175233916, -0.0338615556363458, -0.03803065782952675, -0.02840230138009586, -0.030709462572498694, -0.0185506781079338, -0.02317902635237239, -0.027781032285861554, -0.03637141400308802, -0.024966803395019426, -0.0274427752559026, -0.028596162286021975]}, {\"hoverlabel\": {\"namelength\": 0}, \"hovertemplate\": \"label=unknown<br>PC1=%{x}<br>PC2=%{y}<br>PC3=%{z}\", \"legendgroup\": \"label=unknown\", \"marker\": {\"color\": \"#EF553B\", \"symbol\": \"circle\"}, \"mode\": \"markers\", \"name\": \"label=unknown\", \"scene\": \"scene\", \"showlegend\": true, \"type\": \"scatter3d\", \"x\": [-0.10452680946117304, -0.08455547542522511, -0.08009203012996782, -0.08131897808710992, -0.08104686274134418, -0.07363697621398728, -0.06619981484799692, -0.0710269939148477, -0.07050948147677796, -0.07506369387136223, -0.05981659675604758, -0.06934970585592885, -0.07775729333284653, -0.07129651143125122, -0.08206133376966036, -0.0775711935898531, -0.0752161524825174, -0.0810354858685686, -0.07912486342833207, -0.06649427219351318, -0.07529497217710304, 0.09626060423072325, 0.11204375860591427, 0.10622388967927565, 0.08935713378846066, 0.08085533699686968, 0.010209607271665205, -0.0015385496115200127, 0.0005295190757384089, -0.003962051402862802, -0.013398416912043283, -0.01710454860986029, -0.00803272165912144, -0.012212740605492083, 0.006981539056023118, 0.026534942006181263, 0.008840606271384206, -0.001505772838169433], \"y\": [-0.04299348704324679, 0.004963817074721638, 0.012029774163566744, 0.011789180335602294, 0.015003695256586253, 0.030395617509502922, 0.025371340551145722, 0.021920962380318907, 0.013521049967539386, 0.0011962115568454423, 0.011289500326521143, 0.006868139724464331, 0.024738363688362096, 0.003804868489367779, 0.011597936157900812, 0.004933202253030824, 0.008343343484423183, 0.009339153492953327, 0.009803481887684748, 0.021745740815573705, 0.013187436466234385, -0.023827317637510496, -0.007787477907827903, -0.020803601184290844, -0.016495099355787083, -0.018668086188585696, 0.055298431334233025, 0.017592184386067893, 0.03288609425022947, 0.04110917581976058, 0.041897423371064536, 0.03778120323395389, 0.02806339720035246, 0.04020307872615825, 0.04140967993626886, 0.070555331029308, 0.03228472114302809, 0.028956042431270434], \"z\": [-0.017874196693531293, 0.04425401440009963, 0.04331204478408203, 0.042775097160573344, 0.04400853480038272, 0.03588782318624486, 0.03646191956496114, 0.04557511715678173, 0.04611125647068841, 0.03981049400604922, 0.053648762141371306, 0.05410817511331886, 0.06123118332995692, 0.04428237517055887, 0.043893347205057, 0.052641799870579285, 0.0556657034214797, 0.04841555373454272, 0.04810069472570425, 0.04510738375333981, 0.05314102526546603, 0.006987437654411939, 0.03517053986815305, 0.008539211025574863, 0.01566965222970502, 0.00023962123556490938, -0.01027345160597958, -0.015491997253143446, -0.027346667224015485, -0.017133676441586167, -0.03599146945473888, -0.01507234297121577, -0.02446031786673878, -0.024076346608074898, -0.024403143644526146, 0.004770675792574683, -0.028353557379335717, -0.016274288967298017]}, {\"hoverlabel\": {\"namelength\": 0}, \"hovertemplate\": \"label=nobee<br>PC1=%{x}<br>PC2=%{y}<br>PC3=%{z}\", \"legendgroup\": \"label=nobee\", \"marker\": {\"color\": \"#00cc96\", \"symbol\": \"circle\"}, \"mode\": \"markers\", \"name\": \"label=nobee\", \"scene\": \"scene\", \"showlegend\": true, \"type\": \"scatter3d\", \"x\": [-0.08336001729544154, -0.07626353004624643, -0.06137821920686551, -0.055336393370402435, -0.07351692433836021, -0.07532742577167569, -0.07825519807506538, 0.1017005666502283, 0.11139702846912877, 0.1337028227281748, 0.1103618047354082, 0.1155497131185402, 0.11200431111762443, 0.1044706594629894, 0.1027961092496498, 0.10058646513756912, 0.10269073937645835, 0.0934957473785724, 0.0035166468538793184, 0.00880792864838251, 0.01914583618048398, -0.0026409287696353653, -0.008169337552695345, -0.008079998292211107], \"y\": [0.005310097745456508, 0.020285168852186085, 0.02162437505421129, 0.01739544393761084, 0.017094542094145335, 0.012951048070173497, 0.012192165611268253, -0.015748451375962196, -0.013840081785691464, 0.004453789757936945, -0.024348245835199324, -0.0007146418165031057, -0.004160830025268616, -0.013632427204906802, -0.011507166203457375, -0.02536457776928768, -0.007473766241278747, 0.003109300670906782, 0.042405685779751276, 0.054661828476538644, 0.06107808195507205, 0.05499107983334619, 0.038812399234490286, 0.04282136780854817], \"z\": [0.040726891668116647, 0.05220520731021315, 0.06204078071822864, 0.043985618721814446, 0.06068679140015282, 0.05442435692322194, 0.050354343978418314, 0.00269960946518032, 0.0014764317500382573, 0.0038406985671504126, 0.001137613859147304, 0.020330303096649356, 0.01053178114350836, -0.012577369660438865, 0.0028168972029104207, 0.002215243569436733, 0.019871052330928552, 0.0219465582281744, -0.017958997039042527, -0.01567751003938226, 0.0018109651616466348, -0.01031099696643381, -0.01580154425803973, -0.017278084574270762]}],\n",
              "                        {\"legend\": {\"tracegroupgap\": 0}, \"margin\": {\"t\": 60}, \"scene\": {\"domain\": {\"x\": [0.0, 1.0], \"y\": [0.0, 1.0]}, \"xaxis\": {\"title\": {\"text\": \"PC1\"}}, \"yaxis\": {\"title\": {\"text\": \"PC2\"}}, \"zaxis\": {\"title\": {\"text\": \"PC3\"}}}, \"template\": {\"data\": {\"bar\": [{\"error_x\": {\"color\": \"#2a3f5f\"}, \"error_y\": {\"color\": \"#2a3f5f\"}, \"marker\": {\"line\": {\"color\": \"#E5ECF6\", \"width\": 0.5}}, \"type\": \"bar\"}], \"barpolar\": [{\"marker\": {\"line\": {\"color\": \"#E5ECF6\", \"width\": 0.5}}, \"type\": \"barpolar\"}], \"carpet\": [{\"aaxis\": {\"endlinecolor\": \"#2a3f5f\", \"gridcolor\": \"white\", \"linecolor\": \"white\", \"minorgridcolor\": \"white\", \"startlinecolor\": \"#2a3f5f\"}, \"baxis\": {\"endlinecolor\": \"#2a3f5f\", \"gridcolor\": \"white\", \"linecolor\": \"white\", \"minorgridcolor\": \"white\", \"startlinecolor\": \"#2a3f5f\"}, \"type\": \"carpet\"}], \"choropleth\": [{\"colorbar\": {\"outlinewidth\": 0, \"ticks\": \"\"}, \"type\": \"choropleth\"}], \"contour\": [{\"colorbar\": {\"outlinewidth\": 0, \"ticks\": \"\"}, \"colorscale\": [[0.0, \"#0d0887\"], [0.1111111111111111, \"#46039f\"], [0.2222222222222222, \"#7201a8\"], [0.3333333333333333, \"#9c179e\"], [0.4444444444444444, \"#bd3786\"], [0.5555555555555556, \"#d8576b\"], [0.6666666666666666, \"#ed7953\"], [0.7777777777777778, \"#fb9f3a\"], [0.8888888888888888, \"#fdca26\"], [1.0, \"#f0f921\"]], \"type\": \"contour\"}], \"contourcarpet\": [{\"colorbar\": {\"outlinewidth\": 0, \"ticks\": \"\"}, \"type\": \"contourcarpet\"}], \"heatmap\": [{\"colorbar\": {\"outlinewidth\": 0, \"ticks\": \"\"}, \"colorscale\": [[0.0, \"#0d0887\"], [0.1111111111111111, \"#46039f\"], [0.2222222222222222, \"#7201a8\"], [0.3333333333333333, \"#9c179e\"], [0.4444444444444444, \"#bd3786\"], [0.5555555555555556, \"#d8576b\"], [0.6666666666666666, \"#ed7953\"], [0.7777777777777778, \"#fb9f3a\"], [0.8888888888888888, \"#fdca26\"], [1.0, \"#f0f921\"]], \"type\": \"heatmap\"}], \"heatmapgl\": [{\"colorbar\": {\"outlinewidth\": 0, \"ticks\": \"\"}, \"colorscale\": [[0.0, \"#0d0887\"], [0.1111111111111111, \"#46039f\"], [0.2222222222222222, \"#7201a8\"], [0.3333333333333333, \"#9c179e\"], [0.4444444444444444, \"#bd3786\"], [0.5555555555555556, \"#d8576b\"], [0.6666666666666666, \"#ed7953\"], [0.7777777777777778, \"#fb9f3a\"], [0.8888888888888888, \"#fdca26\"], [1.0, \"#f0f921\"]], \"type\": \"heatmapgl\"}], \"histogram\": [{\"marker\": {\"colorbar\": {\"outlinewidth\": 0, \"ticks\": \"\"}}, \"type\": \"histogram\"}], \"histogram2d\": [{\"colorbar\": {\"outlinewidth\": 0, \"ticks\": \"\"}, \"colorscale\": [[0.0, \"#0d0887\"], [0.1111111111111111, \"#46039f\"], [0.2222222222222222, \"#7201a8\"], [0.3333333333333333, \"#9c179e\"], [0.4444444444444444, \"#bd3786\"], [0.5555555555555556, \"#d8576b\"], [0.6666666666666666, \"#ed7953\"], [0.7777777777777778, \"#fb9f3a\"], [0.8888888888888888, \"#fdca26\"], [1.0, \"#f0f921\"]], \"type\": \"histogram2d\"}], \"histogram2dcontour\": [{\"colorbar\": {\"outlinewidth\": 0, \"ticks\": \"\"}, \"colorscale\": [[0.0, \"#0d0887\"], [0.1111111111111111, \"#46039f\"], [0.2222222222222222, \"#7201a8\"], [0.3333333333333333, \"#9c179e\"], [0.4444444444444444, \"#bd3786\"], [0.5555555555555556, \"#d8576b\"], [0.6666666666666666, \"#ed7953\"], [0.7777777777777778, \"#fb9f3a\"], [0.8888888888888888, \"#fdca26\"], [1.0, \"#f0f921\"]], \"type\": \"histogram2dcontour\"}], \"mesh3d\": [{\"colorbar\": {\"outlinewidth\": 0, \"ticks\": \"\"}, \"type\": \"mesh3d\"}], \"parcoords\": [{\"line\": {\"colorbar\": {\"outlinewidth\": 0, \"ticks\": \"\"}}, \"type\": \"parcoords\"}], \"pie\": [{\"automargin\": true, \"type\": \"pie\"}], \"scatter\": [{\"marker\": {\"colorbar\": {\"outlinewidth\": 0, \"ticks\": \"\"}}, \"type\": \"scatter\"}], \"scatter3d\": [{\"line\": {\"colorbar\": {\"outlinewidth\": 0, \"ticks\": \"\"}}, \"marker\": {\"colorbar\": {\"outlinewidth\": 0, \"ticks\": \"\"}}, \"type\": \"scatter3d\"}], \"scattercarpet\": [{\"marker\": {\"colorbar\": {\"outlinewidth\": 0, \"ticks\": \"\"}}, \"type\": \"scattercarpet\"}], \"scattergeo\": [{\"marker\": {\"colorbar\": {\"outlinewidth\": 0, \"ticks\": \"\"}}, \"type\": \"scattergeo\"}], \"scattergl\": [{\"marker\": {\"colorbar\": {\"outlinewidth\": 0, \"ticks\": \"\"}}, \"type\": \"scattergl\"}], \"scattermapbox\": [{\"marker\": {\"colorbar\": {\"outlinewidth\": 0, \"ticks\": \"\"}}, \"type\": \"scattermapbox\"}], \"scatterpolar\": [{\"marker\": {\"colorbar\": {\"outlinewidth\": 0, \"ticks\": \"\"}}, \"type\": \"scatterpolar\"}], \"scatterpolargl\": [{\"marker\": {\"colorbar\": {\"outlinewidth\": 0, \"ticks\": \"\"}}, \"type\": \"scatterpolargl\"}], \"scatterternary\": [{\"marker\": {\"colorbar\": {\"outlinewidth\": 0, \"ticks\": \"\"}}, \"type\": \"scatterternary\"}], \"surface\": [{\"colorbar\": {\"outlinewidth\": 0, \"ticks\": \"\"}, \"colorscale\": [[0.0, \"#0d0887\"], [0.1111111111111111, \"#46039f\"], [0.2222222222222222, \"#7201a8\"], [0.3333333333333333, \"#9c179e\"], [0.4444444444444444, \"#bd3786\"], [0.5555555555555556, \"#d8576b\"], [0.6666666666666666, \"#ed7953\"], [0.7777777777777778, \"#fb9f3a\"], [0.8888888888888888, \"#fdca26\"], [1.0, \"#f0f921\"]], \"type\": \"surface\"}], \"table\": [{\"cells\": {\"fill\": {\"color\": \"#EBF0F8\"}, \"line\": {\"color\": \"white\"}}, \"header\": {\"fill\": {\"color\": \"#C8D4E3\"}, \"line\": {\"color\": \"white\"}}, \"type\": \"table\"}]}, \"layout\": {\"annotationdefaults\": {\"arrowcolor\": \"#2a3f5f\", \"arrowhead\": 0, \"arrowwidth\": 1}, \"coloraxis\": {\"colorbar\": {\"outlinewidth\": 0, \"ticks\": \"\"}}, \"colorscale\": {\"diverging\": [[0, \"#8e0152\"], [0.1, \"#c51b7d\"], [0.2, \"#de77ae\"], [0.3, \"#f1b6da\"], [0.4, \"#fde0ef\"], [0.5, \"#f7f7f7\"], [0.6, \"#e6f5d0\"], [0.7, \"#b8e186\"], [0.8, \"#7fbc41\"], [0.9, \"#4d9221\"], [1, \"#276419\"]], \"sequential\": [[0.0, \"#0d0887\"], [0.1111111111111111, \"#46039f\"], [0.2222222222222222, \"#7201a8\"], [0.3333333333333333, \"#9c179e\"], [0.4444444444444444, \"#bd3786\"], [0.5555555555555556, \"#d8576b\"], [0.6666666666666666, \"#ed7953\"], [0.7777777777777778, \"#fb9f3a\"], [0.8888888888888888, \"#fdca26\"], [1.0, \"#f0f921\"]], \"sequentialminus\": [[0.0, \"#0d0887\"], [0.1111111111111111, \"#46039f\"], [0.2222222222222222, \"#7201a8\"], [0.3333333333333333, \"#9c179e\"], [0.4444444444444444, \"#bd3786\"], [0.5555555555555556, \"#d8576b\"], [0.6666666666666666, \"#ed7953\"], [0.7777777777777778, \"#fb9f3a\"], [0.8888888888888888, \"#fdca26\"], [1.0, \"#f0f921\"]]}, \"colorway\": [\"#636efa\", \"#EF553B\", \"#00cc96\", \"#ab63fa\", \"#FFA15A\", \"#19d3f3\", \"#FF6692\", \"#B6E880\", \"#FF97FF\", \"#FECB52\"], \"font\": {\"color\": \"#2a3f5f\"}, \"geo\": {\"bgcolor\": \"white\", \"lakecolor\": \"white\", \"landcolor\": \"#E5ECF6\", \"showlakes\": true, \"showland\": true, \"subunitcolor\": \"white\"}, \"hoverlabel\": {\"align\": \"left\"}, \"hovermode\": \"closest\", \"mapbox\": {\"style\": \"light\"}, \"paper_bgcolor\": \"white\", \"plot_bgcolor\": \"#E5ECF6\", \"polar\": {\"angularaxis\": {\"gridcolor\": \"white\", \"linecolor\": \"white\", \"ticks\": \"\"}, \"bgcolor\": \"#E5ECF6\", \"radialaxis\": {\"gridcolor\": \"white\", \"linecolor\": \"white\", \"ticks\": \"\"}}, \"scene\": {\"xaxis\": {\"backgroundcolor\": \"#E5ECF6\", \"gridcolor\": \"white\", \"gridwidth\": 2, \"linecolor\": \"white\", \"showbackground\": true, \"ticks\": \"\", \"zerolinecolor\": \"white\"}, \"yaxis\": {\"backgroundcolor\": \"#E5ECF6\", \"gridcolor\": \"white\", \"gridwidth\": 2, \"linecolor\": \"white\", \"showbackground\": true, \"ticks\": \"\", \"zerolinecolor\": \"white\"}, \"zaxis\": {\"backgroundcolor\": \"#E5ECF6\", \"gridcolor\": \"white\", \"gridwidth\": 2, \"linecolor\": \"white\", \"showbackground\": true, \"ticks\": \"\", \"zerolinecolor\": \"white\"}}, \"shapedefaults\": {\"line\": {\"color\": \"#2a3f5f\"}}, \"ternary\": {\"aaxis\": {\"gridcolor\": \"white\", \"linecolor\": \"white\", \"ticks\": \"\"}, \"baxis\": {\"gridcolor\": \"white\", \"linecolor\": \"white\", \"ticks\": \"\"}, \"bgcolor\": \"#E5ECF6\", \"caxis\": {\"gridcolor\": \"white\", \"linecolor\": \"white\", \"ticks\": \"\"}}, \"title\": {\"x\": 0.05}, \"xaxis\": {\"automargin\": true, \"gridcolor\": \"white\", \"linecolor\": \"white\", \"ticks\": \"\", \"title\": {\"standoff\": 15}, \"zerolinecolor\": \"white\", \"zerolinewidth\": 2}, \"yaxis\": {\"automargin\": true, \"gridcolor\": \"white\", \"linecolor\": \"white\", \"ticks\": \"\", \"title\": {\"standoff\": 15}, \"zerolinecolor\": \"white\", \"zerolinewidth\": 2}}}},\n",
              "                        {\"responsive\": true}\n",
              "                    ).then(function(){\n",
              "                            \n",
              "var gd = document.getElementById('46f7cd7b-f26b-4563-9119-b573d72bf990');\n",
              "var x = new MutationObserver(function (mutations, observer) {{\n",
              "        var display = window.getComputedStyle(gd).display;\n",
              "        if (!display || display === 'none') {{\n",
              "            console.log([gd, 'removed!']);\n",
              "            Plotly.purge(gd);\n",
              "            observer.disconnect();\n",
              "        }}\n",
              "}});\n",
              "\n",
              "// Listen for the removal of the full notebook cells\n",
              "var notebookContainer = gd.closest('#notebook-container');\n",
              "if (notebookContainer) {{\n",
              "    x.observe(notebookContainer, {childList: true});\n",
              "}}\n",
              "\n",
              "// Listen for the clearing of the current output cell\n",
              "var outputEl = gd.closest('.output');\n",
              "if (outputEl) {{\n",
              "    x.observe(outputEl, {childList: true});\n",
              "}}\n",
              "\n",
              "                        })\n",
              "                };\n",
              "                \n",
              "            </script>\n",
              "        </div>\n",
              "</body>\n",
              "</html>"
            ]
          },
          "metadata": {
            "tags": []
          }
        }
      ]
    },
    {
      "cell_type": "code",
      "metadata": {
        "id": "C5zJR4ITYxST",
        "colab_type": "code",
        "colab": {
          "base_uri": "https://localhost:8080/",
          "height": 542
        },
        "outputId": "de453901-e138-48b1-c8ce-94e3f0a0d958"
      },
      "source": [
        "# prediction\n",
        "pca_df2 = pd.concat([pca_df, pd.DataFrame(Y_pred, columns = ['label'])], axis = 1)\n",
        "fig2 = px.scatter_3d(pca_df2, x='PC1', y='PC2', z='PC3',color='label')\n",
        "fig2.show()"
      ],
      "execution_count": 47,
      "outputs": [
        {
          "output_type": "display_data",
          "data": {
            "text/html": [
              "<html>\n",
              "<head><meta charset=\"utf-8\" /></head>\n",
              "<body>\n",
              "    <div>\n",
              "            <script src=\"https://cdnjs.cloudflare.com/ajax/libs/mathjax/2.7.5/MathJax.js?config=TeX-AMS-MML_SVG\"></script><script type=\"text/javascript\">if (window.MathJax) {MathJax.Hub.Config({SVG: {font: \"STIX-Web\"}});}</script>\n",
              "                <script type=\"text/javascript\">window.PlotlyConfig = {MathJaxConfig: 'local'};</script>\n",
              "        <script src=\"https://cdn.plot.ly/plotly-latest.min.js\"></script>    \n",
              "            <div id=\"3caecfeb-ce42-48a1-8c19-e29b293d3c93\" class=\"plotly-graph-div\" style=\"height:525px; width:100%;\"></div>\n",
              "            <script type=\"text/javascript\">\n",
              "                \n",
              "                    window.PLOTLYENV=window.PLOTLYENV || {};\n",
              "                    \n",
              "                if (document.getElementById(\"3caecfeb-ce42-48a1-8c19-e29b293d3c93\")) {\n",
              "                    Plotly.newPlot(\n",
              "                        '3caecfeb-ce42-48a1-8c19-e29b293d3c93',\n",
              "                        [{\"hoverlabel\": {\"namelength\": 0}, \"hovertemplate\": \"PC1=%{x}<br>PC2=%{y}<br>PC3=%{z}<br>label=%{marker.color}\", \"legendgroup\": \"\", \"marker\": {\"color\": [1, 0, 0, 0, 0, 0, 0, 0, 0, 0, 0, 0, 0, 0, 0, 0, 0, 0, 0, 0, 0, 0, 0, 0, 0, 0, 0, 0, 0, 0, 0, 0, 0, 0, 0, 0, 0, 0, 0, 0, 0, 0, 0, 0, 0, 0, 0, 0, 0, 0, 0, 0, 0, 0, 0, 0, 0, 0, 1, 1, 1, 1, 1, 1, 1, 1, 1, 1, 1, 1, 1, 1, 1, 1, 1, 1, 1, 1, 1, 1, 1, 1, 1, 1, 1, 1, 1, 1, 1, 1, 1, 1, 1, 1, 1, 1, 1, 1, 1, 1, 1, 1, 1, 1, 1, 1, 1, 1, 1, 1, 1, 1, 2, 2, 2, 2, 2, 2, 2, 2, 2, 2, 2, 2, 2, 2, 2, 2, 2, 2, 2, 2, 2, 2, 2, 2, 2, 2, 2, 2, 2, 2, 2, 2, 2, 2, 2, 2, 2, 2, 2, 2, 2, 2, 2, 2, 2, 2, 2, 2, 2], \"coloraxis\": \"coloraxis\", \"symbol\": \"circle\"}, \"mode\": \"markers\", \"name\": \"\", \"scene\": \"scene\", \"showlegend\": false, \"type\": \"scatter3d\", \"x\": [0.11739736805437902, -0.10105536493378613, -0.10268861016448451, -0.11597257894523877, -0.10545536273550349, -0.10755946749135482, -0.10754217830331884, -0.10448370661593924, -0.10833958725098597, -0.11140798681990416, -0.1117291526724187, -0.1134509405810055, -0.10547269910849347, -0.11720720966223296, -0.11408414443755695, -0.10452680946117304, -0.10888488920653835, -0.11142583006983979, -0.10429043114840086, -0.10802519459490008, -0.1101105056208645, -0.11457487725080155, -0.11291820787074573, -0.10737185616355199, -0.11424341368213149, -0.11466703743182359, -0.11162810055769823, -0.11024468885457869, -0.11370064207712179, -0.11006435543484655, -0.11065161492901189, -0.08455547542522511, -0.08336001729544154, -0.08009203012996782, -0.08131897808710992, -0.08104686274134418, -0.07363697621398728, -0.06619981484799692, -0.0710269939148477, -0.07050948147677796, -0.07626353004624643, -0.07506369387136223, -0.06137821920686551, -0.05981659675604758, -0.055336393370402435, -0.06934970585592885, -0.07351692433836021, -0.07775729333284653, -0.07129651143125122, -0.07532742577167569, -0.07825519807506538, -0.08206133376966036, -0.0775711935898531, -0.0752161524825174, -0.0810354858685686, -0.07912486342833207, -0.06649427219351318, -0.07529497217710304, 0.11387190414159892, 0.1136492922788962, 0.10177214704193176, 0.10157516384790101, 0.09756224924277225, 0.10605109898924138, 0.09626060423072325, 0.1017005666502283, 0.11204375860591427, 0.10917630521341042, 0.10563333602508697, 0.10679471896638745, 0.10461229097784716, 0.10621715885061585, 0.10258185709247024, 0.11139702846912877, 0.1337028227281748, 0.1103618047354082, 0.1155497131185402, 0.11200431111762443, 0.1044706594629894, 0.11037887722417329, 0.09857999979819727, 0.1027961092496498, 0.10058646513756912, 0.10622388967927565, 0.10269073937645835, 0.08935713378846066, 0.08308127773427383, 0.10030922659412497, 0.09964638940624276, 0.09785273226703767, 0.09806954139871743, 0.08184126499330738, 0.08580006373009191, 0.08486602952475991, 0.07530542351898802, 0.10828308379765206, 0.10291680524071645, 0.11072938974495784, 0.11122215069789017, 0.1004443663447626, 0.11492473538033883, 0.10841778678505126, 0.11617866967305063, 0.11632176239209234, 0.10485875838096603, 0.10466485276064136, 0.12058231078773655, 0.10567564340106299, 0.0926114889163257, 0.07441003244747704, 0.08085533699686968, 0.0934957473785724, 0.010209607271665205, -0.020701201625263576, 0.0035166468538793184, 0.00880792864838251, 0.01914583618048398, -0.0015385496115200127, -0.011996225655503198, 0.0005295190757384089, -0.003962051402862802, -0.0026409287696353653, -0.008169337552695345, -0.017648863895069502, -0.02553684608523216, -0.014214496453586804, -0.008832880354272286, -0.015095518151498096, -0.010908430522057522, -0.019480340660361493, -0.013398416912043283, -0.022996473905118543, -0.023176854445961948, -0.010600285066289846, -0.0043037037539869665, -0.0015197153126290436, -0.008079998292211107, -0.01710454860986029, -0.010419427531495967, -0.024074665873016973, -0.00803272165912144, -0.02060050954594912, -0.01458444955227084, -0.011931705428512558, -0.014839812809012837, -0.02421713287172731, -0.016834081284849187, -0.02357108010295592, -0.01572430334095791, -0.012212740605492083, -0.010224292312939453, 0.006981539056023118, 0.026534942006181263, 0.0022854538866232035, -0.0019870457731183976, 0.008840606271384206, 0.008687150933568298, -0.001505772838169433, -0.005452902445944651, 0.003166701787356643, 0.006731974427702555], \"y\": [0.060954891411049573, -0.02961532419243327, -0.026058252995976375, -0.04656864243695564, -0.039845315109880146, -0.04391385494820765, -0.04748454743718453, -0.028609986722985977, -0.03516220036949585, -0.0321033865431524, -0.03934176807533093, -0.04505191242124877, -0.03043136160791183, -0.045022585114240926, -0.04309670334433401, -0.04299348704324679, -0.04303874719995489, -0.04019364778511135, -0.03584920173645435, -0.046060152322074506, -0.04412644924374457, -0.04548343922606753, -0.04641317567749571, -0.03675570436451545, -0.048133038822954194, -0.039865690669341605, -0.04481339081987313, -0.04398706024871724, -0.03654141123388323, -0.034636745124647074, -0.03879417975747946, 0.004963817074721638, 0.005310097745456508, 0.012029774163566744, 0.011789180335602294, 0.015003695256586253, 0.030395617509502922, 0.025371340551145722, 0.021920962380318907, 0.013521049967539386, 0.020285168852186085, 0.0011962115568454423, 0.02162437505421129, 0.011289500326521143, 0.01739544393761084, 0.006868139724464331, 0.017094542094145335, 0.024738363688362096, 0.003804868489367779, 0.012951048070173497, 0.012192165611268253, 0.011597936157900812, 0.004933202253030824, 0.008343343484423183, 0.009339153492953327, 0.009803481887684748, 0.021745740815573705, 0.013187436466234385, -0.022564479555169898, -0.016014998918451942, -0.023038104345525563, -0.025866124233909563, -0.030276355105199212, -0.013995207431595767, -0.023827317637510496, -0.015748451375962196, -0.007787477907827903, -0.01045573562813114, -0.013762305834030127, -0.01602593518966539, -0.02354990192338795, -0.012180220433837884, -0.02447264795987034, -0.013840081785691464, 0.004453789757936945, -0.024348245835199324, -0.0007146418165031057, -0.004160830025268616, -0.013632427204906802, -0.0182779187496645, -0.01430622765492397, -0.011507166203457375, -0.02536457776928768, -0.020803601184290844, -0.007473766241278747, -0.016495099355787083, -0.02651832429436442, -0.025251185029042767, -0.029258445378719918, -0.028735252851737413, -0.024916694276816826, -0.022593896934137863, -0.025822753450922612, -0.03219477436495858, -0.04033888714762999, -0.04140401303388617, -0.04817089710838097, -0.021245683948297386, -0.016911344073194334, -0.010477260117190152, -0.007768786358556712, -0.009541107760734175, -0.010203915275231767, -0.010818065095191527, -0.019421249460323968, -0.02054666286169041, -0.013912617270725599, -0.018096064270922703, -0.028708073957394935, -0.02836902857131256, -0.018668086188585696, 0.003109300670906782, 0.055298431334233025, 0.024228509641783833, 0.042405685779751276, 0.054661828476538644, 0.06107808195507205, 0.017592184386067893, 0.030260294233500847, 0.03288609425022947, 0.04110917581976058, 0.05499107983334619, 0.038812399234490286, 0.026593973424315118, 0.028365905888827016, 0.03489323414777753, 0.0278198267736361, 0.02647114230137838, 0.03507064056167075, 0.03809559859888594, 0.041897423371064536, 0.035303343046268795, 0.031196427029286263, 0.0460782313105282, 0.053547176715149775, 0.04055322901127017, 0.04282136780854817, 0.03778120323395389, 0.03238931066609587, 0.036211497053216336, 0.02806339720035246, 0.03158270221215343, 0.031005238443521207, 0.026911959056339353, 0.028917380828649766, 0.029686655896207403, 0.03746771468637416, 0.033541862083207474, 0.039784069215519434, 0.04020307872615825, 0.041268730262300574, 0.04140967993626886, 0.070555331029308, 0.03133581064809487, 0.022517448089513142, 0.03228472114302809, 0.03355079454649595, 0.028956042431270434, 0.03129484893272508, 0.03402055639175729, 0.0303893225480022], \"z\": [0.051301239088149604, -0.02220303951569889, -0.024575508899978376, -0.013863963201760542, -0.019589984238055396, -0.016683460604792897, -0.016701722986531324, -0.01648549610223837, -0.014272922893896919, -0.01736379798066083, -0.01497549784479931, -0.016679748689110152, -0.012530791435355978, -0.018291578162671684, -0.018781683513438112, -0.017874196693531293, -0.019037089859151826, -0.01599325063936828, -0.014794902966415379, -0.017817463617266775, -0.013970710901293329, -0.013663787385961424, -0.013603644771220691, -0.013791418255762014, -0.01669875800243213, -0.012206459090027287, -0.014748789022471672, -0.01769615242136643, -0.024770422657635002, -0.017138482226068123, -0.012792257534896394, 0.04425401440009963, 0.040726891668116647, 0.04331204478408203, 0.042775097160573344, 0.04400853480038272, 0.03588782318624486, 0.03646191956496114, 0.04557511715678173, 0.04611125647068841, 0.05220520731021315, 0.03981049400604922, 0.06204078071822864, 0.053648762141371306, 0.043985618721814446, 0.05410817511331886, 0.06068679140015282, 0.06123118332995692, 0.04428237517055887, 0.05442435692322194, 0.050354343978418314, 0.043893347205057, 0.052641799870579285, 0.0556657034214797, 0.04841555373454272, 0.04810069472570425, 0.04510738375333981, 0.05314102526546603, 0.004823331937712481, 0.0069102788365663975, 0.005914229104158292, 0.006614173089491377, 0.003903058748406952, 0.004782068753509441, 0.006987437654411939, 0.00269960946518032, 0.03517053986815305, -0.001093968998763649, -0.004360828618274788, -0.005247997071943716, -0.0004169681074345445, 0.0010439525803821591, -0.0010497993568457245, 0.0014764317500382573, 0.0038406985671504126, 0.001137613859147304, 0.020330303096649356, 0.01053178114350836, -0.012577369660438865, -0.003783526520829067, 0.005835872634914927, 0.0028168972029104207, 0.002215243569436733, 0.008539211025574863, 0.019871052330928552, 0.01566965222970502, 0.007774468306610295, 0.016660814078855606, 0.007536689414906477, 0.009150859658245667, 0.014089366239625546, 0.008148776675884538, -0.0009983890799920292, 0.0023638563489987493, 0.006751033825415998, 0.0022619219274224974, 0.009724364736427024, -0.0007406339612818453, -0.0015969110696721271, -0.001756988218211193, 0.0014438941535759929, 0.002456061545580919, -0.010291029202348046, -0.004446977188877349, -0.0037705383155701095, -0.0021703960351167136, 0.016699363615715612, 0.001849679076858383, -0.0024739133957494995, -0.0027126768895348184, 0.00023962123556490938, 0.0219465582281744, -0.01027345160597958, -0.020531688371486004, -0.017958997039042527, -0.01567751003938226, 0.0018109651616466348, -0.015491997253143446, -0.027896973203485387, -0.027346667224015485, -0.017133676441586167, -0.01031099696643381, -0.01580154425803973, -0.02818384010277006, -0.027276922635111542, -0.03559973450175699, -0.02675680637227972, -0.024986852630646855, -0.019749796817847755, -0.01751724629089982, -0.03599146945473888, -0.0262100593875294, -0.01720194922544102, -0.013854886778470443, 0.000513884178197176, -0.008010790582484665, -0.017278084574270762, -0.01507234297121577, -0.020922387801054005, -0.026319778002952487, -0.02446031786673878, -0.02753476102980081, -0.03661534253112369, -0.032701618074166626, -0.030710237175233916, -0.0338615556363458, -0.03803065782952675, -0.02840230138009586, -0.030709462572498694, -0.024076346608074898, -0.0185506781079338, -0.024403143644526146, 0.004770675792574683, -0.02317902635237239, -0.027781032285861554, -0.028353557379335717, -0.03637141400308802, -0.016274288967298017, -0.024966803395019426, -0.0274427752559026, -0.028596162286021975]}],\n",
              "                        {\"coloraxis\": {\"colorbar\": {\"title\": {\"text\": \"label\"}}, \"colorscale\": [[0.0, \"#0d0887\"], [0.1111111111111111, \"#46039f\"], [0.2222222222222222, \"#7201a8\"], [0.3333333333333333, \"#9c179e\"], [0.4444444444444444, \"#bd3786\"], [0.5555555555555556, \"#d8576b\"], [0.6666666666666666, \"#ed7953\"], [0.7777777777777778, \"#fb9f3a\"], [0.8888888888888888, \"#fdca26\"], [1.0, \"#f0f921\"]]}, \"legend\": {\"tracegroupgap\": 0}, \"margin\": {\"t\": 60}, \"scene\": {\"domain\": {\"x\": [0.0, 1.0], \"y\": [0.0, 1.0]}, \"xaxis\": {\"title\": {\"text\": \"PC1\"}}, \"yaxis\": {\"title\": {\"text\": \"PC2\"}}, \"zaxis\": {\"title\": {\"text\": \"PC3\"}}}, \"template\": {\"data\": {\"bar\": [{\"error_x\": {\"color\": \"#2a3f5f\"}, \"error_y\": {\"color\": \"#2a3f5f\"}, \"marker\": {\"line\": {\"color\": \"#E5ECF6\", \"width\": 0.5}}, \"type\": \"bar\"}], \"barpolar\": [{\"marker\": {\"line\": {\"color\": \"#E5ECF6\", \"width\": 0.5}}, \"type\": \"barpolar\"}], \"carpet\": [{\"aaxis\": {\"endlinecolor\": \"#2a3f5f\", \"gridcolor\": \"white\", \"linecolor\": \"white\", \"minorgridcolor\": \"white\", \"startlinecolor\": \"#2a3f5f\"}, \"baxis\": {\"endlinecolor\": \"#2a3f5f\", \"gridcolor\": \"white\", \"linecolor\": \"white\", \"minorgridcolor\": \"white\", \"startlinecolor\": \"#2a3f5f\"}, \"type\": \"carpet\"}], \"choropleth\": [{\"colorbar\": {\"outlinewidth\": 0, \"ticks\": \"\"}, \"type\": \"choropleth\"}], \"contour\": [{\"colorbar\": {\"outlinewidth\": 0, \"ticks\": \"\"}, \"colorscale\": [[0.0, \"#0d0887\"], [0.1111111111111111, \"#46039f\"], [0.2222222222222222, \"#7201a8\"], [0.3333333333333333, \"#9c179e\"], [0.4444444444444444, \"#bd3786\"], [0.5555555555555556, \"#d8576b\"], [0.6666666666666666, \"#ed7953\"], [0.7777777777777778, \"#fb9f3a\"], [0.8888888888888888, \"#fdca26\"], [1.0, \"#f0f921\"]], \"type\": \"contour\"}], \"contourcarpet\": [{\"colorbar\": {\"outlinewidth\": 0, \"ticks\": \"\"}, \"type\": \"contourcarpet\"}], \"heatmap\": [{\"colorbar\": {\"outlinewidth\": 0, \"ticks\": \"\"}, \"colorscale\": [[0.0, \"#0d0887\"], [0.1111111111111111, \"#46039f\"], [0.2222222222222222, \"#7201a8\"], [0.3333333333333333, \"#9c179e\"], [0.4444444444444444, \"#bd3786\"], [0.5555555555555556, \"#d8576b\"], [0.6666666666666666, \"#ed7953\"], [0.7777777777777778, \"#fb9f3a\"], [0.8888888888888888, \"#fdca26\"], [1.0, \"#f0f921\"]], \"type\": \"heatmap\"}], \"heatmapgl\": [{\"colorbar\": {\"outlinewidth\": 0, \"ticks\": \"\"}, \"colorscale\": [[0.0, \"#0d0887\"], [0.1111111111111111, \"#46039f\"], [0.2222222222222222, \"#7201a8\"], [0.3333333333333333, \"#9c179e\"], [0.4444444444444444, \"#bd3786\"], [0.5555555555555556, \"#d8576b\"], [0.6666666666666666, \"#ed7953\"], [0.7777777777777778, \"#fb9f3a\"], [0.8888888888888888, \"#fdca26\"], [1.0, \"#f0f921\"]], \"type\": \"heatmapgl\"}], \"histogram\": [{\"marker\": {\"colorbar\": {\"outlinewidth\": 0, \"ticks\": \"\"}}, \"type\": \"histogram\"}], \"histogram2d\": [{\"colorbar\": {\"outlinewidth\": 0, \"ticks\": \"\"}, \"colorscale\": [[0.0, \"#0d0887\"], [0.1111111111111111, \"#46039f\"], [0.2222222222222222, \"#7201a8\"], [0.3333333333333333, \"#9c179e\"], [0.4444444444444444, \"#bd3786\"], [0.5555555555555556, \"#d8576b\"], [0.6666666666666666, \"#ed7953\"], [0.7777777777777778, \"#fb9f3a\"], [0.8888888888888888, \"#fdca26\"], [1.0, \"#f0f921\"]], \"type\": \"histogram2d\"}], \"histogram2dcontour\": [{\"colorbar\": {\"outlinewidth\": 0, \"ticks\": \"\"}, \"colorscale\": [[0.0, \"#0d0887\"], [0.1111111111111111, \"#46039f\"], [0.2222222222222222, \"#7201a8\"], [0.3333333333333333, \"#9c179e\"], [0.4444444444444444, \"#bd3786\"], [0.5555555555555556, \"#d8576b\"], [0.6666666666666666, \"#ed7953\"], [0.7777777777777778, \"#fb9f3a\"], [0.8888888888888888, \"#fdca26\"], [1.0, \"#f0f921\"]], \"type\": \"histogram2dcontour\"}], \"mesh3d\": [{\"colorbar\": {\"outlinewidth\": 0, \"ticks\": \"\"}, \"type\": \"mesh3d\"}], \"parcoords\": [{\"line\": {\"colorbar\": {\"outlinewidth\": 0, \"ticks\": \"\"}}, \"type\": \"parcoords\"}], \"pie\": [{\"automargin\": true, \"type\": \"pie\"}], \"scatter\": [{\"marker\": {\"colorbar\": {\"outlinewidth\": 0, \"ticks\": \"\"}}, \"type\": \"scatter\"}], \"scatter3d\": [{\"line\": {\"colorbar\": {\"outlinewidth\": 0, \"ticks\": \"\"}}, \"marker\": {\"colorbar\": {\"outlinewidth\": 0, \"ticks\": \"\"}}, \"type\": \"scatter3d\"}], \"scattercarpet\": [{\"marker\": {\"colorbar\": {\"outlinewidth\": 0, \"ticks\": \"\"}}, \"type\": \"scattercarpet\"}], \"scattergeo\": [{\"marker\": {\"colorbar\": {\"outlinewidth\": 0, \"ticks\": \"\"}}, \"type\": \"scattergeo\"}], \"scattergl\": [{\"marker\": {\"colorbar\": {\"outlinewidth\": 0, \"ticks\": \"\"}}, \"type\": \"scattergl\"}], \"scattermapbox\": [{\"marker\": {\"colorbar\": {\"outlinewidth\": 0, \"ticks\": \"\"}}, \"type\": \"scattermapbox\"}], \"scatterpolar\": [{\"marker\": {\"colorbar\": {\"outlinewidth\": 0, \"ticks\": \"\"}}, \"type\": \"scatterpolar\"}], \"scatterpolargl\": [{\"marker\": {\"colorbar\": {\"outlinewidth\": 0, \"ticks\": \"\"}}, \"type\": \"scatterpolargl\"}], \"scatterternary\": [{\"marker\": {\"colorbar\": {\"outlinewidth\": 0, \"ticks\": \"\"}}, \"type\": \"scatterternary\"}], \"surface\": [{\"colorbar\": {\"outlinewidth\": 0, \"ticks\": \"\"}, \"colorscale\": [[0.0, \"#0d0887\"], [0.1111111111111111, \"#46039f\"], [0.2222222222222222, \"#7201a8\"], [0.3333333333333333, \"#9c179e\"], [0.4444444444444444, \"#bd3786\"], [0.5555555555555556, \"#d8576b\"], [0.6666666666666666, \"#ed7953\"], [0.7777777777777778, \"#fb9f3a\"], [0.8888888888888888, \"#fdca26\"], [1.0, \"#f0f921\"]], \"type\": \"surface\"}], \"table\": [{\"cells\": {\"fill\": {\"color\": \"#EBF0F8\"}, \"line\": {\"color\": \"white\"}}, \"header\": {\"fill\": {\"color\": \"#C8D4E3\"}, \"line\": {\"color\": \"white\"}}, \"type\": \"table\"}]}, \"layout\": {\"annotationdefaults\": {\"arrowcolor\": \"#2a3f5f\", \"arrowhead\": 0, \"arrowwidth\": 1}, \"coloraxis\": {\"colorbar\": {\"outlinewidth\": 0, \"ticks\": \"\"}}, \"colorscale\": {\"diverging\": [[0, \"#8e0152\"], [0.1, \"#c51b7d\"], [0.2, \"#de77ae\"], [0.3, \"#f1b6da\"], [0.4, \"#fde0ef\"], [0.5, \"#f7f7f7\"], [0.6, \"#e6f5d0\"], [0.7, \"#b8e186\"], [0.8, \"#7fbc41\"], [0.9, \"#4d9221\"], [1, \"#276419\"]], \"sequential\": [[0.0, \"#0d0887\"], [0.1111111111111111, \"#46039f\"], [0.2222222222222222, \"#7201a8\"], [0.3333333333333333, \"#9c179e\"], [0.4444444444444444, \"#bd3786\"], [0.5555555555555556, \"#d8576b\"], [0.6666666666666666, \"#ed7953\"], [0.7777777777777778, \"#fb9f3a\"], [0.8888888888888888, \"#fdca26\"], [1.0, \"#f0f921\"]], \"sequentialminus\": [[0.0, \"#0d0887\"], [0.1111111111111111, \"#46039f\"], [0.2222222222222222, \"#7201a8\"], [0.3333333333333333, \"#9c179e\"], [0.4444444444444444, \"#bd3786\"], [0.5555555555555556, \"#d8576b\"], [0.6666666666666666, \"#ed7953\"], [0.7777777777777778, \"#fb9f3a\"], [0.8888888888888888, \"#fdca26\"], [1.0, \"#f0f921\"]]}, \"colorway\": [\"#636efa\", \"#EF553B\", \"#00cc96\", \"#ab63fa\", \"#FFA15A\", \"#19d3f3\", \"#FF6692\", \"#B6E880\", \"#FF97FF\", \"#FECB52\"], \"font\": {\"color\": \"#2a3f5f\"}, \"geo\": {\"bgcolor\": \"white\", \"lakecolor\": \"white\", \"landcolor\": \"#E5ECF6\", \"showlakes\": true, \"showland\": true, \"subunitcolor\": \"white\"}, \"hoverlabel\": {\"align\": \"left\"}, \"hovermode\": \"closest\", \"mapbox\": {\"style\": \"light\"}, \"paper_bgcolor\": \"white\", \"plot_bgcolor\": \"#E5ECF6\", \"polar\": {\"angularaxis\": {\"gridcolor\": \"white\", \"linecolor\": \"white\", \"ticks\": \"\"}, \"bgcolor\": \"#E5ECF6\", \"radialaxis\": {\"gridcolor\": \"white\", \"linecolor\": \"white\", \"ticks\": \"\"}}, \"scene\": {\"xaxis\": {\"backgroundcolor\": \"#E5ECF6\", \"gridcolor\": \"white\", \"gridwidth\": 2, \"linecolor\": \"white\", \"showbackground\": true, \"ticks\": \"\", \"zerolinecolor\": \"white\"}, \"yaxis\": {\"backgroundcolor\": \"#E5ECF6\", \"gridcolor\": \"white\", \"gridwidth\": 2, \"linecolor\": \"white\", \"showbackground\": true, \"ticks\": \"\", \"zerolinecolor\": \"white\"}, \"zaxis\": {\"backgroundcolor\": \"#E5ECF6\", \"gridcolor\": \"white\", \"gridwidth\": 2, \"linecolor\": \"white\", \"showbackground\": true, \"ticks\": \"\", \"zerolinecolor\": \"white\"}}, \"shapedefaults\": {\"line\": {\"color\": \"#2a3f5f\"}}, \"ternary\": {\"aaxis\": {\"gridcolor\": \"white\", \"linecolor\": \"white\", \"ticks\": \"\"}, \"baxis\": {\"gridcolor\": \"white\", \"linecolor\": \"white\", \"ticks\": \"\"}, \"bgcolor\": \"#E5ECF6\", \"caxis\": {\"gridcolor\": \"white\", \"linecolor\": \"white\", \"ticks\": \"\"}}, \"title\": {\"x\": 0.05}, \"xaxis\": {\"automargin\": true, \"gridcolor\": \"white\", \"linecolor\": \"white\", \"ticks\": \"\", \"title\": {\"standoff\": 15}, \"zerolinecolor\": \"white\", \"zerolinewidth\": 2}, \"yaxis\": {\"automargin\": true, \"gridcolor\": \"white\", \"linecolor\": \"white\", \"ticks\": \"\", \"title\": {\"standoff\": 15}, \"zerolinecolor\": \"white\", \"zerolinewidth\": 2}}}},\n",
              "                        {\"responsive\": true}\n",
              "                    ).then(function(){\n",
              "                            \n",
              "var gd = document.getElementById('3caecfeb-ce42-48a1-8c19-e29b293d3c93');\n",
              "var x = new MutationObserver(function (mutations, observer) {{\n",
              "        var display = window.getComputedStyle(gd).display;\n",
              "        if (!display || display === 'none') {{\n",
              "            console.log([gd, 'removed!']);\n",
              "            Plotly.purge(gd);\n",
              "            observer.disconnect();\n",
              "        }}\n",
              "}});\n",
              "\n",
              "// Listen for the removal of the full notebook cells\n",
              "var notebookContainer = gd.closest('#notebook-container');\n",
              "if (notebookContainer) {{\n",
              "    x.observe(notebookContainer, {childList: true});\n",
              "}}\n",
              "\n",
              "// Listen for the clearing of the current output cell\n",
              "var outputEl = gd.closest('.output');\n",
              "if (outputEl) {{\n",
              "    x.observe(outputEl, {childList: true});\n",
              "}}\n",
              "\n",
              "                        })\n",
              "                };\n",
              "                \n",
              "            </script>\n",
              "        </div>\n",
              "</body>\n",
              "</html>"
            ]
          },
          "metadata": {
            "tags": []
          }
        }
      ]
    },
    {
      "cell_type": "markdown",
      "metadata": {
        "id": "nLpbBWhd6weQ",
        "colab_type": "text"
      },
      "source": [
        "#### evaluate"
      ]
    },
    {
      "cell_type": "code",
      "metadata": {
        "id": "PGM8e6V0n75R",
        "colab_type": "code",
        "colab": {}
      },
      "source": [
        "Y_relab = list()\n",
        "for l in Y_train:\n",
        "    if l == \"unknown\":\n",
        "        Y_relab.append(0)\n",
        "    elif l == \"bee\":\n",
        "        Y_relab.append(1)\n",
        "    else:\n",
        "        Y_relab.append(2)"
      ],
      "execution_count": 84,
      "outputs": []
    },
    {
      "cell_type": "code",
      "metadata": {
        "id": "YAJniK8_kx6V",
        "colab_type": "code",
        "colab": {
          "base_uri": "https://localhost:8080/",
          "height": 34
        },
        "outputId": "2f59a974-9c46-4575-b2cb-4618a6d456a2"
      },
      "source": [
        "type(Y_pred[0])"
      ],
      "execution_count": 58,
      "outputs": [
        {
          "output_type": "execute_result",
          "data": {
            "text/plain": [
              "numpy.int64"
            ]
          },
          "metadata": {
            "tags": []
          },
          "execution_count": 58
        }
      ]
    },
    {
      "cell_type": "code",
      "metadata": {
        "id": "wvGXBLdu6vC6",
        "colab_type": "code",
        "colab": {
          "base_uri": "https://localhost:8080/",
          "height": 70
        },
        "outputId": "475aa27a-767e-42bd-fc09-e4d895d39722"
      },
      "source": [
        "# confusion matrix\n",
        "from sklearn import metrics\n",
        "cm = metrics.confusion_matrix(Y_relab, Y_pred)\n",
        "# cm_df = pd.DataFrame(cm, \n",
        "#             columns = ['Predicted Negative', 'Predicted Positive'],\n",
        "#             index = ['Actual Negative', 'Actual Positive'])\n",
        "# cm_df\n",
        "cm"
      ],
      "execution_count": 85,
      "outputs": [
        {
          "output_type": "execute_result",
          "data": {
            "text/plain": [
              "array([[21,  5, 12],\n",
              "       [29, 39, 31],\n",
              "       [ 7, 11,  6]])"
            ]
          },
          "metadata": {
            "tags": []
          },
          "execution_count": 85
        }
      ]
    },
    {
      "cell_type": "code",
      "metadata": {
        "id": "pyZ1mbqJ9G2B",
        "colab_type": "code",
        "colab": {}
      },
      "source": [
        "from sklearn.metrics import precision_score\n",
        "from sklearn.metrics import recall_score\n",
        "from sklearn.metrics import f1_score"
      ],
      "execution_count": 63,
      "outputs": []
    },
    {
      "cell_type": "code",
      "metadata": {
        "id": "_icJhO979G-5",
        "colab_type": "code",
        "colab": {
          "base_uri": "https://localhost:8080/",
          "height": 34
        },
        "outputId": "4875c5af-7bd1-4d0c-b27b-6e2301882b39"
      },
      "source": [
        "precision_score(Y_relab, Y_pred, average='weighted')"
      ],
      "execution_count": 86,
      "outputs": [
        {
          "output_type": "execute_result",
          "data": {
            "text/plain": [
              "0.541234630498162"
            ]
          },
          "metadata": {
            "tags": []
          },
          "execution_count": 86
        }
      ]
    },
    {
      "cell_type": "code",
      "metadata": {
        "id": "YHnR_o1D9PZJ",
        "colab_type": "code",
        "colab": {
          "base_uri": "https://localhost:8080/",
          "height": 34
        },
        "outputId": "5fd01bc2-6b77-4741-c036-debcc5451687"
      },
      "source": [
        "recall_score(Y_relab, Y_pred, average='weighted')"
      ],
      "execution_count": 87,
      "outputs": [
        {
          "output_type": "execute_result",
          "data": {
            "text/plain": [
              "0.40993788819875776"
            ]
          },
          "metadata": {
            "tags": []
          },
          "execution_count": 87
        }
      ]
    },
    {
      "cell_type": "code",
      "metadata": {
        "id": "zYTk4c_q9Rbm",
        "colab_type": "code",
        "colab": {
          "base_uri": "https://localhost:8080/",
          "height": 34
        },
        "outputId": "64f724f2-7f45-4b41-dd44-196160cfeef5"
      },
      "source": [
        "f1_score(Y_relab, Y_pred, average='weighted')"
      ],
      "execution_count": 88,
      "outputs": [
        {
          "output_type": "execute_result",
          "data": {
            "text/plain": [
              "0.440298525604405"
            ]
          },
          "metadata": {
            "tags": []
          },
          "execution_count": 88
        }
      ]
    },
    {
      "cell_type": "code",
      "metadata": {
        "id": "m-l-5pkz9jE3",
        "colab_type": "code",
        "colab": {
          "base_uri": "https://localhost:8080/",
          "height": 385
        },
        "outputId": "8be25448-b042-421f-8dfa-a289a900d04e"
      },
      "source": [
        "# precision recall curve only support binary\n",
        "\n",
        "from sklearn.metrics import precision_recall_curve\n",
        "from sklearn.metrics import average_precision_score\n",
        "from inspect import signature\n",
        "precision, recall, threshold = precision_recall_curve(Y_relab, Y_pred)\n",
        "average_precision = average_precision_score(Y_relab, Y_pred)\n",
        "step_kwargs = ({'step': 'post'} if 'step' in signature(plt.fill_between).parameters else {})\n",
        "plt.step(recall, precision, color='r', alpha=0.2, where='post')\n",
        "plt.fill_between(recall, precision, alpha=0.2, color='r', **step_kwargs)\n",
        "plt.xlabel('Recall')\n",
        "plt.ylabel('Precision')\n",
        "plt.ylim([0.0, 1.0])\n",
        "plt.xlim([0.0, 1.0])\n",
        "plt.title('2-class Precision-Recall curve: AP={0:0.2f}'.format(average_precision))"
      ],
      "execution_count": 90,
      "outputs": [
        {
          "output_type": "error",
          "ename": "ValueError",
          "evalue": "ignored",
          "traceback": [
            "\u001b[0;31m---------------------------------------------------------------------------\u001b[0m",
            "\u001b[0;31mValueError\u001b[0m                                Traceback (most recent call last)",
            "\u001b[0;32m<ipython-input-90-ebc44a1767e7>\u001b[0m in \u001b[0;36m<module>\u001b[0;34m()\u001b[0m\n\u001b[1;32m      2\u001b[0m \u001b[0;32mfrom\u001b[0m \u001b[0msklearn\u001b[0m\u001b[0;34m.\u001b[0m\u001b[0mmetrics\u001b[0m \u001b[0;32mimport\u001b[0m \u001b[0maverage_precision_score\u001b[0m\u001b[0;34m\u001b[0m\u001b[0;34m\u001b[0m\u001b[0m\n\u001b[1;32m      3\u001b[0m \u001b[0;32mfrom\u001b[0m \u001b[0minspect\u001b[0m \u001b[0;32mimport\u001b[0m \u001b[0msignature\u001b[0m\u001b[0;34m\u001b[0m\u001b[0;34m\u001b[0m\u001b[0m\n\u001b[0;32m----> 4\u001b[0;31m \u001b[0mprecision\u001b[0m\u001b[0;34m,\u001b[0m \u001b[0mrecall\u001b[0m\u001b[0;34m,\u001b[0m \u001b[0mthreshold\u001b[0m \u001b[0;34m=\u001b[0m \u001b[0mprecision_recall_curve\u001b[0m\u001b[0;34m(\u001b[0m\u001b[0mY_relab\u001b[0m\u001b[0;34m,\u001b[0m \u001b[0mY_pred\u001b[0m\u001b[0;34m)\u001b[0m\u001b[0;34m\u001b[0m\u001b[0;34m\u001b[0m\u001b[0m\n\u001b[0m\u001b[1;32m      5\u001b[0m \u001b[0maverage_precision\u001b[0m \u001b[0;34m=\u001b[0m \u001b[0maverage_precision_score\u001b[0m\u001b[0;34m(\u001b[0m\u001b[0mY_relab\u001b[0m\u001b[0;34m,\u001b[0m \u001b[0mY_pred\u001b[0m\u001b[0;34m)\u001b[0m\u001b[0;34m\u001b[0m\u001b[0;34m\u001b[0m\u001b[0m\n\u001b[1;32m      6\u001b[0m \u001b[0mstep_kwargs\u001b[0m \u001b[0;34m=\u001b[0m \u001b[0;34m(\u001b[0m\u001b[0;34m{\u001b[0m\u001b[0;34m'step'\u001b[0m\u001b[0;34m:\u001b[0m \u001b[0;34m'post'\u001b[0m\u001b[0;34m}\u001b[0m \u001b[0;32mif\u001b[0m \u001b[0;34m'step'\u001b[0m \u001b[0;32min\u001b[0m \u001b[0msignature\u001b[0m\u001b[0;34m(\u001b[0m\u001b[0mplt\u001b[0m\u001b[0;34m.\u001b[0m\u001b[0mfill_between\u001b[0m\u001b[0;34m)\u001b[0m\u001b[0;34m.\u001b[0m\u001b[0mparameters\u001b[0m \u001b[0;32melse\u001b[0m \u001b[0;34m{\u001b[0m\u001b[0;34m}\u001b[0m\u001b[0;34m)\u001b[0m\u001b[0;34m\u001b[0m\u001b[0;34m\u001b[0m\u001b[0m\n",
            "\u001b[0;32m/usr/local/lib/python3.6/dist-packages/sklearn/metrics/_ranking.py\u001b[0m in \u001b[0;36mprecision_recall_curve\u001b[0;34m(y_true, probas_pred, pos_label, sample_weight)\u001b[0m\n\u001b[1;32m    671\u001b[0m     fps, tps, thresholds = _binary_clf_curve(y_true, probas_pred,\n\u001b[1;32m    672\u001b[0m                                              \u001b[0mpos_label\u001b[0m\u001b[0;34m=\u001b[0m\u001b[0mpos_label\u001b[0m\u001b[0;34m,\u001b[0m\u001b[0;34m\u001b[0m\u001b[0;34m\u001b[0m\u001b[0m\n\u001b[0;32m--> 673\u001b[0;31m                                              sample_weight=sample_weight)\n\u001b[0m\u001b[1;32m    674\u001b[0m \u001b[0;34m\u001b[0m\u001b[0m\n\u001b[1;32m    675\u001b[0m     \u001b[0mprecision\u001b[0m \u001b[0;34m=\u001b[0m \u001b[0mtps\u001b[0m \u001b[0;34m/\u001b[0m \u001b[0;34m(\u001b[0m\u001b[0mtps\u001b[0m \u001b[0;34m+\u001b[0m \u001b[0mfps\u001b[0m\u001b[0;34m)\u001b[0m\u001b[0;34m\u001b[0m\u001b[0;34m\u001b[0m\u001b[0m\n",
            "\u001b[0;32m/usr/local/lib/python3.6/dist-packages/sklearn/metrics/_ranking.py\u001b[0m in \u001b[0;36m_binary_clf_curve\u001b[0;34m(y_true, y_score, pos_label, sample_weight)\u001b[0m\n\u001b[1;32m    534\u001b[0m     if not (y_type == \"binary\" or\n\u001b[1;32m    535\u001b[0m             (y_type == \"multiclass\" and pos_label is not None)):\n\u001b[0;32m--> 536\u001b[0;31m         \u001b[0;32mraise\u001b[0m \u001b[0mValueError\u001b[0m\u001b[0;34m(\u001b[0m\u001b[0;34m\"{0} format is not supported\"\u001b[0m\u001b[0;34m.\u001b[0m\u001b[0mformat\u001b[0m\u001b[0;34m(\u001b[0m\u001b[0my_type\u001b[0m\u001b[0;34m)\u001b[0m\u001b[0;34m)\u001b[0m\u001b[0;34m\u001b[0m\u001b[0;34m\u001b[0m\u001b[0m\n\u001b[0m\u001b[1;32m    537\u001b[0m \u001b[0;34m\u001b[0m\u001b[0m\n\u001b[1;32m    538\u001b[0m     \u001b[0mcheck_consistent_length\u001b[0m\u001b[0;34m(\u001b[0m\u001b[0my_true\u001b[0m\u001b[0;34m,\u001b[0m \u001b[0my_score\u001b[0m\u001b[0;34m,\u001b[0m \u001b[0msample_weight\u001b[0m\u001b[0;34m)\u001b[0m\u001b[0;34m\u001b[0m\u001b[0;34m\u001b[0m\u001b[0m\n",
            "\u001b[0;31mValueError\u001b[0m: multiclass format is not supported"
          ]
        }
      ]
    },
    {
      "cell_type": "code",
      "metadata": {
        "id": "VJIG6amc7-h-",
        "colab_type": "code",
        "colab": {}
      },
      "source": [
        ""
      ],
      "execution_count": null,
      "outputs": []
    }
  ]
}